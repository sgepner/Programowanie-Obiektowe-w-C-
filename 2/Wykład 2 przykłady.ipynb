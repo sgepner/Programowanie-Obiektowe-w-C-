{
 "cells": [
  {
   "cell_type": "markdown",
   "metadata": {},
   "source": [
    "# Struktury, klasy i konstruktory\n",
    "## Struktura i klasa\n",
    "### C\n",
    "Zaczniemy od stworzenia namiastki obiektowości w języku C, (który już znamy?). W tym celu użyjemy struktury, czyli konstruktu dostępnego w C do tworzenia nowych, złożonych typów. Struktura w C nie moze posiadać metod, nie ma też mozliwości jej hermetyzacji (nie da się ograniczyć dostępu). Można jednak przekazać do niej wskaźniki do funkcji uzyskująć namiastkę metod.\n",
    "\n",
    "Poniższy przykład pokazuje przykład napisany w języku C, w którym struktura *student* posiada wskaźnik do funkcji."
   ]
  },
  {
   "cell_type": "code",
   "execution_count": 1,
   "metadata": {},
   "outputs": [
    {
     "name": "stdout",
     "output_type": "stream",
     "text": [
      " Student 207778 recived 2.0 \n",
      " Student 217778 recived 3.0 \n"
     ]
    }
   ],
   "source": [
    "#include <stdio.h>\n",
    "//typedef struct student student;\n",
    "struct student{\n",
    "  int numerindeksu;\n",
    "  float ocenazcpp;\n",
    "  \n",
    "  void  (*pprint)(struct student*); // In C we can not have methods within structures\n",
    "  // But we can store pointers to functions\n",
    "  //and initialize them as we create a new variable\n",
    "};\n",
    "\n",
    "void print(struct student* self)\n",
    "{\n",
    "  printf(\" Student %d recived %1.1f \\n\", self->numerindeksu, self->ocenazcpp);\n",
    "}\n",
    "\n",
    "int main(){\n",
    "    struct student s1;\n",
    "    struct student s2;\n",
    "    s1.pprint = print;\n",
    "    s2.pprint = print;\n",
    "    \n",
    "    s1.numerindeksu = 207778;\n",
    "    s1.ocenazcpp = 2;\n",
    "    \n",
    "    s2.numerindeksu = 217778;\n",
    "    s2.ocenazcpp = 3;\n",
    "    \n",
    "    s1.pprint(&s1);\n",
    "    s1.pprint(&s2);\n",
    "}"
   ]
  },
  {
   "cell_type": "markdown",
   "metadata": {},
   "source": [
    "### C++\n",
    "W C++ struktura dopuszcza więcej możliwości. Może posiadać **metody** a także ma możliwość zastosowania hermetyzacji przez użycie **modyfikatorów dostępu** (na razie tylko *private* i *public*). Dla struktury domyślnie wszystko jest publiczne."
   ]
  },
  {
   "cell_type": "code",
   "execution_count": 1,
   "metadata": {},
   "outputs": [
    {
     "data": {
      "text/plain": []
     },
     "execution_count": 1,
     "metadata": {},
     "output_type": "execute_result"
    }
   ],
   "source": [
    "#include <iostream>\n",
    "using namespace std;\n",
    "\n",
    "struct student{\n",
    "  int numerindeksu;\n",
    "  float ocenazcpp;\n",
    "  \n",
    "  void print(void)\n",
    "  {\n",
    "    cout << \" Student \" << numerindeksu << \" recived \" << ocenazcpp << endl;\n",
    "  }\n",
    "};"
   ]
  },
  {
   "cell_type": "code",
   "execution_count": 2,
   "metadata": {},
   "outputs": [
    {
     "name": "stdout",
     "output_type": "stream",
     "text": [
      " Student 207778 recived 2\n"
     ]
    },
    {
     "data": {
      "text/plain": [
       "(void) @0x7f23feffbcd0\n"
      ]
     },
     "execution_count": 2,
     "metadata": {},
     "output_type": "execute_result"
    }
   ],
   "source": [
    "student s1,s2;\n",
    "s1.numerindeksu = 207778;\n",
    "s1.ocenazcpp = 2.0;\n",
    "  \n",
    "s1.print();"
   ]
  },
  {
   "cell_type": "code",
   "execution_count": 1,
   "metadata": {},
   "outputs": [
    {
     "data": {
      "text/plain": []
     },
     "execution_count": 1,
     "metadata": {},
     "output_type": "execute_result"
    }
   ],
   "source": [
    "#include <iostream>\n",
    "using namespace std;\n",
    "\n",
    "struct student{\n",
    "  int numerindeksu;\n",
    "    \n",
    "  void setOcena(float o)\n",
    "  {\n",
    "      if(o<2.0)\n",
    "          o = 2.0;\n",
    "      else if(o > 5.0)\n",
    "          o = 5.0;\n",
    "      ocenazcpp=o;\n",
    "  }\n",
    "  void print(void)\n",
    "  {\n",
    "    cout << \" Student \" << numerindeksu << \" recived \" << ocenazcpp << endl;\n",
    "  }\n",
    "    \n",
    "  private:\n",
    "      float ocenazcpp;\n",
    "};"
   ]
  },
  {
   "cell_type": "code",
   "execution_count": 2,
   "metadata": {},
   "outputs": [
    {
     "name": "stderr",
     "output_type": "stream",
     "text": [
      "input_line_4:4:4: error: 'ocenazcpp' is a private member of 'student'\n",
      "s1.ocenazcpp = 2.0; // to jest prywatne!\n",
      "   ^\n",
      "input_line_3:22:13: note: declared private here\n",
      "      float ocenazcpp;\n",
      "            ^\n"
     ]
    },
    {
     "ename": "ename",
     "evalue": "evalue",
     "output_type": "error",
     "traceback": []
    }
   ],
   "source": [
    "student s1;\n",
    "s1.numerindeksu = 207778;\n",
    "s1.ocenazcpp = 2.0; // to jest prywatne!\n",
    "  \n",
    "s1.print();"
   ]
  },
  {
   "cell_type": "code",
   "execution_count": 3,
   "metadata": {},
   "outputs": [
    {
     "data": {
      "text/plain": []
     },
     "execution_count": 3,
     "metadata": {},
     "output_type": "execute_result"
    }
   ],
   "source": [
    "student s1,s2;"
   ]
  },
  {
   "cell_type": "code",
   "execution_count": 5,
   "metadata": {},
   "outputs": [
    {
     "name": "stdout",
     "output_type": "stream",
     "text": [
      " Student 207778 recived 5\n"
     ]
    },
    {
     "data": {
      "text/plain": [
       "(void) @0x7fb2c2dffcd0\n"
      ]
     },
     "execution_count": 5,
     "metadata": {},
     "output_type": "execute_result"
    }
   ],
   "source": [
    "s1.numerindeksu = 207778;\n",
    "s1.setOcena(10.0);\n",
    "  \n",
    "s1.print();"
   ]
  },
  {
   "cell_type": "code",
   "execution_count": 6,
   "metadata": {},
   "outputs": [
    {
     "name": "stdout",
     "output_type": "stream",
     "text": [
      " Student 207778 recived 3\n"
     ]
    },
    {
     "data": {
      "text/plain": [
       "(void) @0x7fb2c2dffcd0\n"
      ]
     },
     "execution_count": 6,
     "metadata": {},
     "output_type": "execute_result"
    }
   ],
   "source": [
    "s1.setOcena(3.0);\n",
    "s1.print();"
   ]
  },
  {
   "cell_type": "markdown",
   "metadata": {},
   "source": [
    "Nie możemy natomiast modyfikować atrybuktów struktury, które są prywatne. O czym dowiemy się już w czasie próby kompilacji:"
   ]
  },
  {
   "cell_type": "code",
   "execution_count": 7,
   "metadata": {},
   "outputs": [
    {
     "name": "stderr",
     "output_type": "stream",
     "text": [
      "input_line_10:2:5: error: 'ocenazcpp' is a private member of 'student'\n",
      " s2.ocenazcpp = 3.0;\n",
      "    ^\n",
      "input_line_3:22:13: note: declared private here\n",
      "      float ocenazcpp;\n",
      "            ^\n"
     ]
    },
    {
     "ename": "ename",
     "evalue": "evalue",
     "output_type": "error",
     "traceback": []
    }
   ],
   "source": [
    "s2.ocenazcpp = 3.0;"
   ]
  },
  {
   "cell_type": "markdown",
   "metadata": {},
   "source": [
    "## Klasa\n",
    "Rozwinięciem pojęcia struktury jest klasa, która będzie nam towarzyszyć przez resztę naszych zajęć. Definiujemy ją następująco:"
   ]
  },
  {
   "cell_type": "code",
   "execution_count": null,
   "metadata": {},
   "outputs": [],
   "source": [
    "class nazwa_klasy{\n",
    "    //ciało klasy\n",
    "    //tu znajdą się deklaracje atrybutów i metod\n",
    "};"
   ]
  },
  {
   "cell_type": "markdown",
   "metadata": {},
   "source": [
    "Przykład ze studentem wyglądać będzie tak:"
   ]
  },
  {
   "cell_type": "code",
   "execution_count": 1,
   "metadata": {},
   "outputs": [
    {
     "data": {
      "text/plain": []
     },
     "execution_count": 1,
     "metadata": {},
     "output_type": "execute_result"
    }
   ],
   "source": [
    "#include <iostream>\n",
    "using namespace std;\n",
    "\n",
    "class student{\n",
    "  public:\n",
    "    int numerindeksu;\n",
    "    void setOcena(float o){ocenazcpp=o;}\n",
    "    void print(void)\n",
    "    {\n",
    "        cout <<\" Student \"<<numerindeksu<< \" recived \" << ocenazcpp << endl;\n",
    "    }\n",
    "  private:\n",
    "    float ocenazcpp;\n",
    "};"
   ]
  },
  {
   "cell_type": "code",
   "execution_count": 2,
   "metadata": {},
   "outputs": [
    {
     "name": "stdout",
     "output_type": "stream",
     "text": [
      " Student 234 recived 3\n"
     ]
    },
    {
     "data": {
      "text/plain": [
       "(void) @0x7f74a37fccd0\n"
      ]
     },
     "execution_count": 2,
     "metadata": {},
     "output_type": "execute_result"
    }
   ],
   "source": [
    "student s1;\n",
    "s1.numerindeksu = 234;\n",
    "\n",
    "s1.setOcena(3);\n",
    "s1.print();"
   ]
  },
  {
   "cell_type": "code",
   "execution_count": 3,
   "metadata": {},
   "outputs": [
    {
     "name": "stdout",
     "output_type": "stream",
     "text": [
      " Student 234 recived 4\n"
     ]
    },
    {
     "data": {
      "text/plain": [
       "(void) @0x7f74a37fccd0\n"
      ]
     },
     "execution_count": 3,
     "metadata": {},
     "output_type": "execute_result"
    }
   ],
   "source": [
    "student *ps1 = &s1;\n",
    "\n",
    "ps1->setOcena(4);\n",
    "ps1->print();"
   ]
  },
  {
   "cell_type": "markdown",
   "metadata": {},
   "source": [
    "## Metody\n",
    "Klasa może definiować funkcje, czyli metody. Deklaracja metod musi się znajdować w ciele klasy. Definicja (czyli implementacja) może się znajdować poza ciałem, a nawet w innym pliku (ale o tym może przekonamy sie na laboratoriach). Wówczas metode definiujemy z operatorem dostępu '::'.\n",
    "\n",
    "W przykładzie poniżej rozwijamy klase student w następujący sposób. Atrybut *numerindeksu* przenosimy do sekcji *private:* i dodajemy metodę jej manipulowania *setNrIdeksu()*. Ciało zdefiniowane jest poza klasą. Po co nam to? Moze się zdażyć, że metoda będzie długa i skomplikowana. Wygodniej będzie umieścić ją poza ciałem klasy, a może nawet w oddzielnym pliku .cpp."
   ]
  },
  {
   "cell_type": "code",
   "execution_count": 1,
   "metadata": {},
   "outputs": [
    {
     "data": {
      "text/plain": []
     },
     "execution_count": 1,
     "metadata": {},
     "output_type": "execute_result"
    }
   ],
   "source": [
    "#include <iostream>\n",
    "using namespace std;\n",
    "\n",
    "class student{\n",
    "  public:\n",
    "    void setOcena(float o){ocenazcpp=o;}\n",
    "    void print(void){\n",
    "        cout <<\" Student \"<<numerindeksu<< \" recived \" << ocenazcpp << endl;\n",
    "    }\n",
    "    void setNrIdeksu(int ni); //Deklaracja metody\n",
    "    \n",
    "  private:\n",
    "    float ocenazcpp;\n",
    "    int numerindeksu;\n",
    "};"
   ]
  },
  {
   "cell_type": "code",
   "execution_count": 4,
   "metadata": {},
   "outputs": [
    {
     "data": {
      "text/plain": []
     },
     "execution_count": 4,
     "metadata": {},
     "output_type": "execute_result"
    }
   ],
   "source": [
    "void student::setNrIdeksu(int ni) // Definicja poza klasą\n",
    "{\n",
    "    numerindeksu = ni;\n",
    "}"
   ]
  },
  {
   "cell_type": "code",
   "execution_count": 2,
   "metadata": {},
   "outputs": [
    {
     "data": {
      "text/plain": []
     },
     "execution_count": 2,
     "metadata": {},
     "output_type": "execute_result"
    }
   ],
   "source": [
    "student s1;"
   ]
  },
  {
   "cell_type": "code",
   "execution_count": 5,
   "metadata": {},
   "outputs": [
    {
     "name": "stdout",
     "output_type": "stream",
     "text": [
      " Student 225564 recived 4\n"
     ]
    },
    {
     "data": {
      "text/plain": [
       "(void) @0x7f285d7f8cd0\n"
      ]
     },
     "execution_count": 5,
     "metadata": {},
     "output_type": "execute_result"
    }
   ],
   "source": [
    "s1.setNrIdeksu(225564);\n",
    "s1.setOcena(4);\n",
    "s1.print();"
   ]
  },
  {
   "cell_type": "markdown",
   "metadata": {},
   "source": [
    "Metody, jak funkcje mogę posiadać **argumenty domyślne**. Muszą się one znajdować na końcu listy argumentów. Jeżeli definicja metody leży poza klasą, wówczas wartości domyślne ustawiamy tylko w deklaracjach znajdujących się w ciele (by uniknąć dwuznaczności), tak jak w przykładzie poniżej:"
   ]
  },
  {
   "cell_type": "code",
   "execution_count": 1,
   "metadata": {},
   "outputs": [
    {
     "data": {
      "text/plain": []
     },
     "execution_count": 1,
     "metadata": {},
     "output_type": "execute_result"
    }
   ],
   "source": [
    "#include <iostream>\n",
    "using namespace std;\n",
    "\n",
    "class student{\n",
    "  public:\n",
    "    void setOcena(float o=2.0);\n",
    "    void setNrIdeksu(int ni = 0); //Deklaracja metody\n",
    "    \n",
    "    void print(void){\n",
    "        cout <<\" Student \"<<numerindeksu<< \" recived \" << ocenazcpp << endl;\n",
    "    }\n",
    "    \n",
    "  private:\n",
    "    float ocenazcpp;\n",
    "    int numerindeksu;\n",
    "};"
   ]
  },
  {
   "cell_type": "code",
   "execution_count": 2,
   "metadata": {},
   "outputs": [
    {
     "data": {
      "text/plain": []
     },
     "execution_count": 2,
     "metadata": {},
     "output_type": "execute_result"
    }
   ],
   "source": [
    "void student::setOcena(float o) // Definicja poza klasą\n",
    "{\n",
    "    ocenazcpp=o;\n",
    "}"
   ]
  },
  {
   "cell_type": "code",
   "execution_count": 4,
   "metadata": {},
   "outputs": [
    {
     "data": {
      "text/plain": []
     },
     "execution_count": 4,
     "metadata": {},
     "output_type": "execute_result"
    }
   ],
   "source": [
    "void student::setNrIdeksu(int ni) // Definicja poza klasą\n",
    "{\n",
    "    numerindeksu = ni;\n",
    "}"
   ]
  },
  {
   "cell_type": "code",
   "execution_count": 5,
   "metadata": {},
   "outputs": [
    {
     "name": "stdout",
     "output_type": "stream",
     "text": [
      " Student 0 recived 2\n"
     ]
    },
    {
     "data": {
      "text/plain": [
       "(void) @0x7f8b7b7fccd0\n"
      ]
     },
     "execution_count": 5,
     "metadata": {},
     "output_type": "execute_result"
    }
   ],
   "source": [
    "student s1;\n",
    "s1.setNrIdeksu(); // Domyślne argumenty\n",
    "s1.setOcena();\n",
    "s1.print();"
   ]
  },
  {
   "cell_type": "markdown",
   "metadata": {},
   "source": [
    "## Modyfikatory dostępu czyli hermetyzacja."
   ]
  },
  {
   "cell_type": "markdown",
   "metadata": {},
   "source": [
    "Na razie skupimy się na dwóch modyfikatorach dostępu. Tj. *private* i *public*. Będą one określać widoczność atrybutów i metod klasy. *public:* oznacza nieograniczony dostęp z każdego miejsca i przez wszystkich, natomiast *private:* udostępnia atrybuty tylko metodom danej klasy. Dostęp kontrolowany jest w czaie kompilacji. Ma to pewne konsekwencje.\n",
    "\n",
    "Rozważmy przykład w którym klasa *foobar* definiuje zmienne *foo* i *foo1* odpowiednio w sekcjach *public* i *private*."
   ]
  },
  {
   "cell_type": "code",
   "execution_count": 6,
   "metadata": {},
   "outputs": [
    {
     "data": {
      "text/plain": []
     },
     "execution_count": 6,
     "metadata": {},
     "output_type": "execute_result"
    }
   ],
   "source": [
    "#include <iostream>\n",
    "using namespace std;\n",
    "\n",
    "class foobar {\n",
    "public:\n",
    "    int foo;\n",
    "private:\n",
    "    int foo1;\n",
    "};"
   ]
  },
  {
   "cell_type": "markdown",
   "metadata": {},
   "source": [
    "Spróbujmy dostać się do tych zmiennych:"
   ]
  },
  {
   "cell_type": "code",
   "execution_count": 7,
   "metadata": {},
   "outputs": [
    {
     "data": {
      "text/plain": [
       "(int) 5\n"
      ]
     },
     "execution_count": 7,
     "metadata": {},
     "output_type": "execute_result"
    }
   ],
   "source": [
    "foobar f1;\n",
    "f1.foo = 5; //to wolno nam zrobić"
   ]
  },
  {
   "cell_type": "code",
   "execution_count": 8,
   "metadata": {},
   "outputs": [
    {
     "name": "stderr",
     "output_type": "stream",
     "text": [
      "input_line_11:2:5: error: 'foo1' is a private member of 'foobar'\n",
      " f1.foo1 = 10; // a tego nie\n",
      "    ^\n",
      "input_line_9:9:9: note: declared private here\n",
      "    int foo1;\n",
      "        ^\n"
     ]
    },
    {
     "ename": "ename",
     "evalue": "evalue",
     "output_type": "error",
     "traceback": []
    }
   ],
   "source": [
    "f1.foo1 = 10; // a tego nie"
   ]
  },
  {
   "cell_type": "markdown",
   "metadata": {},
   "source": [
    "Zmodyfikujmy *foobar* i dodamy metody:"
   ]
  },
  {
   "cell_type": "code",
   "execution_count": 1,
   "metadata": {},
   "outputs": [
    {
     "data": {
      "text/plain": []
     },
     "execution_count": 1,
     "metadata": {},
     "output_type": "execute_result"
    }
   ],
   "source": [
    "#include <iostream>\n",
    "using namespace std;\n",
    "\n",
    "class foobar {\n",
    "public:\n",
    "    void setFoo(int f){foo = f;} //metoda dostępowa do ustawiania wartości foo\n",
    "    int getFoo(){return foo;} // metoda dostępowa\n",
    "    \n",
    "private:\n",
    "    int foo;\n",
    "};"
   ]
  },
  {
   "cell_type": "code",
   "execution_count": 2,
   "metadata": {},
   "outputs": [
    {
     "name": "stdout",
     "output_type": "stream",
     "text": [
      "5 9\n"
     ]
    },
    {
     "data": {
      "text/plain": [
       "(std::basic_ostream<char, std::char_traits<char> >::__ostream_type &) @0x7efca517c540\n"
      ]
     },
     "execution_count": 2,
     "metadata": {},
     "output_type": "execute_result"
    }
   ],
   "source": [
    "foobar f1, f2;\n",
    "f1.setFoo(5);\n",
    "f2.setFoo(9);\n",
    "\n",
    "cout << f1.getFoo() << \" \" << f2.getFoo() << endl;"
   ]
  },
  {
   "cell_type": "markdown",
   "metadata": {},
   "source": [
    "Ale też:"
   ]
  },
  {
   "cell_type": "code",
   "execution_count": 1,
   "metadata": {},
   "outputs": [
    {
     "data": {
      "text/plain": []
     },
     "execution_count": 1,
     "metadata": {},
     "output_type": "execute_result"
    }
   ],
   "source": [
    "#include <iostream>\n",
    "using namespace std;\n",
    "\n",
    "class foobar {\n",
    "public:\n",
    "    void setFoo(int f){foo = f;} //metoda dostępowa do ustawiania wartości foo\n",
    "    int getFoo(){return foo;} // metoda dostępowa\n",
    "    \n",
    "    int fun_other ( foobar &rf ){ // metoda woła metodę prywatną fun1\n",
    "        return rf.fun1();\n",
    "    }\n",
    "private:\n",
    "    int foo;\n",
    "    \n",
    "    int fun1 () {\n",
    "        return this->foo;\n",
    "    }\n",
    "};"
   ]
  },
  {
   "cell_type": "code",
   "execution_count": 2,
   "metadata": {},
   "outputs": [
    {
     "name": "stdout",
     "output_type": "stream",
     "text": [
      "5 9\n"
     ]
    },
    {
     "data": {
      "text/plain": [
       "(std::basic_ostream<char, std::char_traits<char> >::__ostream_type &) @0x7f9533401540\n"
      ]
     },
     "execution_count": 2,
     "metadata": {},
     "output_type": "execute_result"
    }
   ],
   "source": [
    "foobar f1, f2;\n",
    "f1.setFoo(5);\n",
    "f2.setFoo(9);\n",
    "int a = f1.fun_other( f1 );\n",
    "int b = f1.fun_other( f2 );\n",
    "cout << a << \" \" << b << endl;"
   ]
  },
  {
   "cell_type": "markdown",
   "metadata": {},
   "source": [
    "Czyli instancja klasy *foobar* *f1* dostała się do danych innej instancji, *f2*!!"
   ]
  },
  {
   "cell_type": "markdown",
   "metadata": {},
   "source": [
    "Po co nam to? Hermetyzacja umozliwia ukrywanie fragmentów danych przed nieporządaną manipulacją. Ogólna zasada jest taka, by dane obiektu pozostawały prywatne a dostępne do ich manipulacji były jedynie metody interfejsu.\n",
    "\n",
    "* Ukrywaj atrybuty,\n",
    "* wystawiaj interfejs."
   ]
  },
  {
   "cell_type": "markdown",
   "metadata": {},
   "source": [
    "## Konstruktor i Destruktor"
   ]
  },
  {
   "cell_type": "markdown",
   "metadata": {},
   "source": [
    "Są to specjalne metody tworzone domyslnie w czasie kompilacji lub przez programistę. Istnieja po to by obiekt utworzyć / zniszczyć, i jeżeli konieczne przeprowadzić jakąś dodatkową akcję."
   ]
  },
  {
   "cell_type": "markdown",
   "metadata": {},
   "source": [
    "### Konstruktor domyślny\n",
    "Istnieje zawsze, choć nie muśimy go zawsze wtorzyć. Deklaruje się go tak:  \n",
    "*identyfikator () {//ciało}*. Oczywiście jak w przypadku innych metod ciało może znajdować się poza cialem klasy. Przeważnie znajduje się w sekcji *public:*, chyba, że z jakiegoś powodu programista chce uniemożliwić dostęp. Poniżej przykład:"
   ]
  },
  {
   "cell_type": "code",
   "execution_count": 1,
   "metadata": {},
   "outputs": [
    {
     "data": {
      "text/plain": []
     },
     "execution_count": 1,
     "metadata": {},
     "output_type": "execute_result"
    }
   ],
   "source": [
    "#include <iostream>\n",
    "using namespace std;\n",
    "\n",
    "class foobar{\n",
    "    public:\n",
    "        foobar() // konstruktor domyslny\n",
    "        {\n",
    "            cout << \"Czesc! jestem domyslny!\" << endl;\n",
    "            a = 5; // zróbmy coś\n",
    "            b = 6;\n",
    "            cout << \"a=\" << a <<\" b=\" << b << endl;\n",
    "        }\n",
    "    private:\n",
    "        int a;\n",
    "        int b;\n",
    "};"
   ]
  },
  {
   "cell_type": "code",
   "execution_count": 2,
   "metadata": {},
   "outputs": [
    {
     "name": "stdout",
     "output_type": "stream",
     "text": [
      "Czesc! jestem domyslny!\n",
      "a=5 b=6\n"
     ]
    },
    {
     "data": {
      "text/plain": []
     },
     "execution_count": 2,
     "metadata": {},
     "output_type": "execute_result"
    }
   ],
   "source": [
    "foobar f1; // wywołany kostruktor domyślny"
   ]
  },
  {
   "cell_type": "code",
   "execution_count": 3,
   "metadata": {},
   "outputs": [
    {
     "name": "stdout",
     "output_type": "stream",
     "text": [
      "Czesc! jestem domyslny!\n",
      "a=5 b=6\n"
     ]
    },
    {
     "data": {
      "text/plain": []
     },
     "execution_count": 3,
     "metadata": {},
     "output_type": "execute_result"
    }
   ],
   "source": [
    "foobar *pf = new foobar()"
   ]
  },
  {
   "cell_type": "code",
   "execution_count": 4,
   "metadata": {},
   "outputs": [
    {
     "data": {
      "text/plain": [
       "(void) @0x7f230dff9cd0\n"
      ]
     },
     "execution_count": 4,
     "metadata": {},
     "output_type": "execute_result"
    }
   ],
   "source": [
    "delete pf;"
   ]
  },
  {
   "cell_type": "markdown",
   "metadata": {},
   "source": [
    "A teraz umieścimy konstruktor domyślny w sekcji *private*:"
   ]
  },
  {
   "cell_type": "code",
   "execution_count": 1,
   "metadata": {},
   "outputs": [
    {
     "data": {
      "text/plain": []
     },
     "execution_count": 1,
     "metadata": {},
     "output_type": "execute_result"
    }
   ],
   "source": [
    "#include <iostream>\n",
    "using namespace std;\n",
    "\n",
    "class foobar{\n",
    "    //inny \n",
    "    private:\n",
    "        foobar(){} // konstruktor domyslny\n",
    "    private:\n",
    "        int a;\n",
    "        int b;\n",
    "};"
   ]
  },
  {
   "cell_type": "code",
   "execution_count": 2,
   "metadata": {},
   "outputs": [
    {
     "name": "stderr",
     "output_type": "stream",
     "text": [
      "input_line_4:2:9: error: calling a private constructor of class 'foobar'\n",
      " foobar f1;\n",
      "        ^\n",
      "input_line_3:8:9: note: declared private here\n",
      "        foobar(){} // konstruktor domyslny\n",
      "        ^\n"
     ]
    },
    {
     "ename": "ename",
     "evalue": "evalue",
     "output_type": "error",
     "traceback": []
    }
   ],
   "source": [
    "foobar f1;"
   ]
  },
  {
   "cell_type": "markdown",
   "metadata": {},
   "source": [
    "### Konstruktor paramteryczny\n",
    "Służy do konstruowania obiektu stosując zestaw parametrów. Jest to po prostu metoda z argumentami (mogą byc domyślne). Poniżej rozwinięcie klasy *foobar*:"
   ]
  },
  {
   "cell_type": "code",
   "execution_count": 1,
   "metadata": {},
   "outputs": [
    {
     "data": {
      "text/plain": []
     },
     "execution_count": 1,
     "metadata": {},
     "output_type": "execute_result"
    }
   ],
   "source": [
    "#include <iostream>\n",
    "using namespace std;\n",
    "\n",
    "class foobar{\n",
    "    public:\n",
    "        foobar() // konstruktor domyslny\n",
    "        {\n",
    "            cout << \"Czesc! jestem domyslny!\" << endl;\n",
    "            a = 5;\n",
    "            b = 6;\n",
    "            cout << \"a=\" << a <<\" b=\" << b << endl;\n",
    "        }\n",
    "        // deklaracja metody\n",
    "        foobar(int aa, int bb=9); // parametryczny\n",
    "        \n",
    "    private:\n",
    "        int a;\n",
    "        int b;\n",
    "};"
   ]
  },
  {
   "cell_type": "code",
   "execution_count": 2,
   "metadata": {},
   "outputs": [
    {
     "data": {
      "text/plain": []
     },
     "execution_count": 2,
     "metadata": {},
     "output_type": "execute_result"
    }
   ],
   "source": [
    "// Definicja metody\n",
    "foobar::foobar(int aa, int bb)\n",
    "{\n",
    "    cout << \"Czesc! jestem parametryczny!\" << endl;\n",
    "    a = aa;\n",
    "    b = bb;\n",
    "    cout << \"a=\" << a <<\" b=\" << b << endl;\n",
    "}"
   ]
  },
  {
   "cell_type": "code",
   "execution_count": 3,
   "metadata": {},
   "outputs": [
    {
     "name": "stdout",
     "output_type": "stream",
     "text": [
      "Czesc! jestem domyslny!\n",
      "a=5 b=6\n",
      "Czesc! jestem parametryczny!\n",
      "a=4 b=7\n",
      "Czesc! jestem parametryczny!\n",
      "a=5 b=9\n"
     ]
    },
    {
     "data": {
      "text/plain": []
     },
     "execution_count": 3,
     "metadata": {},
     "output_type": "execute_result"
    }
   ],
   "source": [
    "foobar f1, f2(4, 7), f3(5);"
   ]
  },
  {
   "cell_type": "markdown",
   "metadata": {},
   "source": [
    "A teraz umieścimy konstruktor **domyślny** w sekcji *private*:"
   ]
  },
  {
   "cell_type": "code",
   "execution_count": 1,
   "metadata": {},
   "outputs": [
    {
     "data": {
      "text/plain": []
     },
     "execution_count": 1,
     "metadata": {},
     "output_type": "execute_result"
    }
   ],
   "source": [
    "#include <iostream>\n",
    "using namespace std;\n",
    "\n",
    "class foobar{\n",
    "    private:\n",
    "        foobar() {}// konstruktor domyslny\n",
    "    public:\n",
    "        foobar(int aa, int bb=9) // parametryczny\n",
    "        {\n",
    "            cout << \"Czesc! jestem parametryczny!\" << endl;\n",
    "            a = aa;\n",
    "            b = bb;\n",
    "            cout << \"a=\" << a <<\" b=\" << b << endl;\n",
    "        }\n",
    "        \n",
    "    private:\n",
    "        int a;\n",
    "        int b;\n",
    "};"
   ]
  },
  {
   "cell_type": "code",
   "execution_count": 2,
   "metadata": {},
   "outputs": [
    {
     "name": "stderr",
     "output_type": "stream",
     "text": [
      "input_line_4:2:9: error: calling a private constructor of class 'foobar'\n",
      " foobar f1, f2(4, 7);\n",
      "        ^\n",
      "input_line_3:7:9: note: declared private here\n",
      "        foobar() {}// konstruktor domyslny\n",
      "        ^\n"
     ]
    },
    {
     "ename": "ename",
     "evalue": "evalue",
     "output_type": "error",
     "traceback": []
    }
   ],
   "source": [
    "foobar f1, f2(4, 7);"
   ]
  },
  {
   "cell_type": "code",
   "execution_count": 3,
   "metadata": {},
   "outputs": [
    {
     "name": "stdout",
     "output_type": "stream",
     "text": [
      "Czesc! jestem parametryczny!\n",
      "a=4 b=7\n"
     ]
    },
    {
     "data": {
      "text/plain": []
     },
     "execution_count": 3,
     "metadata": {},
     "output_type": "execute_result"
    }
   ],
   "source": [
    "foobar f2(4, 7);"
   ]
  },
  {
   "cell_type": "markdown",
   "metadata": {},
   "source": [
    "### Lista inicjalizacyjna\n",
    "Lista inicjalizacyjna nie jest konstruktorem, ale pewnym mechanizmem pozwalającym na przypisanie warości parametrom przed stworzeniem obiektu. Może byc przydatna gdy obiekt przechowuje referencje, które muszą być zainicjalizowane przed powstaniem obiektu."
   ]
  },
  {
   "cell_type": "code",
   "execution_count": 1,
   "metadata": {},
   "outputs": [
    {
     "data": {
      "text/plain": []
     },
     "execution_count": 1,
     "metadata": {},
     "output_type": "execute_result"
    }
   ],
   "source": [
    "#include <iostream>\n",
    "using namespace std;\n",
    "\n",
    "class foobar{\n",
    "    public:\n",
    "        foobar() : a(5), b(4) // konstruktor domyslny z lista inicjalizacyjną\n",
    "        {\n",
    "            cout << \"Czesc! jestem domyslny!\" << endl;\n",
    "            cout << \"a=\" << a <<\" b=\" << b << endl;\n",
    "        }\n",
    "        foobar(int aa, int bb=9) : a(aa), b(bb) // parametryczny z listą\n",
    "        {\n",
    "            cout << \"Czesc! jestem parametryczny!\" << endl;\n",
    "            cout << \"a=\" << a <<\" b=\" << b << endl;\n",
    "        }\n",
    "    private:\n",
    "        int a;\n",
    "        int b;\n",
    "};"
   ]
  },
  {
   "cell_type": "code",
   "execution_count": 2,
   "metadata": {},
   "outputs": [
    {
     "name": "stdout",
     "output_type": "stream",
     "text": [
      "Czesc! jestem domyslny!\n",
      "a=5 b=4\n",
      "Czesc! jestem parametryczny!\n",
      "a=4 b=7\n",
      "Czesc! jestem parametryczny!\n",
      "a=5 b=9\n"
     ]
    },
    {
     "data": {
      "text/plain": []
     },
     "execution_count": 2,
     "metadata": {},
     "output_type": "execute_result"
    }
   ],
   "source": [
    "foobar f1, f2(4, 7), f3(5);"
   ]
  },
  {
   "cell_type": "markdown",
   "metadata": {},
   "source": [
    "Po co nam lista? Np. jeżeli mamy referencję"
   ]
  },
  {
   "cell_type": "code",
   "execution_count": 1,
   "metadata": {},
   "outputs": [
    {
     "data": {
      "text/plain": []
     },
     "execution_count": 1,
     "metadata": {},
     "output_type": "execute_result"
    }
   ],
   "source": [
    "#pragma GCC diagnostic ignored \"-Wdangling-field\" // ignorujemy ostrzeżenia\n",
    "#include <iostream>\n",
    "using namespace std;\n",
    "\n",
    "class foobar{\n",
    "  public:\n",
    "    foobar(int aa, int bb=9): a(aa), b(bb)\n",
    "    {\n",
    "      //a = aa; b = bb;\n",
    "      cout << \"I am created with the parametric constructor\" << endl;\n",
    "      cout << \"a=\" << a <<\" b=\" << b << endl;\n",
    "    }\n",
    "  private:\n",
    "    int& a; //referencje, nie wartości!\n",
    "    int& b;\n",
    "};"
   ]
  },
  {
   "cell_type": "markdown",
   "metadata": {},
   "source": [
    "Spróbujmy najpierw konstruktor domyślny (którego nie zaimplementowaliśmy:)"
   ]
  },
  {
   "cell_type": "code",
   "execution_count": 2,
   "metadata": {},
   "outputs": [
    {
     "name": "stderr",
     "output_type": "stream",
     "text": [
      "input_line_4:2:9: error: no matching constructor for initialization of 'foobar'\n",
      " foobar f1;\n",
      "        ^\n",
      "input_line_3:6:7: note: candidate constructor (the implicit copy constructor) not viable: requires 1 argument, but 0 were provided\n",
      "class foobar{\n",
      "      ^\n",
      "input_line_3:6:7: note: candidate constructor (the implicit move constructor) not viable: requires 1 argument, but 0 were provided\n",
      "input_line_3:8:5: note: candidate constructor not viable: requires at least argument 'aa', but no arguments were provided\n",
      "    foobar(int aa, int bb=9): a(aa), b(bb)\n",
      "    ^\n"
     ]
    },
    {
     "ename": "ename",
     "evalue": "evalue",
     "output_type": "error",
     "traceback": []
    }
   ],
   "source": [
    "foobar f1;"
   ]
  },
  {
   "cell_type": "markdown",
   "metadata": {},
   "source": [
    "A teraz pozostałych:"
   ]
  },
  {
   "cell_type": "code",
   "execution_count": 3,
   "metadata": {},
   "outputs": [
    {
     "name": "stdout",
     "output_type": "stream",
     "text": [
      "I am created with the parametric constructor\n",
      "a=4 b=7\n",
      "I am created with the parametric constructor\n",
      "a=5 b=9\n"
     ]
    },
    {
     "data": {
      "text/plain": []
     },
     "execution_count": 3,
     "metadata": {},
     "output_type": "execute_result"
    }
   ],
   "source": [
    "foobar f2(4, 7), f3(5)"
   ]
  },
  {
   "cell_type": "code",
   "execution_count": 4,
   "metadata": {},
   "outputs": [
    {
     "name": "stderr",
     "output_type": "stream",
     "text": [
      "input_line_6:2:10: error: declaration of reference variable 'a' requires an initializer\n",
      " foobar &a;\n",
      "         ^\n"
     ]
    },
    {
     "ename": "ename",
     "evalue": "evalue",
     "output_type": "error",
     "traceback": []
    }
   ],
   "source": [
    "foobar &a;"
   ]
  },
  {
   "cell_type": "code",
   "execution_count": 5,
   "metadata": {},
   "outputs": [
    {
     "data": {
      "text/plain": []
     },
     "execution_count": 5,
     "metadata": {},
     "output_type": "execute_result"
    }
   ],
   "source": [
    "foobar &a = f2;"
   ]
  },
  {
   "cell_type": "markdown",
   "metadata": {},
   "source": [
    "### Konstruktor kopiujący\n",
    "Kolejnym typem konstruktora jest konstruktor kopiujący. Służy do wykonania (jak wskazuje nazwa) kopii obiektu w czasie tworzenia nowej instancji. Popatrzymy na ponizszy przykład:"
   ]
  },
  {
   "cell_type": "code",
   "execution_count": 1,
   "metadata": {},
   "outputs": [
    {
     "data": {
      "text/plain": []
     },
     "execution_count": 1,
     "metadata": {},
     "output_type": "execute_result"
    }
   ],
   "source": [
    "#include <iostream>\n",
    "using namespace std;\n",
    "\n",
    "class foobar{\n",
    "  public:\n",
    "    foobar(const foobar& f) : a(f.a), b(f.b) // konstruktor kopiujący\n",
    "    {\n",
    "      cout << \"I am created with the copy constructor\" << endl;\n",
    "      print();\n",
    "    }\n",
    "    \n",
    "    foobar() : a(4), b(3)\n",
    "    {\n",
    "      cout << \"I am created with the default constructor\" << endl;\n",
    "      print();\n",
    "    }\n",
    "    foobar(int aa, int bb=9): a(aa), b(bb)\n",
    "    {\n",
    "      cout << \"I am created with the parametric constructor\" << endl;\n",
    "      print();\n",
    "    }\n",
    "    \n",
    "    void print() const\n",
    "    {\n",
    "      cout << a << \" \" << b << endl;\n",
    "    }\n",
    "  private:\n",
    "    int a;\n",
    "    int b;\n",
    "};"
   ]
  },
  {
   "cell_type": "code",
   "execution_count": 2,
   "metadata": {},
   "outputs": [
    {
     "name": "stdout",
     "output_type": "stream",
     "text": [
      "I am created with the default constructor\n",
      "4 3\n",
      "I am created with the parametric constructor\n",
      "5 9\n"
     ]
    },
    {
     "data": {
      "text/plain": []
     },
     "execution_count": 2,
     "metadata": {},
     "output_type": "execute_result"
    }
   ],
   "source": [
    "foobar f1, f2(5)"
   ]
  },
  {
   "cell_type": "code",
   "execution_count": 3,
   "metadata": {},
   "outputs": [
    {
     "name": "stdout",
     "output_type": "stream",
     "text": [
      "I am created with the copy constructor\n",
      "4 3\n"
     ]
    },
    {
     "data": {
      "text/plain": []
     },
     "execution_count": 3,
     "metadata": {},
     "output_type": "execute_result"
    }
   ],
   "source": [
    "foobar f3(f1)"
   ]
  },
  {
   "cell_type": "code",
   "execution_count": 4,
   "metadata": {},
   "outputs": [
    {
     "name": "stdout",
     "output_type": "stream",
     "text": [
      "I am created with the copy constructor\n",
      "5 9\n"
     ]
    },
    {
     "data": {
      "text/plain": []
     },
     "execution_count": 4,
     "metadata": {},
     "output_type": "execute_result"
    }
   ],
   "source": [
    "foobar f4 = f2;"
   ]
  },
  {
   "cell_type": "code",
   "execution_count": 5,
   "metadata": {},
   "outputs": [
    {
     "name": "stdout",
     "output_type": "stream",
     "text": [
      "4 3\n",
      "5 9\n"
     ]
    },
    {
     "data": {
      "text/plain": [
       "(void) nullptr\n"
      ]
     },
     "execution_count": 5,
     "metadata": {},
     "output_type": "execute_result"
    }
   ],
   "source": [
    "f1.print();\n",
    "f2.print();"
   ]
  },
  {
   "cell_type": "code",
   "execution_count": 6,
   "metadata": {},
   "outputs": [
    {
     "data": {
      "text/plain": []
     },
     "execution_count": 6,
     "metadata": {},
     "output_type": "execute_result"
    }
   ],
   "source": [
    "void fun1(foobar a)\n",
    "{\n",
    "    a.print();\n",
    "}"
   ]
  },
  {
   "cell_type": "code",
   "execution_count": 7,
   "metadata": {},
   "outputs": [
    {
     "data": {
      "text/plain": []
     },
     "execution_count": 7,
     "metadata": {},
     "output_type": "execute_result"
    }
   ],
   "source": [
    "void fun2(const foobar& a)\n",
    "{\n",
    "    a.print();\n",
    "}"
   ]
  },
  {
   "cell_type": "code",
   "execution_count": 8,
   "metadata": {},
   "outputs": [
    {
     "name": "stdout",
     "output_type": "stream",
     "text": [
      "I am created with the copy constructor\n",
      "5 9\n",
      "5 9\n"
     ]
    },
    {
     "data": {
      "text/plain": [
       "(void) @0x7f8225ff9cd0\n"
      ]
     },
     "execution_count": 8,
     "metadata": {},
     "output_type": "execute_result"
    }
   ],
   "source": [
    "fun1(f4);"
   ]
  },
  {
   "cell_type": "code",
   "execution_count": null,
   "metadata": {},
   "outputs": [],
   "source": [
    "fun2(f4);"
   ]
  },
  {
   "cell_type": "markdown",
   "metadata": {},
   "source": [
    "Co daje const w liscie argumentów? Ma zabezpieczyć na poziomie kompilacji przed niepowołaną modyfikacją argumetu."
   ]
  },
  {
   "cell_type": "code",
   "execution_count": 9,
   "metadata": {},
   "outputs": [
    {
     "data": {
      "text/plain": []
     },
     "execution_count": 9,
     "metadata": {},
     "output_type": "execute_result"
    }
   ],
   "source": [
    "void fun3(const foobar& a)\n",
    "{\n",
    "    a.print();\n",
    "}"
   ]
  },
  {
   "cell_type": "code",
   "execution_count": 10,
   "metadata": {},
   "outputs": [
    {
     "name": "stderr",
     "output_type": "stream",
     "text": [
      "input_line_13:2:9: error: redefinition of 'f1'\n",
      " foobar f1;\n",
      "        ^\n",
      "input_line_4:2:9: note: previous definition is here\n",
      " foobar f1, f2(5)\n",
      "        ^\n"
     ]
    },
    {
     "ename": "ename",
     "evalue": "evalue",
     "output_type": "error",
     "traceback": []
    }
   ],
   "source": [
    "foobar f1;"
   ]
  },
  {
   "cell_type": "code",
   "execution_count": 11,
   "metadata": {},
   "outputs": [
    {
     "name": "stdout",
     "output_type": "stream",
     "text": [
      "4 3\n"
     ]
    },
    {
     "data": {
      "text/plain": [
       "(void) @0x7f8225ff9cd0\n"
      ]
     },
     "execution_count": 11,
     "metadata": {},
     "output_type": "execute_result"
    }
   ],
   "source": [
    "fun3(f1);"
   ]
  },
  {
   "cell_type": "markdown",
   "metadata": {},
   "source": [
    "### Destruktor\n",
    "Jest to metoda wywoływana na końcu życia obiektu. Czyli gdy skończy się czas życia zmiennej (koniec funkcji itp.). Nie jest wywoływana jawnie. Składnia:\n",
    "\n",
    "~ identyfikator() {//ciało}\n",
    "\n",
    "Poniżej przykład z kolekcją:"
   ]
  },
  {
   "cell_type": "code",
   "execution_count": 12,
   "metadata": {},
   "outputs": [
    {
     "data": {
      "text/plain": []
     },
     "execution_count": 12,
     "metadata": {},
     "output_type": "execute_result"
    }
   ],
   "source": [
    "#include <iostream>\n",
    "#include <stdlib.h>\n",
    "\n",
    "using namespace std;\n",
    "\n",
    "class collection{\n",
    "public:\n",
    "  // Konstruktory\n",
    "  collection(){size=0; tab=NULL;}\n",
    "  collection(int s) : size(s) {allocate();}\n",
    "  // Destruktor\n",
    "  ~collection(){\n",
    "    cout << \"The cleaning service! Size is \" << size << endl;\n",
    "    delete []tab;\n",
    "  }\n",
    "  \n",
    "  void setSize(int a){ size=a; }\n",
    "  int getSize(){ return size; }\n",
    "  \n",
    "  void allocate()\n",
    "  {\n",
    "    tab = new int[size];\n",
    "  }\n",
    "  \n",
    "  int& rTab(int i)\n",
    "  { return tab[i];}\n",
    "  \n",
    "private:\n",
    "  int size;\n",
    "  int * tab;\n",
    "};"
   ]
  },
  {
   "cell_type": "markdown",
   "metadata": {},
   "source": [
    "Stworzymy kilka instancji, ponieważ nie mamy tu funkcji *main()* dodamy zakres obowiązywania zmiennej przez {}."
   ]
  },
  {
   "cell_type": "code",
   "execution_count": 13,
   "metadata": {},
   "outputs": [
    {
     "name": "stdout",
     "output_type": "stream",
     "text": [
      "The cleaning service! Size is 20\n",
      "The cleaning service! Size is 30\n",
      "Czy jestem ostatni, czy jest po mnie destruktor?\n",
      "The cleaning service! Size is 10\n"
     ]
    },
    {
     "data": {
      "text/plain": []
     },
     "execution_count": 13,
     "metadata": {},
     "output_type": "execute_result"
    }
   ],
   "source": [
    "{\n",
    "    collection a(10);\n",
    "    collection * p = new collection(20);\n",
    "    // tu pracujemy z p\n",
    "    delete p;\n",
    "    {\n",
    "        collection b(30);\n",
    "    }\n",
    "  \n",
    "    cout << \"Czy jestem ostatni, czy jest po mnie destruktor?\" << endl;\n",
    "}"
   ]
  },
  {
   "cell_type": "code",
   "execution_count": null,
   "metadata": {},
   "outputs": [],
   "source": []
  }
 ],
 "metadata": {
  "kernelspec": {
   "display_name": "C++11",
   "language": "C++",
   "name": "cling-cpp11"
  },
  "language_info": {
   "codemirror_mode": "c++",
   "file_extension": ".c++",
   "mimetype": "text/x-c++src",
   "name": "c++"
  }
 },
 "nbformat": 4,
 "nbformat_minor": 2
}
