{
 "cells": [
  {
   "cell_type": "markdown",
   "metadata": {},
   "source": [
    "# Dziedziczenie\n",
    "Omówimy teraz jeden z podstawowych konceptów programowania obiektowego, tj. dziedziczenie.\n",
    "\n",
    "W założeniu dziedziczenie ma umożliwić rozszerzanie możliwości istniejących klas poprzez tworzenie nowych klas zależnych od już istniejących. Dzięki temu powtarzalne elementy są wykorzystywane wielokrotnie (współdzielenie kodu). W założeniu dziedziczenie ma umożliwić łatwiejsze zarządzanie poprzez wprowadzenie *hierarchii klas*. Hierarchię pobieżnie wyjaśnimy na przykładzie kształtów:  \n",
    "ogólny kształtu uogólnia prostokąty, a te uogólniają kwadraty, tzn. kształt będzie *bazowy* dla prostokątów i kwadratów, itd.\n",
    "\n",
    "Klasę po której będziemy dziedziczyć nazwiemy **bazową** klasę dziedziczącą natomiast **pochodną**. W przykładzie powyżej kształty będą bazowe, a kwadraty pochodne.\n",
    "\n",
    "Dziedziczenie mat umożliwić abstrakcyjne podejście do zadania programistycznego poprzez interpretowania klas dziedziczących jak klas bazowych w zależności od kontekstu, w którym pracujemy (*polimorfizm*). Będzie tak ponieważ, obiekty klas pochodnych będą jednocześnie obiektami klasy bazowej (będą miały wspólnego przodka - bazę), ale nie odwrotnie."
   ]
  },
  {
   "cell_type": "markdown",
   "metadata": {},
   "source": [
    "## Przykład bez dziedziczenia\n",
    "Napiszemy przykładowy program, w którym pojawia sie niezwiązane ze sobą klasy i postaramy się w kolejnych krokach przystosować nasz kod do wykorzystania dziedziczenia.\n",
    "\n",
    "Zadanie rolnicze. Utworzymy klasy opisujące zwierzęta na farmie. Każde może wydawać dźwięk i się poruszać. Zdefiniujemy potrzebne nam klasy, dodamy metody interakcji z otoczeniem i napiszemy krótki program, na przykład o taki:"
   ]
  },
  {
   "cell_type": "code",
   "execution_count": 1,
   "metadata": {},
   "outputs": [
    {
     "data": {
      "text/plain": []
     },
     "execution_count": 1,
     "metadata": {},
     "output_type": "execute_result"
    }
   ],
   "source": [
    "#include <iostream>\n",
    "using namespace std;"
   ]
  },
  {
   "cell_type": "code",
   "execution_count": 2,
   "metadata": {},
   "outputs": [
    {
     "data": {
      "text/plain": []
     },
     "execution_count": 2,
     "metadata": {},
     "output_type": "execute_result"
    }
   ],
   "source": [
    "class kura{\n",
    "    public:\n",
    "    void dzwiek(){cout << \"KoKoKo\" << endl;}\n",
    "    void chodz(){/* implementuje poruszanie sie */}\n",
    "};\n",
    "class swinia{\n",
    "    public:\n",
    "    void dzwiek(){cout << \"HrumHrumHrum\" << endl;}\n",
    "    void chodz(){/* implementuje poruszanie sie */}\n",
    "};\n",
    "class kon{\n",
    "    public:\n",
    "    void dzwiek(){cout << \"IchaCha\" << endl;}\n",
    "    void chodz(){/* implementuje poruszanie sie */}\n",
    "};"
   ]
  },
  {
   "cell_type": "markdown",
   "metadata": {},
   "source": [
    "Zarządzanie \"losem\" obiektów nie jest w tym przypadku wygodne. Musimy stworzyć każdy obiekt oddzielnie, przechowywać je w oddzielnych kolekcjach i zastanawiać sie jakie kto metody ma wywołać: "
   ]
  },
  {
   "cell_type": "code",
   "execution_count": 3,
   "metadata": {},
   "outputs": [
    {
     "name": "stdout",
     "output_type": "stream",
     "text": [
      "Farma wuja Sama\n",
      "KoKoKo\n",
      "KoKoKo\n",
      "KoKoKo\n",
      "KoKoKo\n",
      "KoKoKo\n",
      "HrumHrumHrum\n",
      "HrumHrumHrum\n",
      "IchaCha\n"
     ]
    },
    {
     "data": {
      "text/plain": [
       "(void) @0x7f91dcefdc30\n"
      ]
     },
     "execution_count": 3,
     "metadata": {},
     "output_type": "execute_result"
    }
   ],
   "source": [
    "cout << \"Farma wuja Sama\" << endl;\n",
    "\n",
    "kura ktab[5];\n",
    "swinia stab[2];\n",
    "kon k;\n",
    "\n",
    "//wydajemy dzwieki\n",
    "for(int i=0; i<5; ++i)\n",
    "    ktab[i].dzwiek();\n",
    "for(int i=0; i<2; ++i)\n",
    "    stab[i].dzwiek();\n",
    "k.dzwiek();"
   ]
  },
  {
   "cell_type": "markdown",
   "metadata": {},
   "source": [
    "Przedstawimy teraz koncepty związane z dziedziczeniem w języku C++, częśc może sie przekładać na inne języki obiektowe (C#, Java, Python, inne), częśc zupelnie nie."
   ]
  },
  {
   "cell_type": "markdown",
   "metadata": {},
   "source": [
    "## Dziedziczenie - Podstawy\n",
    "### Składnia\n",
    "Aby zadeklarować dziedziczenie jednej klasy po drugiej napiszemy:"
   ]
  },
  {
   "cell_type": "code",
   "execution_count": null,
   "metadata": {},
   "outputs": [],
   "source": [
    "class nazwa_klasy_pochodnej : [operator widoczności] nazwa_klasy_bazowej{\n",
    "    //cialo klasy\n",
    "};"
   ]
  },
  {
   "cell_type": "markdown",
   "metadata": {},
   "source": [
    "np. B dziedziczy po A"
   ]
  },
  {
   "cell_type": "code",
   "execution_count": null,
   "metadata": {},
   "outputs": [],
   "source": [
    "class A {};\n",
    "class B : public A {};"
   ]
  },
  {
   "attachments": {
    "Screenshot%20from%202019-11-01%2012-53-44.png": {
     "image/png": "[encoded data removed]"
    }
   },
   "cell_type": "markdown",
   "metadata": {},
   "source": [
    "Co na diagramie [UML\\(Unified Modeling Language\\)](https://en.wikipedia.org/wiki/Unified_Modeling_Language) zaznaczylibyśmy przez otwartą strzalką, o tak:\n",
    "\n",
    "![Screenshot%20from%202019-11-01%2012-53-44.png](attachment:Screenshot%20from%202019-11-01%2012-53-44.png)"
   ]
  },
  {
   "cell_type": "markdown",
   "metadata": {},
   "source": [
    "### Nowy operator widoczności - *protected*\n",
    "Do teraz ograniczaliśmy dostęp do składowych klasy poprzez wykorzystanie operatorów widoczności *public* i *private*. Dla przypomnienia, to co znajdowało się w sekcji *public* było dostępne dla wszystkich, a to co znajdowało się w sekcji *private* było chronione i próby manipulacji kończyły się błędem kompilacji. Z okazji dziedziczenia dochodzi nam trzeci operator, tj. *protected*. W zasadzie działa jak *private* (tj. składowe nim objęte sa niedostępne do manipulacji z zewnątrz) z tą różnicą, że w przypadku dziedziczenia składowe są dostępne dla obiektu dziedziczącego. Popatrzmy na przykład:"
   ]
  },
  {
   "cell_type": "code",
   "execution_count": 1,
   "metadata": {},
   "outputs": [
    {
     "data": {
      "text/plain": []
     },
     "execution_count": 1,
     "metadata": {},
     "output_type": "execute_result"
    }
   ],
   "source": [
    "#include <iostream>\n",
    "using namespace std;"
   ]
  },
  {
   "cell_type": "code",
   "execution_count": 2,
   "metadata": {},
   "outputs": [
    {
     "name": "stderr",
     "output_type": "stream",
     "text": [
      "\u001b[1minput_line_4:15:31: \u001b[0m\u001b[0;1;31merror: \u001b[0m\u001b[1m'c' is a private member of 'A'\u001b[0m\n",
      "  void fun () { a = 8; b = 4; c = 5;}\n",
      "\u001b[0;1;32m                              ^\n",
      "\u001b[0m\u001b[1minput_line_4:9:7: \u001b[0m\u001b[0;1;30mnote: \u001b[0mdeclared private here\u001b[0m\n",
      "  int c ;\n",
      "\u001b[0;1;32m      ^\n",
      "\u001b[0m"
     ]
    },
    {
     "ename": "ename",
     "evalue": "evalue",
     "output_type": "error",
     "traceback": []
    }
   ],
   "source": [
    "class A {\n",
    "public :\n",
    "  int a ;\n",
    "\n",
    "protected :\n",
    "  int b ;\n",
    "\n",
    "private :\n",
    "  int c ;\n",
    "};\n",
    "\n",
    "class B : public A {\n",
    "public :\n",
    "  void fun () { a = 8; b = 4; c = 5;}\n",
    "};"
   ]
  },
  {
   "cell_type": "markdown",
   "metadata": {},
   "source": [
    "Próbowaliśmy w klasie *pochodnej* zmienić wartość składowej prywatnej c klasy *bazowej*. Tak będzie lepiej:"
   ]
  },
  {
   "cell_type": "code",
   "execution_count": 3,
   "metadata": {},
   "outputs": [
    {
     "data": {
      "text/plain": []
     },
     "execution_count": 3,
     "metadata": {},
     "output_type": "execute_result"
    }
   ],
   "source": [
    "class A {\n",
    "public :\n",
    "  int a ;\n",
    "    \n",
    "protected :\n",
    "  int b ;\n",
    "    \n",
    "private :\n",
    "  int c ;\n",
    "};\n",
    "\n",
    "class B : public A {\n",
    "public :\n",
    "  void fun () { a =8; b =4; /*c =5*/;} // c jest private !\n",
    "};"
   ]
  },
  {
   "cell_type": "code",
   "execution_count": 4,
   "metadata": {},
   "outputs": [
    {
     "data": {
      "text/plain": []
     },
     "execution_count": 4,
     "metadata": {},
     "output_type": "execute_result"
    }
   ],
   "source": [
    "A a;\n",
    "B b;\n",
    "// some more code to write here if I need"
   ]
  },
  {
   "cell_type": "markdown",
   "metadata": {},
   "source": [
    "Tak więc, operator widoczności *protected* pozwala na zabezpieczenie dostępu do atrybutu (działa jak *private*) przy jednoczesnym udzieleniu dostępu klasom pochodnym."
   ]
  },
  {
   "cell_type": "markdown",
   "metadata": {},
   "source": [
    "W składni deklaracji dziedziczenia wystepuje operator widoczności. Powoduje on zmianę widoczności atrybutów w klasie dziedziczącej w nastepujący sposób:  \n",
    "* public - bez zmian:\n",
    "    * public -> public\n",
    "    * protected -> protected\n",
    "    * private -> private\n",
    "* protected\n",
    "    * public -> protected\n",
    "    * protected -> protected\n",
    "    * private -> brak dostępu\n",
    "* private\n",
    "    * public -> private\n",
    "    * protected -> private\n",
    "    * private -> brak dostepu\n",
    "\n",
    "* brak operatora -> domyslnie jak private\n",
    "\n",
    "**Najczęściej (zawsze) bedziemy wykorzystywać modyfikator *public*.**\n",
    "\n",
    "Popatrzmy na przykład. Klasa A jest klasa bazową. Posiada 3 atrybuty, każdy w innej sekcji:"
   ]
  },
  {
   "cell_type": "code",
   "execution_count": 1,
   "metadata": {},
   "outputs": [
    {
     "data": {
      "text/plain": []
     },
     "execution_count": 1,
     "metadata": {},
     "output_type": "execute_result"
    }
   ],
   "source": [
    "#include <iostream>\n",
    "using namespace std;"
   ]
  },
  {
   "cell_type": "code",
   "execution_count": 2,
   "metadata": {},
   "outputs": [
    {
     "data": {
      "text/plain": []
     },
     "execution_count": 2,
     "metadata": {},
     "output_type": "execute_result"
    }
   ],
   "source": [
    "class A {\n",
    "public :\n",
    "  int a ;\n",
    "    \n",
    "protected :\n",
    "  int b ;\n",
    "    \n",
    "private :\n",
    "  int c ;\n",
    "};"
   ]
  },
  {
   "cell_type": "markdown",
   "metadata": {},
   "source": [
    "Klasy B, C i D dziedziczą po A w rożny sposób:"
   ]
  },
  {
   "cell_type": "code",
   "execution_count": 3,
   "metadata": {},
   "outputs": [
    {
     "data": {
      "text/plain": []
     },
     "execution_count": 3,
     "metadata": {},
     "output_type": "execute_result"
    }
   ],
   "source": [
    "class B : public A {\n",
    "public :\n",
    "  void fun () { a = 8; b = 4;/*c = 5;*/} // c jest private !\n",
    "};"
   ]
  },
  {
   "cell_type": "code",
   "execution_count": 4,
   "metadata": {},
   "outputs": [
    {
     "data": {
      "text/plain": []
     },
     "execution_count": 4,
     "metadata": {},
     "output_type": "execute_result"
    }
   ],
   "source": [
    "class C : protected A {\n",
    "public :\n",
    "  void fun () { a =8; b =4;/*c =5;*/} // c jest private !\n",
    "  void fun2() {cout << a << \" \" << b << endl;}\n",
    "};"
   ]
  },
  {
   "cell_type": "code",
   "execution_count": 5,
   "metadata": {},
   "outputs": [
    {
     "data": {
      "text/plain": []
     },
     "execution_count": 5,
     "metadata": {},
     "output_type": "execute_result"
    }
   ],
   "source": [
    "class D : A {//private!\n",
    "public :\n",
    "  void fun () { a =8; b =4;/*c =5;*/} // c jest private !\n",
    "  void fun2() {cout << a << \" \" << b << endl;}\n",
    "};"
   ]
  },
  {
   "cell_type": "markdown",
   "metadata": {},
   "source": [
    "B ma dostęp do wszystkiego w A, poza sekcja private:"
   ]
  },
  {
   "cell_type": "code",
   "execution_count": null,
   "metadata": {},
   "outputs": [],
   "source": [
    "B b;\n",
    "b.fun();\n",
    "cout << b.a << endl;"
   ]
  },
  {
   "cell_type": "code",
   "execution_count": 7,
   "metadata": {},
   "outputs": [
    {
     "name": "stderr",
     "output_type": "stream",
     "text": [
      "\u001b[1minput_line_10:2:12: \u001b[0m\u001b[0;1;31merror: \u001b[0m\u001b[1m'b' is a protected member of 'A'\u001b[0m\n",
      " cout << b.b << \" \" << b.c << endl;\n",
      "\u001b[0;1;32m           ^\n",
      "\u001b[0m\u001b[1minput_line_4:6:7: \u001b[0m\u001b[0;1;30mnote: \u001b[0mdeclared protected here\u001b[0m\n",
      "  int b ;\n",
      "\u001b[0;1;32m      ^\n",
      "\u001b[0m\u001b[1minput_line_10:2:26: \u001b[0m\u001b[0;1;31merror: \u001b[0m\u001b[1m'c' is a private member of 'A'\u001b[0m\n",
      " cout << b.b << \" \" << b.c << endl;\n",
      "\u001b[0;1;32m                         ^\n",
      "\u001b[0m\u001b[1minput_line_4:9:7: \u001b[0m\u001b[0;1;30mnote: \u001b[0mdeclared private here\u001b[0m\n",
      "  int c ;\n",
      "\u001b[0;1;32m      ^\n",
      "\u001b[0m"
     ]
    },
    {
     "ename": "ename",
     "evalue": "evalue",
     "output_type": "error",
     "traceback": []
    }
   ],
   "source": [
    "cout << b.b << \" \" << b.c << endl;"
   ]
  },
  {
   "cell_type": "markdown",
   "metadata": {},
   "source": [
    "C może użyć wszystkiego w A poza private, ale nie może \"wystawić\" do użytku nic z A:"
   ]
  },
  {
   "cell_type": "code",
   "execution_count": 8,
   "metadata": {},
   "outputs": [
    {
     "name": "stdout",
     "output_type": "stream",
     "text": [
      "8 4\n"
     ]
    },
    {
     "data": {
      "text/plain": [
       "(void) @0x7fb62d7f8c30\n"
      ]
     },
     "execution_count": 8,
     "metadata": {},
     "output_type": "execute_result"
    }
   ],
   "source": [
    "C c;\n",
    "c.fun();\n",
    "c.fun2()"
   ]
  },
  {
   "cell_type": "code",
   "execution_count": 9,
   "metadata": {},
   "outputs": [
    {
     "name": "stderr",
     "output_type": "stream",
     "text": [
      "\u001b[1minput_line_12:2:10: \u001b[0m\u001b[0;1;31merror: \u001b[0m\u001b[1mcannot cast 'C' to its protected base class 'A'\u001b[0m\n",
      " cout << c.a << endl;\n",
      "\u001b[0;1;32m         ^\n",
      "\u001b[0m\u001b[1minput_line_6:1:11: \u001b[0m\u001b[0;1;30mnote: \u001b[0mdeclared protected here\u001b[0m\n",
      "class C : protected A {\n",
      "\u001b[0;1;32m          ^~~~~~~~~~~\n",
      "\u001b[0m\u001b[1minput_line_12:2:12: \u001b[0m\u001b[0;1;31merror: \u001b[0m\u001b[1m'a' is a protected member of 'A'\u001b[0m\n",
      " cout << c.a << endl;\n",
      "\u001b[0;1;32m           ^\n",
      "\u001b[0m\u001b[1minput_line_6:1:11: \u001b[0m\u001b[0;1;30mnote: \u001b[0mconstrained by protected inheritance here\u001b[0m\n",
      "class C : protected A {\n",
      "\u001b[0;1;32m          ^~~~~~~~~~~\n",
      "\u001b[0m\u001b[1minput_line_4:3:7: \u001b[0m\u001b[0;1;30mnote: \u001b[0mmember is declared here\u001b[0m\n",
      "  int a ;\n",
      "\u001b[0;1;32m      ^\n",
      "\u001b[0m"
     ]
    },
    {
     "ename": "ename",
     "evalue": "evalue",
     "output_type": "error",
     "traceback": []
    }
   ],
   "source": [
    "cout << c.a << endl;"
   ]
  },
  {
   "cell_type": "markdown",
   "metadata": {},
   "source": [
    "D może jeszcze mniej, żeby to pokazać powinniśmy wykonać dziedziczenie po C i D i sprawdzić dostępność atrybutów A z wewnątrz klas dziedziczących. "
   ]
  },
  {
   "cell_type": "code",
   "execution_count": null,
   "metadata": {},
   "outputs": [],
   "source": [
    "D d;\n",
    "d.fun();\n",
    "d.fun2();"
   ]
  },
  {
   "cell_type": "markdown",
   "metadata": {},
   "source": [
    "Proszę wykonać ćwiczenie, w którym dziedziczą państwo po D."
   ]
  },
  {
   "cell_type": "markdown",
   "metadata": {},
   "source": [
    "## Rozmiar obiektu - operator *sizeof*\n",
    "Konsekwencja dziedziczenia klas jest rozszerzanie funkcjonalności i danych, tj. klasa pochodna rozszerza bazową. W konsekwencji obiekty klas dziedziczących będą potrzebować więcej miejsca w pamięci do ich przechowania. Popatrzmy na przykład, w którym klasa B dziedziczy po A, obie przechowują tablicę 1024 *char* (1B każdy) oraz po jednym *int* (4B):"
   ]
  },
  {
   "cell_type": "code",
   "execution_count": 1,
   "metadata": {},
   "outputs": [
    {
     "data": {
      "text/plain": []
     },
     "execution_count": 1,
     "metadata": {},
     "output_type": "execute_result"
    }
   ],
   "source": [
    "#include <iostream>\n",
    "using namespace std;"
   ]
  },
  {
   "cell_type": "code",
   "execution_count": 2,
   "metadata": {},
   "outputs": [
    {
     "data": {
      "text/plain": []
     },
     "execution_count": 2,
     "metadata": {},
     "output_type": "execute_result"
    }
   ],
   "source": [
    "class A {\n",
    "public :\n",
    "  char tabA [1024];\n",
    "  int a ;\n",
    "};\n",
    "\n",
    "class B : public A {\n",
    "public :\n",
    "  char tabB [1024];\n",
    "  int b ;\n",
    "  double c;\n",
    "};"
   ]
  },
  {
   "cell_type": "code",
   "execution_count": 3,
   "metadata": {},
   "outputs": [
    {
     "name": "stdout",
     "output_type": "stream",
     "text": [
      "Sizes in bytes: A:1028 B:2064\n"
     ]
    },
    {
     "data": {
      "text/plain": [
       "(std::basic_ostream<char, std::char_traits<char> >::__ostream_type &) @0x7f02c94a7480\n"
      ]
     },
     "execution_count": 3,
     "metadata": {},
     "output_type": "execute_result"
    }
   ],
   "source": [
    "A a;\n",
    "B b;\n",
    "cout << \"Sizes in bytes: A:\" << sizeof ( a ) <<\" B:\"<< sizeof ( b ) << endl;"
   ]
  },
  {
   "cell_type": "markdown",
   "metadata": {},
   "source": [
    "Widzimy, że rozmiary instancji A i B to odpowiednie 1028 i 2064 B. Co jeżeli chcemy przechować te instancje w tablicy. Rozpatrzyć możemy takie możliwości:"
   ]
  },
  {
   "cell_type": "code",
   "execution_count": 4,
   "metadata": {},
   "outputs": [
    {
     "data": {
      "text/plain": []
     },
     "execution_count": 4,
     "metadata": {},
     "output_type": "execute_result"
    }
   ],
   "source": [
    "A tab_A[2];\n",
    "B tab_B[2];"
   ]
  },
  {
   "cell_type": "markdown",
   "metadata": {},
   "source": [
    "Na początek sprawdźmy odległości między elementami tablic. Zapiszemy w postaci *long* (to taki duży *int* zdolny do przechowania odpowiednio dużej wartości, a skoro pamięci w nowoczesnym komputerze jest dużo zwykły *int* nie wystarczy) położenie tab_A i jej elementu \\[1\\]. Wykorzystamy operator adresu \\&"
   ]
  },
  {
   "cell_type": "code",
   "execution_count": 5,
   "metadata": {},
   "outputs": [
    {
     "data": {
      "text/plain": []
     },
     "execution_count": 5,
     "metadata": {},
     "output_type": "execute_result"
    }
   ],
   "source": [
    "long pos_tabA  = (long)tab_A;\n",
    "long pos_tabA1 = (long)&tab_A[1];"
   ]
  },
  {
   "cell_type": "code",
   "execution_count": 6,
   "metadata": {},
   "outputs": [
    {
     "name": "stdout",
     "output_type": "stream",
     "text": [
      "1028\n"
     ]
    },
    {
     "data": {
      "text/plain": [
       "(std::basic_ostream<char, std::char_traits<char> >::__ostream_type &) @0x7f02c94a7480\n"
      ]
     },
     "execution_count": 6,
     "metadata": {},
     "output_type": "execute_result"
    }
   ],
   "source": [
    "cout << pos_tabA1 - pos_tabA << endl;"
   ]
  },
  {
   "cell_type": "markdown",
   "metadata": {},
   "source": [
    "Czyli możemy przechowywać w tablicy tab_A obiekty o rozmiarze 1028 B. Nie powinno nas to dziwić, taki jest w końcu rozmiar A. A co z tab_B:"
   ]
  },
  {
   "cell_type": "code",
   "execution_count": 7,
   "metadata": {},
   "outputs": [
    {
     "data": {
      "text/plain": []
     },
     "execution_count": 7,
     "metadata": {},
     "output_type": "execute_result"
    }
   ],
   "source": [
    "long pos_tabB  = (long)tab_B;\n",
    "long pos_tabB1 = (long)&tab_B[1];"
   ]
  },
  {
   "cell_type": "code",
   "execution_count": 8,
   "metadata": {},
   "outputs": [
    {
     "name": "stdout",
     "output_type": "stream",
     "text": [
      "2064\n"
     ]
    },
    {
     "data": {
      "text/plain": [
       "(std::basic_ostream<char, std::char_traits<char> >::__ostream_type &) @0x7f02c94a7480\n"
      ]
     },
     "execution_count": 8,
     "metadata": {},
     "output_type": "execute_result"
    }
   ],
   "source": [
    "cout << pos_tabB1 - pos_tabB << endl;"
   ]
  },
  {
   "cell_type": "markdown",
   "metadata": {},
   "source": [
    "A w tablicy tab_B zmieścimy obiekty o rozmiarze 2058 B. Co nas ponownie nie dziwi.  \n",
    "\n",
    "Naszym kolejnym krokiem jest próba wykorzystania *polimorfizmu* czyli faktu, że B jest rozszerzeniem A (tzn. jest A i czymś jeszcze):"
   ]
  },
  {
   "cell_type": "markdown",
   "metadata": {},
   "source": [
    "To zadziała, choć jest niepoprawne ze względu na rozmiar przechowywanych w tab_A elementów. tzn. element tab_A\\[1\\] \"wystaje\" poza zarezerwowaną pamięć!\n",
    "\n",
    "**Uwaga**: należy bezwzględnie unikać takiego zapisu:"
   ]
  },
  {
   "cell_type": "code",
   "execution_count": 9,
   "metadata": {},
   "outputs": [
    {
     "data": {
      "text/plain": [
       "(A &) @0x7f02ca6e4404\n"
      ]
     },
     "execution_count": 9,
     "metadata": {},
     "output_type": "execute_result"
    }
   ],
   "source": [
    "tab_A[0] = A();\n",
    "tab_A[1] = B();"
   ]
  },
  {
   "cell_type": "markdown",
   "metadata": {},
   "source": [
    "Może więc tak:"
   ]
  },
  {
   "cell_type": "code",
   "execution_count": 10,
   "metadata": {},
   "outputs": [
    {
     "name": "stderr",
     "output_type": "stream",
     "text": [
      "\u001b[1minput_line_13:2:11: \u001b[0m\u001b[0;1;31merror: \u001b[0m\u001b[1mno viable overloaded '='\u001b[0m\n",
      " tab_B[0] = A();\n",
      "\u001b[0;1;32m ~~~~~~~~ ^ ~~~\n",
      "\u001b[0m\u001b[1minput_line_4:8:8: \u001b[0m\u001b[0;1;30mnote: \u001b[0mcandidate function (the implicit copy assignment operator) not viable: no known conversion from 'A'\n",
      "      to 'const B' for 1st argument\u001b[0m\n",
      " class B : public A {\n",
      "\u001b[0;1;32m       ^\n",
      "\u001b[0m\u001b[1minput_line_4:8:8: \u001b[0m\u001b[0;1;30mnote: \u001b[0mcandidate function (the implicit move assignment operator) not viable: no known conversion from 'A'\n",
      "      to 'B' for 1st argument\u001b[0m\n"
     ]
    },
    {
     "ename": "ename",
     "evalue": "evalue",
     "output_type": "error",
     "traceback": []
    }
   ],
   "source": [
    "tab_B[0] = A();\n",
    "tab_B[1] = B();"
   ]
  },
  {
   "cell_type": "markdown",
   "metadata": {},
   "source": [
    "Ale to nie zadziała! Dzieje się tak, ponieważ staramy się zrzutować obiekt typu *bazowego* A na typ *pochodny* B, a w końcu to B zawiera w sobie A, natomiast A nie wie jak się rozszerzyć by stać się B (stąd komunikat o braku operatora =).  \n",
    "\n",
    "Jedynym dopuszczalnym działaniem jest przechowanie tablicy wskaźników do klasy bazowej A i wykorzystanie operatorów *new* i *delete* do stworzenia potrzebnych nam obiektów. Zrobimy to w taki sposób:"
   ]
  },
  {
   "cell_type": "code",
   "execution_count": 11,
   "metadata": {},
   "outputs": [
    {
     "data": {
      "text/plain": [
       "(A *) 0x7f02a4c527d0\n"
      ]
     },
     "execution_count": 11,
     "metadata": {},
     "output_type": "execute_result"
    }
   ],
   "source": [
    "A* tab[2];\n",
    "tab[0] = new A();\n",
    "tab[1] = new B();"
   ]
  },
  {
   "cell_type": "markdown",
   "metadata": {},
   "source": [
    "Działania na elementach tablicy"
   ]
  },
  {
   "cell_type": "code",
   "execution_count": 16,
   "metadata": {},
   "outputs": [
    {
     "name": "stdout",
     "output_type": "stream",
     "text": [
      "8\n",
      "1028\n"
     ]
    },
    {
     "data": {
      "text/plain": [
       "(std::basic_ostream<char, std::char_traits<char> >::__ostream_type &) @0x7f02c94a7480\n"
      ]
     },
     "execution_count": 16,
     "metadata": {},
     "output_type": "execute_result"
    }
   ],
   "source": [
    "cout << sizeof(tab[0]) << endl;\n",
    "cout << sizeof(*tab[0]) << endl;"
   ]
  },
  {
   "cell_type": "code",
   "execution_count": null,
   "metadata": {},
   "outputs": [],
   "source": [
    "delete tab[0];\n",
    "delete tab[1];"
   ]
  },
  {
   "cell_type": "markdown",
   "metadata": {},
   "source": [
    "Możemy więc przechować informację (wskaźnik do) o obiektach różnych klas w jednej kolekcji. Nie wiemy jeszcze co stanie się z wywołaniami atrybutów, ale to pokażemy za chwilę. Najpierw zajmiemy się diamentami."
   ]
  },
  {
   "attachments": {
    "Screenshot%20from%202019-11-01%2014-53-48.png": {
     "image/png": "[encoded data removed]"
    }
   },
   "cell_type": "markdown",
   "metadata": {},
   "source": [
    "## Wielodziedziczenie\n",
    "### Zagadnienie diamentu ...\n",
    "Język C++ umożliwia dziedziczenie po więcej niż jednej klasie. Może to prowadzić do struktury hierarchii zwanej diamentem. Jest to przypadek w, której klasa pochodna dziedziczy po dwóch klasach bazowych, które znowu dziedziczą po wspólnej klasie bazowej. Nie jest wówczas jasne w jaki sposób klasa znajdująca się najniżej w hierarchii ma się dostać do atrybutów klasy najwyższej. Przykładowy schemat UML takiej struktury wygląda następująco:\n",
    "\n",
    "![Screenshot%20from%202019-11-01%2014-53-48.png](attachment:Screenshot%20from%202019-11-01%2014-53-48.png)\n",
    "\n",
    "**Uwaga**: W części języków będącymi w jakimś sensie pochodnymi C++ uniemożliwia się w ogóle dziedziczenie wielokrotne by uniknąć tego problemu."
   ]
  },
  {
   "cell_type": "markdown",
   "metadata": {},
   "source": [
    "Postaramy się teraz pokazać konsekwencję takiego stanu, a następnie jak język C++ rozwiązuje ten problem. Hierarchia jest jak na ilustracji, po klasie bazowej A dziedziczą klasy B i C. Klasa D dziedziczy zarówno po B i C. Klasy posiadają pewne atrybuty, mamy więc:"
   ]
  },
  {
   "cell_type": "code",
   "execution_count": 1,
   "metadata": {},
   "outputs": [
    {
     "data": {
      "text/plain": []
     },
     "execution_count": 1,
     "metadata": {},
     "output_type": "execute_result"
    }
   ],
   "source": [
    "#include <iostream>\n",
    "using namespace std;"
   ]
  },
  {
   "cell_type": "code",
   "execution_count": 2,
   "metadata": {},
   "outputs": [
    {
     "data": {
      "text/plain": []
     },
     "execution_count": 2,
     "metadata": {},
     "output_type": "execute_result"
    }
   ],
   "source": [
    "class A {\n",
    "  char buff [1024];\n",
    "public :\n",
    "  void show () {cout << \"Wywołano medodę A\" << endl;}\n",
    "};\n",
    "\n",
    "class B : public A {int b;};\n",
    "class C : public A {int c;};\n",
    "\n",
    "class D : public B , public C { int d;};"
   ]
  },
  {
   "cell_type": "markdown",
   "metadata": {},
   "source": [
    "Rozmiary instancji poszczególnych klas wyglądają następująco:"
   ]
  },
  {
   "cell_type": "code",
   "execution_count": 3,
   "metadata": {},
   "outputs": [
    {
     "name": "stdout",
     "output_type": "stream",
     "text": [
      "A: 1024 B: 1028 C: 1028\n",
      "ale D: 2060\n"
     ]
    },
    {
     "data": {
      "text/plain": [
       "(std::basic_ostream<char, std::char_traits<char> >::__ostream_type &) @0x7fb9d2df4480\n"
      ]
     },
     "execution_count": 3,
     "metadata": {},
     "output_type": "execute_result"
    }
   ],
   "source": [
    "cout << \"A: \" << sizeof(A) << \" B: \" << sizeof(B) << \" C: \" << sizeof(C) << endl;\n",
    "cout << \"ale D: \" << sizeof(D) << endl;"
   ]
  },
  {
   "cell_type": "markdown",
   "metadata": {},
   "source": [
    "Obiekt typu A zajmuje 1024B, i wiemy dlaczego. obiekty typu B i C dodają po 4B ze względu na swoje atrybuty. Natomiast obiekt typu D zdaje się zawierać 2x1024 + 4 + 4 + 4 = 2060B! Czyli zawiera w sobie dwie instancje klasy A! Być może tego właśnie chcemy (raczej nie), ale jak teraz jednoznacznie dostać się do atrybutów A?"
   ]
  },
  {
   "cell_type": "code",
   "execution_count": 4,
   "metadata": {},
   "outputs": [
    {
     "name": "stdout",
     "output_type": "stream",
     "text": [
      "Wywołano medodę A\n",
      "Wywołano medodę A\n",
      "Wywołano medodę A\n"
     ]
    },
    {
     "data": {
      "text/plain": [
       "(void) @0x7fb9c97f8c30\n"
      ]
     },
     "execution_count": 4,
     "metadata": {},
     "output_type": "execute_result"
    }
   ],
   "source": [
    "A a; a.show();\n",
    "B b; b.show();\n",
    "C c; c.show();"
   ]
  },
  {
   "cell_type": "markdown",
   "metadata": {},
   "source": [
    "To zadziałało, ale:"
   ]
  },
  {
   "cell_type": "code",
   "execution_count": 5,
   "metadata": {},
   "outputs": [
    {
     "name": "stderr",
     "output_type": "stream",
     "text": [
      "\u001b[1minput_line_8:3:3: \u001b[0m\u001b[0;1;31merror: \u001b[0m\u001b[1mnon-static member 'show' found in multiple base-class subobjects of type 'A':\n",
      "    class D -> class B -> class A\n",
      "    class D -> class C -> class A\u001b[0m\n",
      "d.show();\n",
      "\u001b[0;1;32m  ^\n",
      "\u001b[0m\u001b[1minput_line_4:4:8: \u001b[0m\u001b[0;1;30mnote: \u001b[0mmember found by ambiguous name lookup\u001b[0m\n",
      "  void show () {cout << \"Wywołano medodę A\" << endl;}\n",
      "\u001b[0;1;32m       ^\n",
      "\u001b[0m"
     ]
    },
    {
     "ename": "ename",
     "evalue": "evalue",
     "output_type": "error",
     "traceback": []
    }
   ],
   "source": [
    "D d;\n",
    "d.show();"
   ]
  },
  {
   "cell_type": "markdown",
   "metadata": {},
   "source": [
    "Nie możemy więc bezpośrednio dostać sie do atrybutu klasy bazowej A, ponieważ nie jest jasne czy dostajemy się do A przez B, czy przez C. Zadziała natomiast:"
   ]
  },
  {
   "cell_type": "code",
   "execution_count": 6,
   "metadata": {},
   "outputs": [
    {
     "name": "stdout",
     "output_type": "stream",
     "text": [
      "Wywołano medodę A\n",
      "Wywołano medodę A\n"
     ]
    },
    {
     "data": {
      "text/plain": [
       "(void) @0x7fb9c97f8c30\n"
      ]
     },
     "execution_count": 6,
     "metadata": {},
     "output_type": "execute_result"
    }
   ],
   "source": [
    "b.B::show();\n",
    "b.C::show();"
   ]
  },
  {
   "cell_type": "markdown",
   "metadata": {},
   "source": [
    "Dostęp z operatorem zasięgu i uszczegółowienie w jaki sposób chcemy dotrzeć do potrzebnego nam atrybutu."
   ]
  },
  {
   "cell_type": "markdown",
   "metadata": {},
   "source": [
    "### ... i jego rozwiązanie\n",
    "Aby jednoznacznie rozwiązać problem wielodziedziczenia wprowadzono koncept dziedziczenie wirtualnego. Deklaruje się je przy użyciu słówka kluczowego *virtual*:"
   ]
  },
  {
   "cell_type": "code",
   "execution_count": null,
   "metadata": {},
   "outputs": [],
   "source": [
    "class B : public virtual A {};"
   ]
  },
  {
   "cell_type": "markdown",
   "metadata": {},
   "source": [
    "Celem jest poinformowanie kompilatora, że dostęp do atrybutów powinien byc jednoznaczny oraz, że klasa bazowa powinna zostać wykorzystana jedynie raz. Zobaczmy to na przykładzie. Hierarchia klas jest jak poprzednio:"
   ]
  },
  {
   "cell_type": "code",
   "execution_count": 1,
   "metadata": {},
   "outputs": [
    {
     "data": {
      "text/plain": []
     },
     "execution_count": 1,
     "metadata": {},
     "output_type": "execute_result"
    }
   ],
   "source": [
    "#include <iostream>\n",
    "using namespace std;"
   ]
  },
  {
   "cell_type": "code",
   "execution_count": 2,
   "metadata": {},
   "outputs": [
    {
     "data": {
      "text/plain": []
     },
     "execution_count": 2,
     "metadata": {},
     "output_type": "execute_result"
    }
   ],
   "source": [
    "class A {\n",
    "  char buff [1024];\n",
    "public :\n",
    "  void show () {cout << \"Wywołano medodę A\" << endl;}\n",
    "};\n",
    "\n",
    "class B : public virtual A {int b;};\n",
    "class C : public virtual A {int c;};\n",
    "\n",
    "class D : public B , public C {int d;};"
   ]
  },
  {
   "cell_type": "markdown",
   "metadata": {},
   "source": [
    "teraz:"
   ]
  },
  {
   "cell_type": "code",
   "execution_count": 3,
   "metadata": {},
   "outputs": [
    {
     "name": "stdout",
     "output_type": "stream",
     "text": [
      "A: 1024 B: 1040 C: 1040\n",
      "ale D: 1056\n"
     ]
    },
    {
     "data": {
      "text/plain": [
       "(std::basic_ostream<char, std::char_traits<char> >::__ostream_type &) @0x7ff0c79d9480\n"
      ]
     },
     "execution_count": 3,
     "metadata": {},
     "output_type": "execute_result"
    }
   ],
   "source": [
    "cout << \"A: \" << sizeof(A) << \" B: \" << sizeof(B) << \" C: \" << sizeof(C) << endl;\n",
    "cout << \"ale D: \" << sizeof(D) << endl;"
   ]
  },
  {
   "cell_type": "markdown",
   "metadata": {},
   "source": [
    "Zauważamy, że instancje B i C są większe niż poprzednio o 12B, jest to cena jaką płacimy za wirtualność dziedziczenia. Natomiast rozmiar D to 1056, więc też odrobinę więcej niż proste sumowanie atrybutów A, B i C (1024 + 4 + 4) oraz atrybutów D (4).  \n",
    "\n",
    "Dostęp do atrybutów A jest teraz jednoznaczny:"
   ]
  },
  {
   "cell_type": "code",
   "execution_count": 4,
   "metadata": {},
   "outputs": [
    {
     "name": "stdout",
     "output_type": "stream",
     "text": [
      "Wywołano medodę A\n",
      "Wywołano medodę A\n",
      "Wywołano medodę A\n",
      "Wywołano medodę A\n"
     ]
    },
    {
     "data": {
      "text/plain": [
       "(void) @0x7ff0b67fac30\n"
      ]
     },
     "execution_count": 4,
     "metadata": {},
     "output_type": "execute_result"
    }
   ],
   "source": [
    "A a; a.show();\n",
    "B b; b.show();\n",
    "C c; c.show();\n",
    "D d; d.show();"
   ]
  },
  {
   "cell_type": "markdown",
   "metadata": {},
   "source": [
    "## Dostęp do atrybutów - unifikacja interfejsu\n",
    "Zaczniemy teraz unifikować dostęp do atrybutów klasy bazowej i dziedziczących. Wróćmy do początkowego przykładu farmerskiego. Zwierzęta na naszej famie rozpatrzymy jako dziedziczące po klasie bazowej *bydle*, damy im też umiejętność jedzenia i wydawanie dźwięku."
   ]
  },
  {
   "cell_type": "code",
   "execution_count": 1,
   "metadata": {},
   "outputs": [
    {
     "data": {
      "text/plain": []
     },
     "execution_count": 1,
     "metadata": {},
     "output_type": "execute_result"
    }
   ],
   "source": [
    "#include <iostream>\n",
    "using namespace std;"
   ]
  },
  {
   "cell_type": "code",
   "execution_count": 2,
   "metadata": {},
   "outputs": [
    {
     "data": {
      "text/plain": []
     },
     "execution_count": 2,
     "metadata": {},
     "output_type": "execute_result"
    }
   ],
   "source": [
    "class bydle {\n",
    "public :\n",
    "  void jedz () {cout << \"jedz() not implemented for base class bydle!!\" << endl;}\n",
    "  void dzwiek(){cout << \"dzwiek() not implemented for base class bydle!!\" << endl;}\n",
    "};\n",
    "\n",
    "class kura : public bydle {\n",
    "public :\n",
    "  void dzwiek() {cout << \" Kokoko\" << endl;}\n",
    "  void jedz() {cout << \" Kura dziobie i grzebie\" << endl;};\n",
    "};\n",
    "class krowa : public bydle {\n",
    "public :\n",
    "  void dzwiek() {cout << \" Muuu\" << endl;}\n",
    "  void jedz() {cout << \" Krowa przezuwa\" <<endl;}\n",
    "};"
   ]
  },
  {
   "cell_type": "markdown",
   "metadata": {},
   "source": [
    "Wszystkie trzy klasy definiują obiekty i można je stworzyć i użyć. Rezultat poniższego nie powinien być dla nas zdziwieniem:"
   ]
  },
  {
   "cell_type": "code",
   "execution_count": 3,
   "metadata": {},
   "outputs": [
    {
     "name": "stdout",
     "output_type": "stream",
     "text": [
      "jedz() not implemented for base class bydle!!\n",
      "dzwiek() not implemented for base class bydle!!\n",
      " Kura dziobie i grzebie\n",
      " Kokoko\n",
      " Krowa przezuwa\n",
      " Muuu\n"
     ]
    },
    {
     "data": {
      "text/plain": [
       "(void) @0x7f1df5ff9c30\n"
      ]
     },
     "execution_count": 3,
     "metadata": {},
     "output_type": "execute_result"
    }
   ],
   "source": [
    "bydle b;\n",
    "b.jedz();\n",
    "b.dzwiek();\n",
    "\n",
    "kura ku;\n",
    "ku.jedz();\n",
    "ku.dzwiek();\n",
    "\n",
    "krowa kr;\n",
    "kr.jedz();\n",
    "kr.dzwiek();"
   ]
  },
  {
   "cell_type": "markdown",
   "metadata": {},
   "source": [
    "Klasy *kura* i *krowa* dziedziczą po klasie *bydle* spróbujemy więc przenieść naszą relację na wyższy poziom i nie wdawać się w to jakim konkretnie typem się zajmujemy. Wiemy, że w tablicy przechowywać powinniśmy wskaźniki:"
   ]
  },
  {
   "cell_type": "code",
   "execution_count": 4,
   "metadata": {},
   "outputs": [
    {
     "data": {
      "text/plain": [
       "(bydle *) 0x7f1dd865b220\n"
      ]
     },
     "execution_count": 4,
     "metadata": {},
     "output_type": "execute_result"
    }
   ],
   "source": [
    "bydle* tab[3];\n",
    "tab[0] = new bydle();\n",
    "tab[1] = new kura();\n",
    "tab[2] = new krowa();"
   ]
  },
  {
   "cell_type": "markdown",
   "metadata": {},
   "source": [
    "Natomiast taki zabieg pozwoli na wywołanie metod:"
   ]
  },
  {
   "cell_type": "code",
   "execution_count": 5,
   "metadata": {},
   "outputs": [
    {
     "name": "stdout",
     "output_type": "stream",
     "text": [
      "jedz() not implemented for base class bydle!!\n",
      "dzwiek() not implemented for base class bydle!!\n",
      "jedz() not implemented for base class bydle!!\n",
      "dzwiek() not implemented for base class bydle!!\n",
      "jedz() not implemented for base class bydle!!\n",
      "dzwiek() not implemented for base class bydle!!\n"
     ]
    },
    {
     "data": {
      "text/plain": []
     },
     "execution_count": 5,
     "metadata": {},
     "output_type": "execute_result"
    }
   ],
   "source": [
    "for( int i=0; i<3; ++i){\n",
    "    tab[i]->jedz();\n",
    "    tab[i]->dzwiek();\n",
    "}"
   ]
  },
  {
   "cell_type": "markdown",
   "metadata": {},
   "source": [
    "ale tylko dla klasy bazowej! Nie jest to to co byśmy chcieli zobaczyć. Oczywiście można wykonać rzutowanie na odpowiednie typy, ale było by to niewygodne i w zasadzie bezsensu.\n",
    "\n",
    "### Metody wirtualne\n",
    "Co możemy więc zrobić?  \n",
    "Dostęp do prawidłowej metody realizuję się poprzez dodanie słowa kluczowego *virtual* do deklaracji metody. Zabieg ten pozwala na wywołanie metody klasy pochodnej z poziomu klasy bazowej. Nie jest to zabieg \"darmowy\", a obarczony pewnym kosztem pamięci i czasu ponieważ jest realizowany nie w czasie kompilacji przez dowiązanie metod, a w czasie wykonania programu i wymaga stworzenia tablicy metod wirtualnych."
   ]
  },
  {
   "cell_type": "code",
   "execution_count": 1,
   "metadata": {},
   "outputs": [
    {
     "data": {
      "text/plain": []
     },
     "execution_count": 1,
     "metadata": {},
     "output_type": "execute_result"
    }
   ],
   "source": [
    "#include <iostream>\n",
    "using namespace std;"
   ]
  },
  {
   "cell_type": "code",
   "execution_count": 2,
   "metadata": {},
   "outputs": [
    {
     "data": {
      "text/plain": []
     },
     "execution_count": 2,
     "metadata": {},
     "output_type": "execute_result"
    }
   ],
   "source": [
    "class bydle {\n",
    "public :\n",
    "  virtual void jedz () {cout << \"jedz() not implemented for base class bydle!!\" << endl;}\n",
    "  virtual void dzwiek(){cout << \"dzwiek() not implemented for base class bydle!!\" << endl;}\n",
    "};\n",
    "\n",
    "class kura : public bydle {\n",
    "public :\n",
    "  virtual void dzwiek() {cout << \" Kokoko\" << endl;}\n",
    "  virtual void jedz() {cout << \" Kura dziobie i grzebie\" << endl;};\n",
    "};\n",
    "class krowa : public bydle {\n",
    "public :\n",
    "  virtual void dzwiek() {cout << \" Muuu\" << endl;}\n",
    "  virtual void jedz() {cout << \" Krowa przezuwa\" <<endl;}\n",
    "};"
   ]
  },
  {
   "cell_type": "markdown",
   "metadata": {},
   "source": [
    "Teraz:"
   ]
  },
  {
   "cell_type": "code",
   "execution_count": 3,
   "metadata": {},
   "outputs": [
    {
     "name": "stdout",
     "output_type": "stream",
     "text": [
      "jedz() not implemented for base class bydle!!\n",
      "dzwiek() not implemented for base class bydle!!\n",
      " Kura dziobie i grzebie\n",
      " Kokoko\n",
      " Krowa przezuwa\n",
      " Muuu\n"
     ]
    },
    {
     "data": {
      "text/plain": []
     },
     "execution_count": 3,
     "metadata": {},
     "output_type": "execute_result"
    }
   ],
   "source": [
    "bydle* tab[3];\n",
    "tab[0] = new bydle();\n",
    "tab[1] = new kura();\n",
    "tab[2] = new krowa();\n",
    "\n",
    "for( int i=0; i<3; ++i){\n",
    "    tab[i]->jedz();\n",
    "    tab[i]->dzwiek();\n",
    "}"
   ]
  },
  {
   "cell_type": "markdown",
   "metadata": {},
   "source": [
    "Widzimy, że wywołano metody klas pochodnych, czyli to czego chcieliśmy."
   ]
  },
  {
   "cell_type": "markdown",
   "metadata": {},
   "source": [
    "## Kolejność wywolania metod konstruktora i destruktora\n",
    "### Konstruktor\n",
    "W chwili tworzenia obiektu pochodnego obiekt bazowy (subobiekt) powinien już istnieć. Tak więc konstruktor bazowy zostanie wywołany najpierw. Powinniśmy zwrócić na ten fakt uwagę pisząc własne konstruktory dla klas pochodnych i wywoływać konstruktory klas bazowych w liście inicjalizacyjnej."
   ]
  },
  {
   "cell_type": "code",
   "execution_count": 1,
   "metadata": {},
   "outputs": [
    {
     "data": {
      "text/plain": []
     },
     "execution_count": 1,
     "metadata": {},
     "output_type": "execute_result"
    }
   ],
   "source": [
    "#include <iostream>\n",
    "using namespace std;"
   ]
  },
  {
   "cell_type": "code",
   "execution_count": 3,
   "metadata": {},
   "outputs": [
    {
     "data": {
      "text/plain": []
     },
     "execution_count": 3,
     "metadata": {},
     "output_type": "execute_result"
    }
   ],
   "source": [
    "class A {\n",
    "public :\n",
    "  A () { cout << \"Konstruktor A \" << endl ;}\n",
    "  A ( int a ) { cout << \"konstruktor parametryczny A \" << a << endl;}\n",
    "};\n",
    "\n",
    "class B : public A {};"
   ]
  },
  {
   "cell_type": "markdown",
   "metadata": {},
   "source": [
    "Stwórzmy teraz obiekty A i B:"
   ]
  },
  {
   "cell_type": "code",
   "execution_count": 4,
   "metadata": {},
   "outputs": [
    {
     "name": "stdout",
     "output_type": "stream",
     "text": [
      "Konstruktor A \n",
      "konstruktor parametryczny A 1\n",
      "Konstruktor A \n"
     ]
    },
    {
     "data": {
      "text/plain": []
     },
     "execution_count": 4,
     "metadata": {},
     "output_type": "execute_result"
    }
   ],
   "source": [
    "A a, a1(1);\n",
    "B b;"
   ]
  },
  {
   "cell_type": "markdown",
   "metadata": {},
   "source": [
    "Oba wywołały konstruktor bazowy A. Co jeżeli jawnie stworzymy konstruktor B. Wówczas powinniśmy wywołać odpowiadający nam konstruktor klasy bazowej w liście inicjalizacyjnej:"
   ]
  },
  {
   "cell_type": "code",
   "execution_count": 1,
   "metadata": {},
   "outputs": [
    {
     "data": {
      "text/plain": []
     },
     "execution_count": 1,
     "metadata": {},
     "output_type": "execute_result"
    }
   ],
   "source": [
    "#include <iostream>\n",
    "using namespace std;\n",
    "\n",
    "class A {\n",
    "public :\n",
    "  A() { cout << \"Konstruktor A \" << endl ;}\n",
    "  A(int a) { cout << \"konstruktor parametryczny A \" << a << endl;}\n",
    "};\n",
    "\n",
    "class B : public A {\n",
    "public :\n",
    "  B() : A() { cout << \"Konstruktor B \" << endl ;}\n",
    "  B(int a) : A(a) {cout << \"Konstruktor parametryczny B \" << a << endl;}\n",
    "};"
   ]
  },
  {
   "cell_type": "markdown",
   "metadata": {},
   "source": [
    "Stwórzmy kilka instancji B:"
   ]
  },
  {
   "cell_type": "code",
   "execution_count": 2,
   "metadata": {},
   "outputs": [
    {
     "name": "stdout",
     "output_type": "stream",
     "text": [
      "Konstruktor A \n",
      "Konstruktor B \n",
      "konstruktor parametryczny A 1\n",
      "Konstruktor parametryczny B 1\n"
     ]
    },
    {
     "data": {
      "text/plain": []
     },
     "execution_count": 2,
     "metadata": {},
     "output_type": "execute_result"
    }
   ],
   "source": [
    "B b, b1(1);"
   ]
  },
  {
   "cell_type": "markdown",
   "metadata": {},
   "source": [
    "### Destruktor\n",
    "O ile kontrując obiekt jawnie wywołujemy konstruktor klasy pochodnej (wiemy co chcemy utworzyć), o tyle w przypadku wywołania destruktora możliwe, że dysponujemy jedynie odniesieniem do typu bazowego (nie koniecznie wiemy i nie obchodzi nas co niszczymy). Dodatkowo, to klasa pochodna determinowała wykorzystywane przez obiekt zasoby i ich zwolnienia możemy dokonać jedynie z poziomu obiektu pochodnego. Aby to umożliwić, konieczne będzie wykorzystanie mechanizmu funkcji wirtualnych, tj. destruktor uczynimy wirtualnym.\n",
    "\n",
    "**Uwaga**: dobrą praktyką jest czynić destruktor wirtualnym.\n",
    "\n",
    "Rozważmy następujący przykład, w którym klasa B dziedziczy po klasie A, obie definiują destruktory:"
   ]
  },
  {
   "cell_type": "code",
   "execution_count": 1,
   "metadata": {},
   "outputs": [
    {
     "data": {
      "text/plain": []
     },
     "execution_count": 1,
     "metadata": {},
     "output_type": "execute_result"
    }
   ],
   "source": [
    "#include <iostream>\n",
    "using namespace std;\n",
    "\n",
    "class A{\n",
    "    public:\n",
    "    A() {cout << \"Konstruktor A\" << endl;}\n",
    "    ~A(){cout << \"Destruktor A\" << endl;}\n",
    "};\n",
    "\n",
    "class B : public A{\n",
    "    public:\n",
    "    B(int n) : A() {\n",
    "        cout << \"Konstruktor B - stworzenie tablicy \" << n << \" elementów \" << endl;\n",
    "        ptab = new int[n];\n",
    "    }\n",
    "    ~B() {\n",
    "        cout << \"Destruktor B - zniszczenie tablicy \" << endl;\n",
    "        delete [] ptab;\n",
    "    }\n",
    "    \n",
    "    private:\n",
    "    int* ptab;\n",
    "};"
   ]
  },
  {
   "cell_type": "markdown",
   "metadata": {},
   "source": [
    "Stwórzmy kilka instancji, dodatkowo ograniczymy zakres obowiązywania by zapewnić wywołanie destruktora:"
   ]
  },
  {
   "cell_type": "code",
   "execution_count": 2,
   "metadata": {},
   "outputs": [
    {
     "name": "stdout",
     "output_type": "stream",
     "text": [
      "Konstruktor A\n",
      "Konstruktor A\n",
      "Konstruktor B - stworzenie tablicy 5 elementów \n",
      "Destruktor B - zniszczenie tablicy \n",
      "Destruktor A\n",
      "Destruktor A\n"
     ]
    },
    {
     "data": {
      "text/plain": []
     },
     "execution_count": 2,
     "metadata": {},
     "output_type": "execute_result"
    }
   ],
   "source": [
    "{\n",
    "    A a;\n",
    "    B b(5);\n",
    "}"
   ]
  },
  {
   "cell_type": "markdown",
   "metadata": {},
   "source": [
    "Jak widzimy w obu przypadkach wywołano destruktor klasy bazowej A, a w przypadku obiektu typu B wywołany został najpierw destruktor B a następnie A. Zdaje się, że wszystko jest w porządku, ale jest tak tylko dlatego, że w sposób jawny operowaliśmy typem B. Co stanie się, jeżeli dysponujemy jedynie wskaźnikiem na typ bazowy:"
   ]
  },
  {
   "cell_type": "code",
   "execution_count": 3,
   "metadata": {},
   "outputs": [
    {
     "name": "stdout",
     "output_type": "stream",
     "text": [
      "Konstruktor A\n",
      "Konstruktor B - stworzenie tablicy 2 elementów \n",
      "Konstruktor A\n",
      "Konstruktor B - stworzenie tablicy 5 elementów \n"
     ]
    },
    {
     "data": {
      "text/plain": [
       "(A *) 0x7f4e2892ab70\n"
      ]
     },
     "execution_count": 3,
     "metadata": {},
     "output_type": "execute_result"
    }
   ],
   "source": [
    "A* tab[2];\n",
    "tab[0] = new B(2);\n",
    "tab[1] = new B(5);"
   ]
  },
  {
   "cell_type": "code",
   "execution_count": 4,
   "metadata": {},
   "outputs": [
    {
     "name": "stdout",
     "output_type": "stream",
     "text": [
      "Destruktor A\n",
      "Destruktor A\n"
     ]
    },
    {
     "data": {
      "text/plain": [
       "(void) nullptr\n"
      ]
     },
     "execution_count": 4,
     "metadata": {},
     "output_type": "execute_result"
    }
   ],
   "source": [
    "delete tab[0];\n",
    "delete tab[1];"
   ]
  },
  {
   "cell_type": "markdown",
   "metadata": {},
   "source": [
    "Wywołany został jedynie destruktor A! Destruktor B nie został wywołany, a to znaczy, że niezwolniona została zaalokowana wcześniej pamięć. Może sie to wydawać mało ważne (pamięci jest dużo!), ale tak nie jest. Np. w przypadku wyspecjalizowanego sprzętu, lub gdy tworzenie i destrukcja obiektów następuje często, a jednocześnie zajmują one dużo zasobów, czy w końcu gdy zniszczony właśnie obiekt był właścicielem istotnego zasobu (dostępu do urządzenia).  \n",
    "\n",
    "Aby zapewnić wywołanie destruktora klasy pochodnej, uczyńmy go wirtualnym:"
   ]
  },
  {
   "cell_type": "code",
   "execution_count": 1,
   "metadata": {},
   "outputs": [
    {
     "data": {
      "text/plain": []
     },
     "execution_count": 1,
     "metadata": {},
     "output_type": "execute_result"
    }
   ],
   "source": [
    "#include <iostream>\n",
    "using namespace std;\n",
    "\n",
    "class A{\n",
    "    public:\n",
    "    A() {cout << \"Konstruktor A\" << endl;}\n",
    "    virtual ~A(){cout << \"Destruktor A\" << endl;}\n",
    "};\n",
    "\n",
    "class B : public A{\n",
    "    public:\n",
    "    B(int n) : A() {\n",
    "        cout << \"Konstruktor B - stworzenie tablicy \" << n << \" elementów \" << endl;\n",
    "        ptab = new int[n];\n",
    "    }\n",
    "    virtual ~B() {\n",
    "        cout << \"Destruktor B - zniszczenie tablicy \" << endl;\n",
    "        delete [] ptab;\n",
    "    }\n",
    "    private:\n",
    "    int* ptab;\n",
    "};"
   ]
  },
  {
   "cell_type": "code",
   "execution_count": 2,
   "metadata": {},
   "outputs": [
    {
     "name": "stdout",
     "output_type": "stream",
     "text": [
      "Konstruktor A\n",
      "Konstruktor B - stworzenie tablicy 2 elementów \n",
      "Konstruktor A\n",
      "Konstruktor B - stworzenie tablicy 5 elementów \n"
     ]
    },
    {
     "data": {
      "text/plain": [
       "(A *) 0x7f0b682478d0\n"
      ]
     },
     "execution_count": 2,
     "metadata": {},
     "output_type": "execute_result"
    }
   ],
   "source": [
    "A* tab[2];\n",
    "tab[0] = new B(2);\n",
    "tab[1] = new B(5);"
   ]
  },
  {
   "cell_type": "code",
   "execution_count": 3,
   "metadata": {},
   "outputs": [
    {
     "name": "stdout",
     "output_type": "stream",
     "text": [
      "Destruktor B - zniszczenie tablicy \n",
      "Destruktor A\n",
      "Destruktor B - zniszczenie tablicy \n",
      "Destruktor A\n"
     ]
    },
    {
     "data": {
      "text/plain": [
       "(void) @0x7f0b85ff9c30\n"
      ]
     },
     "execution_count": 3,
     "metadata": {},
     "output_type": "execute_result"
    }
   ],
   "source": [
    "delete tab[0];\n",
    "delete tab[1];"
   ]
  },
  {
   "cell_type": "markdown",
   "metadata": {},
   "source": [
    "Zauważamy, że destruktory zostały wywołane poprawnie."
   ]
  },
  {
   "cell_type": "markdown",
   "metadata": {},
   "source": [
    "## Uniemożliwienie dziedziczenia\n",
    "Może zajść potrzeba uniemożliwienia dziedziczenia po danej klasie. Klasyczne podejście opierało się o przeniesienie konstruktora do sekcji *private* i stworzeniu statycznej metody tworzącej instancję obiektu. Takie rozwiązanie jest jednak niewygodne, wymaga stworzenia metody dla każdego typu konstruktora, jest nieczytelne i co najważniejsze: o próbie dziedziczenia po takiej klasie kompilator poinformuje nas dopiero gdy spróbujemy stworzyć instancję klasy.\n",
    "\n",
    "Na szczęście standard C11 wprowadza słowo kluczowe *final*, które rozwiązuje ten problem."
   ]
  },
  {
   "cell_type": "markdown",
   "metadata": {},
   "source": [
    "**Przykład przed C11:**"
   ]
  },
  {
   "cell_type": "code",
   "execution_count": 1,
   "metadata": {},
   "outputs": [
    {
     "data": {
      "text/plain": []
     },
     "execution_count": 1,
     "metadata": {},
     "output_type": "execute_result"
    }
   ],
   "source": [
    "#include <iostream>\n",
    "using namespace std;\n",
    "\n",
    "class A {\n",
    "private:\n",
    "  A() {}\n",
    "public:\n",
    "  static A* zrobA(){return new A();}\n",
    "};\n",
    "class B : public A {};"
   ]
  },
  {
   "cell_type": "markdown",
   "metadata": {},
   "source": [
    "Błąd zobaczymy dopiero przy próbie utworzenia obiektu:"
   ]
  },
  {
   "cell_type": "code",
   "execution_count": 2,
   "metadata": {},
   "outputs": [
    {
     "name": "stderr",
     "output_type": "stream",
     "text": [
      "\u001b[1minput_line_4:2:4: \u001b[0m\u001b[0;1;31merror: \u001b[0m\u001b[1mcall to implicitly-deleted default constructor of 'B'\u001b[0m\n",
      " B b;\n",
      "\u001b[0;1;32m   ^\n",
      "\u001b[0m\u001b[1minput_line_3:11:11: \u001b[0m\u001b[0;1;30mnote: \u001b[0mdefault constructor of 'B' is implicitly deleted because base class 'A' has an inaccessible default\n",
      "      constructor\u001b[0m\n",
      "class B : public A {};\n",
      "\u001b[0;1;32m          ^\n",
      "\u001b[0m"
     ]
    },
    {
     "ename": "ename",
     "evalue": "evalue",
     "output_type": "error",
     "traceback": []
    }
   ],
   "source": [
    "B b;"
   ]
  },
  {
   "cell_type": "markdown",
   "metadata": {},
   "source": [
    "**Przykład po C11**:"
   ]
  },
  {
   "cell_type": "code",
   "execution_count": 1,
   "metadata": {},
   "outputs": [
    {
     "name": "stderr",
     "output_type": "stream",
     "text": [
      "\u001b[1minput_line_3:6:18: \u001b[0m\u001b[0;1;31merror: \u001b[0m\u001b[1mbase 'A' is marked 'final'\u001b[0m\n",
      "class B : public A {};\n",
      "\u001b[0;1;32m                 ^\n",
      "\u001b[0m\u001b[1minput_line_3:2:8: \u001b[0m\u001b[0;1;30mnote: \u001b[0m'A' declared here\u001b[0m\n",
      " class A final {\n",
      "\u001b[0;1;32m       ^ ~~~~~\n",
      "\u001b[0m"
     ]
    },
    {
     "ename": "ename",
     "evalue": "evalue",
     "output_type": "error",
     "traceback": []
    }
   ],
   "source": [
    "class A final {\n",
    "public :\n",
    "  A () {};\n",
    "};\n",
    "class B : public A {};"
   ]
  },
  {
   "cell_type": "markdown",
   "metadata": {},
   "source": [
    "## Metody i klasy abstrakcyjne\n",
    "Wiemy już o metodach wirtualnych. Metody takie nie muszą definiować ciała w klasie bazowej, bo ciało takie może nie mieć sensu - np.: co miało by oznaczać PoliczPole() w bazowej klasie kształt?\n",
    "\n",
    "Metodę taka deklarujemy jako pustą poprzez =0 (patrz przykład). Jeżeli klasa posiada metodę abstrakcyjną staje się ona abstrakcyjna i nie ma możliwości utworzenia obiektu takiej klasy. (W innych językach klasa taka nazywa się też interfejsem). konieczne staje się dziedziczenie i implementacja wszystkich metod abstrakcyjnych.  \n",
    "\n",
    "Rozpatrzmy następujący przykład. Klasa bazowa kształt jest abstrakcyjna i deklaruje dwie metody wirtualne pole() i obwód()."
   ]
  },
  {
   "cell_type": "code",
   "execution_count": 1,
   "metadata": {},
   "outputs": [
    {
     "data": {
      "text/plain": []
     },
     "execution_count": 1,
     "metadata": {},
     "output_type": "execute_result"
    }
   ],
   "source": [
    "#include <iostream>\n",
    "using namespace std;\n",
    "\n",
    "class ksztalt {\n",
    "public :\n",
    "  virtual double pole()  = 0;\n",
    "  virtual double obwod() = 0;\n",
    "  double p_o() {return pole()/obwod();}\n",
    "};"
   ]
  },
  {
   "cell_type": "markdown",
   "metadata": {},
   "source": [
    "Klasa pochodna prostokąt implementuje obie metody:"
   ]
  },
  {
   "cell_type": "code",
   "execution_count": 2,
   "metadata": {},
   "outputs": [
    {
     "data": {
      "text/plain": []
     },
     "execution_count": 2,
     "metadata": {},
     "output_type": "execute_result"
    }
   ],
   "source": [
    "class prostokat : public ksztalt {\n",
    "public:\n",
    "  prostokat(double a, double b) : a(a), b(b) {}\n",
    "    \n",
    "  virtual double pole(){return  a*b;}\n",
    "  virtual double obwod(){return 2*a+2*b;}\n",
    "private:\n",
    "  double a;\n",
    "  double b;\n",
    "};"
   ]
  },
  {
   "cell_type": "markdown",
   "metadata": {},
   "source": [
    "Spróbujmy teraz utworzyć instancję klas kształt i prostokąt:"
   ]
  },
  {
   "cell_type": "code",
   "execution_count": 3,
   "metadata": {},
   "outputs": [
    {
     "name": "stderr",
     "output_type": "stream",
     "text": [
      "\u001b[1minput_line_5:2:10: \u001b[0m\u001b[0;1;31merror: \u001b[0m\u001b[1mvariable type 'ksztalt' is an abstract class\u001b[0m\n",
      " ksztalt k;\n",
      "\u001b[0;1;32m         ^\n",
      "\u001b[0m\u001b[1minput_line_3:7:18: \u001b[0m\u001b[0;1;30mnote: \u001b[0munimplemented pure virtual method 'pole' in 'ksztalt'\u001b[0m\n",
      "  virtual double pole()  = 0;\n",
      "\u001b[0;1;32m                 ^\n",
      "\u001b[0m\u001b[1minput_line_3:8:18: \u001b[0m\u001b[0;1;30mnote: \u001b[0munimplemented pure virtual method 'obwod' in 'ksztalt'\u001b[0m\n",
      "  virtual double obwod() = 0;\n",
      "\u001b[0;1;32m                 ^\n",
      "\u001b[0m"
     ]
    },
    {
     "ename": "ename",
     "evalue": "evalue",
     "output_type": "error",
     "traceback": []
    }
   ],
   "source": [
    "ksztalt k;"
   ]
  },
  {
   "cell_type": "markdown",
   "metadata": {},
   "source": [
    "Nie możemy tego zrobić, ponieważ kształt jest klasą abstrakcyjną, natomiast:"
   ]
  },
  {
   "cell_type": "code",
   "execution_count": 4,
   "metadata": {},
   "outputs": [
    {
     "name": "stdout",
     "output_type": "stream",
     "text": [
      "20 18 1.11111\n"
     ]
    },
    {
     "data": {
      "text/plain": [
       "(std::basic_ostream<char, std::char_traits<char> >::__ostream_type &) @0x7fe5108db480\n"
      ]
     },
     "execution_count": 4,
     "metadata": {},
     "output_type": "execute_result"
    }
   ],
   "source": [
    "prostokat p(4,5);\n",
    "cout << p.pole() << \" \" << p.obwod() << \" \" << p.p_o() << endl;"
   ]
  },
  {
   "attachments": {
    "Screenshot%20from%202019-11-01%2019-04-11.png": {
     "image/png": "[encoded data removed]"
    }
   },
   "cell_type": "markdown",
   "metadata": {},
   "source": [
    "## Lepsza farma\n",
    "Możemy teraz spróbować zaprogramować farmę, wykorzystującą klasy i polimorfizm. Klasą bazową będzie klasa bydle i wykorzystywać będziemy wskaźnik *polimorficzny* bydle*. Hierarchia naszych klas będzie następująca:\n",
    "\n",
    "![Screenshot%20from%202019-11-01%2019-04-11.png](attachment:Screenshot%20from%202019-11-01%2019-04-11.png)"
   ]
  },
  {
   "cell_type": "code",
   "execution_count": 1,
   "metadata": {},
   "outputs": [
    {
     "data": {
      "text/plain": []
     },
     "execution_count": 1,
     "metadata": {},
     "output_type": "execute_result"
    }
   ],
   "source": [
    "#include <iostream>\n",
    "#include <vector>\n",
    "using namespace std;\n",
    "\n",
    "class bydle {\n",
    "public :\n",
    "  virtual ~bydle() {}\n",
    "  void jedz () {cout << \" Amci amci\" << endl;}\n",
    "  virtual void dzwiek() = 0;\n",
    "};\n",
    "\n",
    "class kura : public bydle {\n",
    "public :\n",
    "  virtual void dzwiek() {cout << \" Kokoko\" << endl;}\n",
    "};\n",
    "class krowa : public bydle {\n",
    "public :\n",
    "  virtual void dzwiek() {cout << \" Muuu\" << endl;}\n",
    "};\n",
    "class osiol: public virtual bydle {\n",
    "public :\n",
    "  virtual void dzwiek() {cout << \" Iooo\" << endl;}\n",
    "};\n",
    "class kon : public virtual bydle {\n",
    "public :\n",
    "  virtual void dzwiek() {cout << \" Ihaha\" << endl;}\n",
    "};\n",
    "class mul: public kon, public osiol {\n",
    "public :\n",
    "  virtual void dzwiek() {cout << \" ???? \" << endl;}\n",
    "  // jaki dzwiek wydaje Mul?\n",
    "};"
   ]
  },
  {
   "cell_type": "code",
   "execution_count": 2,
   "metadata": {},
   "outputs": [
    {
     "name": "stdout",
     "output_type": "stream",
     "text": [
      " Amci amci\n",
      " Amci amci\n",
      " Amci amci\n",
      " Amci amci\n",
      " Amci amci\n",
      " Amci amci\n",
      " Amci amci\n",
      " Amci amci\n",
      " Amci amci\n",
      " Amci amci\n",
      " Kokoko\n",
      " Kokoko\n",
      " Kokoko\n",
      " Kokoko\n",
      " Iooo\n",
      " Iooo\n",
      " Muuu\n",
      " Ihaha\n",
      " ???? \n",
      " ???? \n"
     ]
    },
    {
     "data": {
      "text/plain": []
     },
     "execution_count": 2,
     "metadata": {},
     "output_type": "execute_result"
    }
   ],
   "source": [
    "vector<bydle*> zagroda(10);\n",
    "\n",
    "zagroda[0]=new kura();\n",
    "zagroda[1]=new kura();\n",
    "zagroda[2]=new kura();\n",
    "zagroda[3]=new kura();\n",
    "\n",
    "zagroda[4]=new osiol();\n",
    "zagroda[5]=new osiol();\n",
    "zagroda[6]=new krowa();\n",
    "\n",
    "zagroda[7]=new kon();\n",
    "zagroda[8]=new mul();\n",
    "zagroda[9]=new mul();\n",
    "\n",
    "for(int i=0; i<zagroda.size(); ++i)\n",
    "    zagroda[i]->jedz();\n",
    "for(int i=0; i<zagroda.size(); ++i)\n",
    "    zagroda[i]->dzwiek();\n",
    "\n",
    "\n",
    "// koniec zagrody!\n",
    "for(int i=0; i<zagroda.size(); ++i)\n",
    "    delete zagroda[i];"
   ]
  }
 ],
 "metadata": {
  "kernelspec": {
   "display_name": "C++11",
   "language": "C++",
   "name": "cling-cpp11"
  },
  "language_info": {
   "codemirror_mode": "c++",
   "file_extension": ".c++",
   "mimetype": "text/x-c++src",
   "name": "c++"
  }
 },
 "nbformat": 4,
 "nbformat_minor": 2
}
