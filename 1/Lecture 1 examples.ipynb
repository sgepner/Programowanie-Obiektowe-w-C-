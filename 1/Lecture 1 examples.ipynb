{
 "cells": [
  {
   "cell_type": "markdown",
   "metadata": {},
   "source": [
    "# From C to C++ with (out) agonizing pain\n",
    "Postaramy się przedstawić pewne nowe elementy jezyka, za którymi stać ma to całe '++'. Na razie obędzie się bez obiektowości."
   ]
  },
  {
   "cell_type": "markdown",
   "metadata": {},
   "source": [
    "## Prosty program\n",
    "Będziemy używać fragmentów kodu w celu pokazania różnic między C i C++.\n",
    "Poniższe fragmęty nie muszą się kompilować, a maja jedynie służyc ilustracji pewnych konceptów.\n",
    "\n",
    "Zaczniemy od najsławniejszego programu na świecie. Tj. \"Hello World!\".\n",
    "* implementacja w C\n",
    "\n",
    "Uwaga: Fragmenty kodu zawierające cały program nie będą działać prawidłowo w Jupyter. Wykorzystywany kernel działa przyrostowo i pamięta stan poprzedni. To znaczy, że poniższe nie pokaże wyniku, a działać będą fragmenty kodu. Tu cały program:"
   ]
  },
  {
   "cell_type": "code",
   "execution_count": 1,
   "metadata": {},
   "outputs": [
    {
     "name": "stdout",
     "output_type": "stream",
     "text": [
      "Hello! a=5\n"
     ]
    }
   ],
   "source": [
    "// Podstawowy program w języku C\n",
    "#include <stdio.h>\n",
    "int main ()\n",
    "{\n",
    "    int a=5;\n",
    "    printf (\"Hello! a=%d\\n\", a );\n",
    "}"
   ]
  },
  {
   "cell_type": "markdown",
   "metadata": {},
   "source": [
    "A tu jego fragmenty:"
   ]
  },
  {
   "cell_type": "code",
   "execution_count": 1,
   "metadata": {},
   "outputs": [
    {
     "data": {
      "text/plain": []
     },
     "execution_count": 1,
     "metadata": {},
     "output_type": "execute_result"
    }
   ],
   "source": [
    "#include <stdio.h>"
   ]
  },
  {
   "cell_type": "code",
   "execution_count": 2,
   "metadata": {},
   "outputs": [
    {
     "data": {
      "text/plain": []
     },
     "execution_count": 2,
     "metadata": {},
     "output_type": "execute_result"
    }
   ],
   "source": [
    "int a = 5;"
   ]
  },
  {
   "cell_type": "code",
   "execution_count": 3,
   "metadata": {},
   "outputs": [
    {
     "name": "stdout",
     "output_type": "stream",
     "text": [
      " Hello! a =5\n"
     ]
    },
    {
     "data": {
      "text/plain": [
       "(int) 13\n"
      ]
     },
     "execution_count": 3,
     "metadata": {},
     "output_type": "execute_result"
    }
   ],
   "source": [
    "printf ( \" Hello! a =%d\\n\", a );"
   ]
  },
  {
   "cell_type": "markdown",
   "metadata": {},
   "source": [
    "Zauważamy, że w celu wydrukowania wartości przy użyciu *printf* konieczne było zastosowanie symbolu formatowania '%d'. Ma to potencjalnie przykre konsekwencje. Mianowicie, możemy się pomylić i zastosować formatowanie nieodpowiadające drukowanej zmiennej. Np. napiszemy %d (formatowanie odpowiednie dla wartości całkowitej o rozmiarze 4B) a jako argument podamy wartość typu double (lub odwrotnie). Doprowadzi to do nieokreślonego zachowania naszego programu, lub nawet jego zatrzymania. Jest tak dlatego, bo język C ma mniej rozbudowaną kontrolę typów (type safty).\n",
    "\n",
    "Język C++, wciąż pozwala na zachowania niebezpieczne, ale oferuje też nowe rozwiązania, które pozwalają na kontrolę typu jeszcze w czasie kompilacji kodu. Postaramy się to pokazać w C++owej implementacji \"Hello World\"."
   ]
  },
  {
   "cell_type": "markdown",
   "metadata": {},
   "source": [
    "Warto teraz zresetować kernel (pasek u góry ekranu), by wyczyścić pamięć.\n",
    "\n",
    "Napiszmy teraz Implementację w C++\n",
    "Pojawiają się nowe elementy:\n",
    "* std::cin zamiast scanf\n",
    "* std::cout zamias printf  \n",
    "std oznacza standardową przestrzeń nazw (o przestrzeniach nazw powiemy zaraz - patrz niżej)\n",
    "\n",
    "Uwaga, jak poprzednio. To co jest tu, nie pokaże wyniku, problem trzeba rozbić na kawałki."
   ]
  },
  {
   "cell_type": "code",
   "execution_count": 4,
   "metadata": {},
   "outputs": [
    {
     "data": {
      "text/plain": []
     },
     "execution_count": 4,
     "metadata": {},
     "output_type": "execute_result"
    }
   ],
   "source": [
    "// Ten sam program w C++\n",
    "#include <iostream>\n",
    "\n",
    "int main()\n",
    "{\n",
    "    int a;\n",
    "    std::cin >> a ; // Wczytywanie ze standardowego wejśćia\n",
    "    std::cout << \"Hello! a=\" << a << std::endl ;\n",
    "}"
   ]
  },
  {
   "cell_type": "code",
   "execution_count": 1,
   "metadata": {},
   "outputs": [
    {
     "data": {
      "text/plain": []
     },
     "execution_count": 1,
     "metadata": {},
     "output_type": "execute_result"
    }
   ],
   "source": [
    "#include <iostream> //obsługa I/O zamiast stdio.h"
   ]
  },
  {
   "cell_type": "code",
   "execution_count": 2,
   "metadata": {},
   "outputs": [
    {
     "data": {
      "text/plain": []
     },
     "execution_count": 2,
     "metadata": {},
     "output_type": "execute_result"
    }
   ],
   "source": [
    "int a = 5;"
   ]
  },
  {
   "cell_type": "code",
   "execution_count": 3,
   "metadata": {},
   "outputs": [
    {
     "name": "stdout",
     "output_type": "stream",
     "text": [
      "Hello! a=5\n"
     ]
    },
    {
     "data": {
      "text/plain": [
       "(std::basic_ostream<char, std::char_traits<char> >::__ostream_type &) @0x7f8c74114540\n"
      ]
     },
     "execution_count": 3,
     "metadata": {},
     "output_type": "execute_result"
    }
   ],
   "source": [
    "std::cout << \"Hello! a=\" << a << std::endl;"
   ]
  },
  {
   "cell_type": "markdown",
   "metadata": {},
   "source": [
    "Zamiast *printf* użyliśmy czegoś nowego. Mianowicie:  \n",
    "*std::cout << \" ...*  \n",
    "W tym wypadku wykorzystaliśmy nieznane nam jeszcze udogodnienie języka C++, tzn. operatora, a dokładnie operatora <<. O operatorach będziemy mówić na kolejnych wykładach, na teraz zaakceptujemy, że jest to po prostu pewna funkcja, przyjmująca argumenty (w tym wypadku dwa). Funkcja ta ma następującą sygnaturę:"
   ]
  },
  {
   "cell_type": "code",
   "execution_count": 4,
   "metadata": {},
   "outputs": [
    {
     "name": "stdout",
     "output_type": "stream",
     "text": [
      "Hello"
     ]
    },
    {
     "data": {
      "text/plain": [
       "(std::basic_ostream<char, std::char_traits<char> > &) @0x7f8c74114540\n"
      ]
     },
     "execution_count": 4,
     "metadata": {},
     "output_type": "execute_result"
    }
   ],
   "source": [
    "std::operator<<(std::cout, \"Hello\");"
   ]
  },
  {
   "cell_type": "markdown",
   "metadata": {},
   "source": [
    "gdzie **std** to identyfikator przestrzeni nazw, **::** to operator zasięgu (patrz niżej), a **operator<<** to nazwa funkcji. Funkcja wygląda tak:  **std::operator<<()**\n",
    "\n",
    "i ta przyjmuje argumenty informujące o destynacji wydruku (standardowe wyjście: std::cout) i treści. Zwróćmy uwagę, że zapis:  \n",
    "*std::cout << \"Hello! a=\" << a << std::endl;*  \n",
    "zawiera więcej niż jedno wywołanie operatora."
   ]
  },
  {
   "cell_type": "markdown",
   "metadata": {},
   "source": [
    "Przygodę z C++ zaczęliśmy od skoku na głęboką wodę. Od razu pojawiło się kilka nowych elementów, jak operatory czy przestrzenie nazw. Postaramy się teraz omówić niektóre z nowinek jakie C++ wnosi w stosunku do C.\n",
    "\n",
    "## Przestrzenie nazw - namespace\n",
    "Pierwszym nowym elementem są przestrzenie nazw (namspace) pozwalające na uporządkowanie kodu poprzez zamykanie definicji elementów kodu w obszarach obowiązywania - przestrzeni nazw.\n",
    "\n",
    "Przestrzeń definiujemy poprzez słowo kluczowe *namespace*, a dostęp do elementów wewnątrz przestrzeni uzyskujemy przez operator zasięgu, podwójny dwukropek:   *::*"
   ]
  },
  {
   "cell_type": "code",
   "execution_count": null,
   "metadata": {},
   "outputs": [],
   "source": [
    "namespace A // Deklaracja przesrzeni nazw\n",
    "{\n",
    "    // Deklaracej i definicje elementów kodu\n",
    "}\n",
    "A::identyfikator_elementu //Dostęp do elementu przez ::"
   ]
  },
  {
   "cell_type": "markdown",
   "metadata": {},
   "source": [
    "Zaczniemy od przykładu, zdefiniujemy przestrzeń nazw A, a w niej funkcję typu fun *void*:"
   ]
  },
  {
   "cell_type": "code",
   "execution_count": 5,
   "metadata": {},
   "outputs": [
    {
     "data": {
      "text/plain": []
     },
     "execution_count": 5,
     "metadata": {},
     "output_type": "execute_result"
    }
   ],
   "source": [
    "#include <iostream>"
   ]
  },
  {
   "cell_type": "code",
   "execution_count": 6,
   "metadata": {},
   "outputs": [
    {
     "data": {
      "text/plain": []
     },
     "execution_count": 6,
     "metadata": {},
     "output_type": "execute_result"
    }
   ],
   "source": [
    "namespace A // Deklaracja przesrzeni nazw\n",
    "{\n",
    "    void fun()\n",
    "    {\n",
    "        std::cout << \"Hello!\" << std::endl;\n",
    "    }\n",
    "}"
   ]
  },
  {
   "cell_type": "code",
   "execution_count": 8,
   "metadata": {},
   "outputs": [
    {
     "name": "stdout",
     "output_type": "stream",
     "text": [
      "Hello!\n"
     ]
    },
    {
     "data": {
      "text/plain": [
       "(void) @0x7f8c4b600cd0\n"
      ]
     },
     "execution_count": 8,
     "metadata": {},
     "output_type": "execute_result"
    }
   ],
   "source": [
    "A::fun();"
   ]
  },
  {
   "cell_type": "markdown",
   "metadata": {},
   "source": [
    "Możemy zadeklarować globalne wykorzystanie przestrzeni nazw przez użycie słów kluczowych: *using namespace*, o w ten sposób:"
   ]
  },
  {
   "cell_type": "code",
   "execution_count": 9,
   "metadata": {},
   "outputs": [
    {
     "data": {
      "text/plain": []
     },
     "execution_count": 9,
     "metadata": {},
     "output_type": "execute_result"
    }
   ],
   "source": [
    "using namespace A;"
   ]
  },
  {
   "cell_type": "code",
   "execution_count": 10,
   "metadata": {},
   "outputs": [
    {
     "name": "stdout",
     "output_type": "stream",
     "text": [
      "Hello!\n"
     ]
    },
    {
     "data": {
      "text/plain": [
       "(void) @0x7f8c4b600cd0\n"
      ]
     },
     "execution_count": 10,
     "metadata": {},
     "output_type": "execute_result"
    }
   ],
   "source": [
    "fun();"
   ]
  },
  {
   "cell_type": "markdown",
   "metadata": {},
   "source": [
    "Przestrzenie można zagnieżdżać: (zresetujmy kernel, bo będziemy redefiniowali A)"
   ]
  },
  {
   "cell_type": "code",
   "execution_count": 1,
   "metadata": {},
   "outputs": [
    {
     "data": {
      "text/plain": []
     },
     "execution_count": 1,
     "metadata": {},
     "output_type": "execute_result"
    }
   ],
   "source": [
    "#include <iostream>"
   ]
  },
  {
   "cell_type": "code",
   "execution_count": 2,
   "metadata": {},
   "outputs": [
    {
     "data": {
      "text/plain": []
     },
     "execution_count": 2,
     "metadata": {},
     "output_type": "execute_result"
    }
   ],
   "source": [
    "namespace A // Deklaracja przesrzeni nazw\n",
    "{\n",
    "    int fun(); // Deklaracja funkcji wewnątrz przestrzeni\n",
    "}\n",
    "namespace B\n",
    "{\n",
    "    namespace C\n",
    "    {\n",
    "        namespace D // Można zagnieździc przestrzenie nazw\n",
    "        {\n",
    "            int fun() {return 3;} //Definiujemy fun w B::C::D\n",
    "        }\n",
    "    }\n",
    "}"
   ]
  },
  {
   "cell_type": "code",
   "execution_count": 5,
   "metadata": {},
   "outputs": [
    {
     "name": "stderr",
     "output_type": "stream",
     "text": [
      "input_line_7:2:2: error: use of undeclared identifier 'fun'; did you mean 'A::fun'?\n",
      " fun()\n",
      " ^~~\n",
      " A::fun\n",
      "input_line_4:3:9: note: 'A::fun' declared here\n",
      "    int fun(); // Deklaracja funkcji wewnątrz przestrzeni\n",
      "        ^\n"
     ]
    },
    {
     "ename": "ename",
     "evalue": "evalue",
     "output_type": "error",
     "traceback": []
    }
   ],
   "source": [
    "fun()"
   ]
  },
  {
   "cell_type": "code",
   "execution_count": 4,
   "metadata": {},
   "outputs": [
    {
     "name": "stderr",
     "output_type": "stream",
     "text": [
      "IncrementalExecutor::executeFunction: symbol '_ZN1A3funEv' unresolved while linking [cling interface function]!\n",
      "You are probably missing the definition of A::fun()\n",
      "Maybe you need to load the corresponding shared library?\n"
     ]
    },
    {
     "ename": "ename",
     "evalue": "evalue",
     "output_type": "error",
     "traceback": []
    }
   ],
   "source": [
    "A::fun()"
   ]
  },
  {
   "cell_type": "markdown",
   "metadata": {},
   "source": [
    "Przestrzeń **A** deklaruję funkcję fun, jednak nie implementuje jej ciała. Uzupełnimy ten brak definiując *fun* poza **A**.\n",
    "Jak poprzednio dostęp do przestrzeni odbywa się przez operator zasięgu ::"
   ]
  },
  {
   "cell_type": "code",
   "execution_count": 6,
   "metadata": {},
   "outputs": [
    {
     "data": {
      "text/plain": []
     },
     "execution_count": 6,
     "metadata": {},
     "output_type": "execute_result"
    }
   ],
   "source": [
    "//Definiujemy fun() z A\n",
    "int A::fun()\n",
    "{\n",
    "  return 1;\n",
    "}"
   ]
  },
  {
   "cell_type": "markdown",
   "metadata": {},
   "source": [
    "Wywołajmy teraz obie funkcje:"
   ]
  },
  {
   "cell_type": "code",
   "execution_count": 7,
   "metadata": {},
   "outputs": [
    {
     "name": "stdout",
     "output_type": "stream",
     "text": [
      "Wywołanie fun() z A \t\t1\n",
      "Wywołanie fun() z B::C::D \t3\n"
     ]
    },
    {
     "data": {
      "text/plain": [
       "(std::basic_ostream<char, std::char_traits<char> >::__ostream_type &) @0x7f36f9df5540\n"
      ]
     },
     "execution_count": 7,
     "metadata": {},
     "output_type": "execute_result"
    }
   ],
   "source": [
    "std::cout << \"Wywołanie fun() z A \\t\\t\" << A::fun() << std::endl;\n",
    "std::cout << \"Wywołanie fun() z B::C::D \\t\" <<B::C::D::fun() << std::endl;"
   ]
  },
  {
   "cell_type": "markdown",
   "metadata": {},
   "source": [
    "Pokażemy teraz kilka wariantów z ***using namespace nazwa_przestrzeni***:"
   ]
  },
  {
   "cell_type": "code",
   "execution_count": 8,
   "metadata": {},
   "outputs": [
    {
     "name": "stdout",
     "output_type": "stream",
     "text": [
      "3\n"
     ]
    },
    {
     "data": {
      "text/plain": [
       "(std::basic_ostream<char, std::char_traits<char> >::__ostream_type &) @0x7f36f9df5540\n"
      ]
     },
     "execution_count": 8,
     "metadata": {},
     "output_type": "execute_result"
    }
   ],
   "source": [
    "using namespace B;\n",
    "std::cout << C::D::fun() << std::endl;"
   ]
  },
  {
   "cell_type": "markdown",
   "metadata": {},
   "source": [
    "Albo kilka: ***using namespace nazwa_przestrzeni1::nazwa_przestrzeni2***"
   ]
  },
  {
   "cell_type": "code",
   "execution_count": 10,
   "metadata": {},
   "outputs": [
    {
     "name": "stdout",
     "output_type": "stream",
     "text": [
      "3\n",
      "1\n"
     ]
    },
    {
     "data": {
      "text/plain": [
       "(std::basic_ostream<char, std::char_traits<char> >::__ostream_type &) @0x7f36f9df5540\n"
      ]
     },
     "execution_count": 10,
     "metadata": {},
     "output_type": "execute_result"
    }
   ],
   "source": [
    "using namespace B::C::D;\n",
    "std::cout << fun() << std::endl;\n",
    "std::cout << A::fun() << std::endl;"
   ]
  },
  {
   "cell_type": "markdown",
   "metadata": {},
   "source": [
    "Należy być jednak ostrożnym. Co oznaczać będzie następujący fragment:"
   ]
  },
  {
   "cell_type": "code",
   "execution_count": 11,
   "metadata": {},
   "outputs": [
    {
     "name": "stderr",
     "output_type": "stream",
     "text": [
      "input_line_14:4:14: error: call to 'fun' is ambiguous\n",
      "std::cout << fun() << std::endl;\n",
      "             ^~~\n",
      "input_line_4:11:17: note: candidate function\n",
      "            int fun() {return 3;} //Definiujemy fun w B::C::D\n",
      "                ^\n",
      "input_line_8:2:8: note: candidate function\n",
      "int A::fun()\n",
      "       ^\n"
     ]
    },
    {
     "ename": "ename",
     "evalue": "evalue",
     "output_type": "error",
     "traceback": []
    }
   ],
   "source": [
    "using namespace A;\n",
    "using namespace B::C::D;\n",
    "std::cout << fun() << std::endl;"
   ]
  },
  {
   "cell_type": "markdown",
   "metadata": {},
   "source": [
    "Widzimy, że nasz kod spowodował błąd."
   ]
  },
  {
   "cell_type": "markdown",
   "metadata": {},
   "source": [
    "Dowiedzieliśmy się co nieco o przestrzeniach nazw. *std* jest przestrzenią nazw standardowych, wolno nam więc napisać coś takiego:"
   ]
  },
  {
   "cell_type": "code",
   "execution_count": 12,
   "metadata": {},
   "outputs": [
    {
     "name": "stdout",
     "output_type": "stream",
     "text": [
      "Bez std!!\n"
     ]
    },
    {
     "data": {
      "text/plain": [
       "(std::basic_ostream<char, std::char_traits<char> >::__ostream_type &) @0x7f36f9df5540\n"
      ]
     },
     "execution_count": 12,
     "metadata": {},
     "output_type": "execute_result"
    }
   ],
   "source": [
    "using namespace std;\n",
    "cout << \"Bez std!!\" << endl;"
   ]
  },
  {
   "cell_type": "markdown",
   "metadata": {},
   "source": [
    "I pominąć konieczność pisania *std::* za każdym razem."
   ]
  },
  {
   "cell_type": "markdown",
   "metadata": {},
   "source": [
    "## vector\n",
    "Vector nie jest to nowym elementem języka, a zdefiniowaną w bibliotece standardowej (jedną z wielu) kolekcją, czyli tworem pozwalającym przechowywać dane. W przyszłości omówimy inne dostępne w bibliotece standardowej kolekcje i algorytmy.  \n",
    "Przykład:"
   ]
  },
  {
   "cell_type": "code",
   "execution_count": 13,
   "metadata": {},
   "outputs": [
    {
     "data": {
      "text/plain": []
     },
     "execution_count": 13,
     "metadata": {},
     "output_type": "execute_result"
    }
   ],
   "source": [
    "#include <iostream>\n",
    "#include <vector> //definiuje vector i pozwala go użyć\n",
    "using namespace std;"
   ]
  },
  {
   "cell_type": "markdown",
   "metadata": {},
   "source": [
    "vector jest kolekcją zdolną do przechowywania w zasadzie wszystkiego (no prawie). W nawiasach <> podajemy przechowywany typ, np.:"
   ]
  },
  {
   "cell_type": "code",
   "execution_count": null,
   "metadata": {},
   "outputs": [],
   "source": [
    "vector<int> myIntVector;\n",
    "vector<int*> myIntPointerVector;\n",
    "vector<double> myDoubleVector;\n",
    "vector<char> myCharVector;"
   ]
  },
  {
   "cell_type": "markdown",
   "metadata": {},
   "source": [
    "Rozmiar kolekcji ustalany jest dynamicznie, a dostęp do elementów możliwy jest przez operator nawiasów [ ]:"
   ]
  },
  {
   "cell_type": "code",
   "execution_count": 14,
   "metadata": {},
   "outputs": [
    {
     "name": "stdout",
     "output_type": "stream",
     "text": [
      "4 3 0\n"
     ]
    },
    {
     "data": {
      "text/plain": [
       "(std::basic_ostream<char, std::char_traits<char> >::__ostream_type &) @0x7f36f9df5540\n"
      ]
     },
     "execution_count": 14,
     "metadata": {},
     "output_type": "execute_result"
    }
   ],
   "source": [
    "int n = 3;\n",
    "vector<int> a(n);\n",
    "a[0] = 4;\n",
    "a[1] = 3;\n",
    "a[2] = 0;\n",
    "cout << a[0] << \" \" << a[1] << \" \" << a[2] << endl;"
   ]
  },
  {
   "cell_type": "code",
   "execution_count": 15,
   "metadata": {},
   "outputs": [
    {
     "data": {
      "text/plain": []
     },
     "execution_count": 15,
     "metadata": {},
     "output_type": "execute_result"
    }
   ],
   "source": [
    "vector<vector<int> > my2Dvec(10);\n",
    "for(int i=0; i<10; ++i)\n",
    "    my2Dvec[i].resize(5+i);"
   ]
  },
  {
   "cell_type": "markdown",
   "metadata": {},
   "source": [
    "Rozmiar kolekcji można łatwo zmienić wykorzystując metodę (funkcję należącą do vector) *rezise()*:"
   ]
  },
  {
   "cell_type": "code",
   "execution_count": null,
   "metadata": {},
   "outputs": [],
   "source": [
    "a.resize(10);\n",
    "for(int i=0; i<a.size(); ++i)\n",
    "    a[i] = i+1;\n",
    "for(int i=0; i<a.size(); ++i)\n",
    "    cout << a[i] << endl;"
   ]
  },
  {
   "cell_type": "markdown",
   "metadata": {},
   "source": [
    "Metoda *size()* zwraca bieżący rozmiar vectora. Możemy też przechować vector w vectorze tworząc strukturę wielowymiarową:"
   ]
  },
  {
   "cell_type": "code",
   "execution_count": null,
   "metadata": {},
   "outputs": [],
   "source": [
    "vector<vector<vector<double> > > _3D_tensorial_or_something_object;"
   ]
  },
  {
   "cell_type": "markdown",
   "metadata": {},
   "source": [
    "Pełny program w użyciem vectora:"
   ]
  },
  {
   "cell_type": "code",
   "execution_count": null,
   "metadata": {},
   "outputs": [],
   "source": [
    "#include <iostream>\n",
    "#include <vector> //definicja vector\n",
    "\n",
    "using namespace std; // określenie przestreni nazw\n",
    "\n",
    "int main()\n",
    "{\n",
    "    vector<vector<int> > a(5); // vector of vectors - tablica\n",
    "    for(int i=0; i<a.size(); ++i)// dostosuj rozmiar\n",
    "        a[i].resize(5);\n",
    "    \n",
    "   a[0][1] = 5; // inicjalizacja\n",
    "}"
   ]
  },
  {
   "cell_type": "markdown",
   "metadata": {},
   "source": [
    "## New and delete\n",
    "Wspomnieliśmy już o poprawionej kontroli typów, jaką wprowadza C++. Przypomnijmy sobie sposób na alokowanie pamięci w C. W tym celu wykorzystywaliśmy *malloc* i *free*. Malloc \"był nieświadomy\" na co rezerwowana była pamięć i zwracał wskaźnik do *void*, który należało rzutować na odpowiedni typ. Podejście to nie pozwala na kontrole typu w czasie kompilacji i pozostawia w gestii programisty zadanie określenia rozmiaru pamięci:"
   ]
  },
  {
   "cell_type": "code",
   "execution_count": null,
   "metadata": {
    "scrolled": true
   },
   "outputs": [],
   "source": [
    "#include <stdlib.h>\n",
    "int n = 5;\n",
    "int* p = (int *)malloc(n*sizeof(int));\n",
    "\n",
    "p[0] = 7;\n",
    "\n",
    "free(p);"
   ]
  },
  {
   "cell_type": "markdown",
   "metadata": {},
   "source": [
    "Język C++ wprowadza operatory *new* i *delete*, które pozwalają na rezerwacje pamięci z zapewnieniem bezpieczeństwa typu zmiennej:"
   ]
  },
  {
   "cell_type": "code",
   "execution_count": 3,
   "metadata": {},
   "outputs": [
    {
     "data": {
      "text/plain": []
     },
     "execution_count": 3,
     "metadata": {},
     "output_type": "execute_result"
    }
   ],
   "source": [
    "#include <iostream>\n",
    "using namespace std;"
   ]
  },
  {
   "cell_type": "code",
   "execution_count": 1,
   "metadata": {},
   "outputs": [
    {
     "data": {
      "text/plain": [
       "(void) @0x7fac877fccd0\n"
      ]
     },
     "execution_count": 1,
     "metadata": {},
     "output_type": "execute_result"
    }
   ],
   "source": [
    "int* p = new int[10];\n",
    "\n",
    "p[0] = 9;\n",
    "p[1] = 5;\n",
    "\n",
    "delete []p;"
   ]
  },
  {
   "cell_type": "markdown",
   "metadata": {},
   "source": [
    "Użyjemy teraz *new* w celu utworzenia instancji struktury:"
   ]
  },
  {
   "cell_type": "code",
   "execution_count": 1,
   "metadata": {},
   "outputs": [
    {
     "data": {
      "text/plain": []
     },
     "execution_count": 1,
     "metadata": {},
     "output_type": "execute_result"
    }
   ],
   "source": [
    "struct D{\n",
    "    int a;\n",
    "    int b;\n",
    "};"
   ]
  },
  {
   "cell_type": "code",
   "execution_count": 4,
   "metadata": {},
   "outputs": [
    {
     "name": "stdout",
     "output_type": "stream",
     "text": [
      "8\n"
     ]
    },
    {
     "data": {
      "text/plain": [
       "(std::basic_ostream<char, std::char_traits<char> >::__ostream_type &) @0x7f7652de7540\n"
      ]
     },
     "execution_count": 4,
     "metadata": {},
     "output_type": "execute_result"
    }
   ],
   "source": [
    "cout << sizeof(D) << endl;"
   ]
  },
  {
   "cell_type": "markdown",
   "metadata": {},
   "source": [
    "**new** kontroluje typ zwracanej zmiennej, przez co nie musimy rzutować wyniku na porządany typ, co było konieczna  w przypadku malloc()."
   ]
  },
  {
   "cell_type": "code",
   "execution_count": 5,
   "metadata": {},
   "outputs": [
    {
     "data": {
      "text/plain": []
     },
     "execution_count": 5,
     "metadata": {},
     "output_type": "execute_result"
    }
   ],
   "source": [
    "int n=5;\n",
    "D* Dtab = (D*)malloc(n*sizeof(D));"
   ]
  },
  {
   "cell_type": "code",
   "execution_count": 6,
   "metadata": {},
   "outputs": [
    {
     "data": {
      "text/plain": [
       "(void) @0x7f762adffcd0\n"
      ]
     },
     "execution_count": 6,
     "metadata": {},
     "output_type": "execute_result"
    }
   ],
   "source": [
    "free(Dtab)"
   ]
  },
  {
   "cell_type": "code",
   "execution_count": 7,
   "metadata": {},
   "outputs": [
    {
     "data": {
      "text/plain": []
     },
     "execution_count": 7,
     "metadata": {},
     "output_type": "execute_result"
    }
   ],
   "source": [
    "n=10;\n",
    "D * p = new D;\n",
    "D * tab = new D[n];"
   ]
  },
  {
   "cell_type": "code",
   "execution_count": 8,
   "metadata": {},
   "outputs": [
    {
     "data": {
      "text/plain": [
       "(int) 2\n"
      ]
     },
     "execution_count": 8,
     "metadata": {},
     "output_type": "execute_result"
    }
   ],
   "source": [
    "tab[8].a = 1;\n",
    "tab[8].b = 2;"
   ]
  },
  {
   "cell_type": "code",
   "execution_count": null,
   "metadata": {},
   "outputs": [],
   "source": [
    "#include <iostream>"
   ]
  },
  {
   "cell_type": "code",
   "execution_count": 9,
   "metadata": {},
   "outputs": [
    {
     "name": "stdout",
     "output_type": "stream",
     "text": [
      "1\n"
     ]
    },
    {
     "data": {
      "text/plain": [
       "(std::basic_ostream<char, std::char_traits<char> >::__ostream_type &) @0x7f7652de7540\n"
      ]
     },
     "execution_count": 9,
     "metadata": {},
     "output_type": "execute_result"
    }
   ],
   "source": [
    "using namespace std;\n",
    "cout << tab[8].a << endl;"
   ]
  },
  {
   "cell_type": "code",
   "execution_count": 10,
   "metadata": {},
   "outputs": [
    {
     "data": {
      "text/plain": [
       "(void) @0x7f762adffcd0\n"
      ]
     },
     "execution_count": 10,
     "metadata": {},
     "output_type": "execute_result"
    }
   ],
   "source": [
    "delete p;\n",
    "delete []tab;"
   ]
  },
  {
   "cell_type": "markdown",
   "metadata": {},
   "source": [
    "## Referencja\n",
    "Pozwala na nadanie zmiennej aliasu i wygodniejsze przekazywanie jej do funcji.\n",
    "\n",
    "Najpier jak to było w C?"
   ]
  },
  {
   "cell_type": "code",
   "execution_count": 2,
   "metadata": {},
   "outputs": [
    {
     "data": {
      "text/plain": []
     },
     "execution_count": 2,
     "metadata": {},
     "output_type": "execute_result"
    }
   ],
   "source": [
    "#include <iostream>"
   ]
  },
  {
   "cell_type": "code",
   "execution_count": 3,
   "metadata": {},
   "outputs": [
    {
     "data": {
      "text/plain": []
     },
     "execution_count": 3,
     "metadata": {},
     "output_type": "execute_result"
    }
   ],
   "source": [
    "void fun1(int a){\n",
    "    std::cout << \"fun1 \" << a << \" \" << &a << std::endl;\n",
    "    a = 5;\n",
    "    std::cout << \"fun1 \" << a << std::endl;\n",
    "}"
   ]
  },
  {
   "cell_type": "markdown",
   "metadata": {},
   "source": [
    "Zmienna przekazana przez wartość. Operacja wykonana na kopii."
   ]
  },
  {
   "cell_type": "code",
   "execution_count": 4,
   "metadata": {},
   "outputs": [
    {
     "name": "stdout",
     "output_type": "stream",
     "text": [
      "fun1 10 0x7f829affbd0c\n",
      "fun1 5\n",
      "10 0x7f82b82b2014\n"
     ]
    },
    {
     "data": {
      "text/plain": [
       "(std::basic_ostream<char, std::char_traits<char> >::__ostream_type &) @0x7f82b6798540\n"
      ]
     },
     "execution_count": 4,
     "metadata": {},
     "output_type": "execute_result"
    }
   ],
   "source": [
    "int b = 10;\n",
    "fun1(b);\n",
    "std::cout << b << \" \" << &b << std::endl;"
   ]
  },
  {
   "cell_type": "markdown",
   "metadata": {},
   "source": [
    "Może z użyciem adresu?  \n",
    "Poeksperymentuj wyświetlając adresy zmiennej"
   ]
  },
  {
   "cell_type": "code",
   "execution_count": 5,
   "metadata": {},
   "outputs": [
    {
     "data": {
      "text/plain": []
     },
     "execution_count": 5,
     "metadata": {},
     "output_type": "execute_result"
    }
   ],
   "source": [
    "void fun2(int* a){\n",
    "    *a = 5;\n",
    "    std::cout << \"fun1 \" << a << \" \" << &a << std::endl;\n",
    "}"
   ]
  },
  {
   "cell_type": "code",
   "execution_count": 6,
   "metadata": {},
   "outputs": [
    {
     "name": "stdout",
     "output_type": "stream",
     "text": [
      "fun1 0x7f82b82b2014 0x7f829affbd08\n",
      "5\n"
     ]
    },
    {
     "data": {
      "text/plain": [
       "(std::basic_ostream<char, std::char_traits<char> >::__ostream_type &) @0x7f82b6798540\n"
      ]
     },
     "execution_count": 6,
     "metadata": {},
     "output_type": "execute_result"
    }
   ],
   "source": [
    "fun2(&b);\n",
    "std::cout << b << std::endl;"
   ]
  },
  {
   "cell_type": "markdown",
   "metadata": {},
   "source": [
    "C++ wprowadza mechanizm referencji, poprzez użycie operatora **&**"
   ]
  },
  {
   "cell_type": "code",
   "execution_count": 7,
   "metadata": {},
   "outputs": [
    {
     "data": {
      "text/plain": []
     },
     "execution_count": 7,
     "metadata": {},
     "output_type": "execute_result"
    }
   ],
   "source": [
    "// Funkcja z referencja\n",
    "void fun3(int &a){\n",
    "    // tu wydrukuj adres zmiennej\n",
    "    std::cout << \"fun1 \" << a << \" \" << &a << std::endl;\n",
    "    a = 5;\n",
    "}"
   ]
  },
  {
   "cell_type": "code",
   "execution_count": 10,
   "metadata": {},
   "outputs": [
    {
     "data": {
      "text/plain": []
     },
     "execution_count": 10,
     "metadata": {},
     "output_type": "execute_result"
    }
   ],
   "source": [
    "int &myref = b;"
   ]
  },
  {
   "cell_type": "code",
   "execution_count": 11,
   "metadata": {},
   "outputs": [
    {
     "name": "stdout",
     "output_type": "stream",
     "text": [
      "fun1 10 0x7f82b82b2018\n",
      "5 0x7f82b82b2018\n"
     ]
    },
    {
     "data": {
      "text/plain": [
       "(std::basic_ostream<char, std::char_traits<char> >::__ostream_type &) @0x7f82b6798540\n"
      ]
     },
     "execution_count": 11,
     "metadata": {},
     "output_type": "execute_result"
    }
   ],
   "source": [
    "int c = 10;\n",
    "fun3(c);\n",
    "std::cout << c << \" \" << &c << std::endl;"
   ]
  },
  {
   "cell_type": "markdown",
   "metadata": {},
   "source": [
    "### const\n",
    "Słowo kluczowe const służy do deklarowania zmiennych jako 'niezmienne', tzn. ma za zadanie zapobiec zmianie wartości przez programistę.  \n",
    "Może też być użyte zamiast define.  \n",
    "Metody mogą być deklarowane jako const, oznaczać to będzie, że są jedynie do odczytu."
   ]
  },
  {
   "cell_type": "code",
   "execution_count": null,
   "metadata": {},
   "outputs": [],
   "source": [
    "#define PI 3.141592\n",
    "const double pi = 3.141592;"
   ]
  },
  {
   "cell_type": "code",
   "execution_count": null,
   "metadata": {},
   "outputs": [],
   "source": [
    "#define cos sin\n",
    "#define true (rand() > 200 ? true : false)"
   ]
  },
  {
   "cell_type": "code",
   "execution_count": null,
   "metadata": {},
   "outputs": [],
   "source": [
    "std::cout << pi << std::endl;"
   ]
  },
  {
   "cell_type": "code",
   "execution_count": null,
   "metadata": {},
   "outputs": [],
   "source": [
    "pi = 0"
   ]
  },
  {
   "cell_type": "markdown",
   "metadata": {},
   "source": [
    "## Struktura z C\n",
    "W języku C możliwe było wykorzystanie struktur w celu pogrupowania danych."
   ]
  },
  {
   "cell_type": "code",
   "execution_count": null,
   "metadata": {},
   "outputs": [],
   "source": [
    "struct A{\n",
    "    int a;\n",
    "    int b;\n",
    "};"
   ]
  },
  {
   "cell_type": "code",
   "execution_count": null,
   "metadata": {},
   "outputs": [],
   "source": [
    "A a1;"
   ]
  },
  {
   "cell_type": "code",
   "execution_count": null,
   "metadata": {},
   "outputs": [],
   "source": [
    "A *p = &a1;"
   ]
  },
  {
   "cell_type": "code",
   "execution_count": null,
   "metadata": {},
   "outputs": [],
   "source": [
    "a1.a = 12;\n",
    "p->b = 15;"
   ]
  },
  {
   "cell_type": "code",
   "execution_count": null,
   "metadata": {},
   "outputs": [],
   "source": [
    "std::cout << a1.a << \" \" << a1.b << std::endl;"
   ]
  },
  {
   "cell_type": "code",
   "execution_count": null,
   "metadata": {},
   "outputs": [],
   "source": [
    "std::cout << p->a << \" \" << p->b << std::endl;"
   ]
  },
  {
   "cell_type": "markdown",
   "metadata": {},
   "source": [
    "Język C++ wprowadza obok struktur dodatkowo pojęcie klasy. Elementem różniącym sa modyfikatory dostępu (public, privite i protected) pozwalające na osiągnięcie hermetyzacji. Domyślnie wszystko wewnątrz klasy jest prywatne, czyli nie do dotknięcia z zewnątrz:"
   ]
  },
  {
   "cell_type": "code",
   "execution_count": null,
   "metadata": {},
   "outputs": [],
   "source": [
    "class B{\n",
    "    int a;\n",
    "    int b;\n",
    "};"
   ]
  },
  {
   "cell_type": "code",
   "execution_count": null,
   "metadata": {},
   "outputs": [],
   "source": [
    "B b1;\n",
    "B *pp=&b1;"
   ]
  },
  {
   "cell_type": "markdown",
   "metadata": {},
   "source": [
    "Nie możemy dostać się do członków B"
   ]
  },
  {
   "cell_type": "code",
   "execution_count": null,
   "metadata": {},
   "outputs": [],
   "source": [
    "b1.a = 12;"
   ]
  },
  {
   "cell_type": "code",
   "execution_count": null,
   "metadata": {},
   "outputs": [],
   "source": [
    "pp->b = 10;"
   ]
  },
  {
   "cell_type": "markdown",
   "metadata": {},
   "source": [
    "Zmieńmy dostępnośc przy użyciu modyfikatora public:"
   ]
  },
  {
   "cell_type": "code",
   "execution_count": null,
   "metadata": {},
   "outputs": [],
   "source": [
    "class B{\n",
    "    public:\n",
    "    int a;\n",
    "    int b;\n",
    "};"
   ]
  },
  {
   "cell_type": "code",
   "execution_count": null,
   "metadata": {},
   "outputs": [],
   "source": [
    "int a = 9;\n",
    "int *pa = &a;"
   ]
  },
  {
   "cell_type": "code",
   "execution_count": null,
   "metadata": {},
   "outputs": [],
   "source": [
    "a = 10;\n",
    "std::cout << *pa << std::endl;"
   ]
  },
  {
   "cell_type": "code",
   "execution_count": null,
   "metadata": {},
   "outputs": [],
   "source": [
    "B b1;\n",
    "B *p = &b1;\n",
    "b1.a = 12;\n",
    "p->b = 10;"
   ]
  },
  {
   "cell_type": "code",
   "execution_count": null,
   "metadata": {},
   "outputs": [],
   "source": [
    "B b2;"
   ]
  },
  {
   "cell_type": "code",
   "execution_count": null,
   "metadata": {},
   "outputs": [],
   "source": [
    "p = &b2;"
   ]
  },
  {
   "cell_type": "code",
   "execution_count": null,
   "metadata": {},
   "outputs": [],
   "source": [
    "std::cout << &b1 << \" \" << &b2 << std::endl;"
   ]
  },
  {
   "cell_type": "code",
   "execution_count": null,
   "metadata": {},
   "outputs": [],
   "source": [
    "#include <iostream>"
   ]
  },
  {
   "cell_type": "code",
   "execution_count": null,
   "metadata": {},
   "outputs": [],
   "source": [
    "std::cout << p->a << \" \" << p->b << std::endl;"
   ]
  },
  {
   "cell_type": "markdown",
   "metadata": {},
   "source": [
    "Teraz możemy zarówno modyfikować, jak i czytać wartości zmiennych zadeklarowanych wewnątrz klasy B"
   ]
  }
 ],
 "metadata": {
  "kernelspec": {
   "display_name": "C++11",
   "language": "C++",
   "name": "cling-cpp11"
  },
  "language_info": {
   "codemirror_mode": "c++",
   "file_extension": ".c++",
   "mimetype": "text/x-c++src",
   "name": "c++"
  }
 },
 "nbformat": 4,
 "nbformat_minor": 2
}
