{
 "cells": [
  {
   "cell_type": "markdown",
   "metadata": {},
   "source": [
    "# From C to C++ with (out) agonizing pain\n",
    "Postaramy się przedstawić pewne nowe elementy jezyka, za którymi stać ma to całe ++  \n",
    "Na razie bez obiektowości"
   ]
  },
  {
   "cell_type": "markdown",
   "metadata": {},
   "source": [
    "## Prosty program\n",
    "Będziemy używać fragmentów kodu w celu pokazania różnic.\n",
    "Poniższe fragmęty nie muszą się kompilować, a maja jedynie służyc ilustracji pewnych konceptów.\n",
    "\n",
    "Wczytaj wartość i wydrukuj na ekran\n",
    "* implementacja w C"
   ]
  },
  {
   "cell_type": "code",
   "execution_count": null,
   "metadata": {},
   "outputs": [],
   "source": [
    "// Podstawowy program w języku C\n",
    "#include <stdio.h>\n",
    "int main ()\n",
    "{\n",
    "    int a;\n",
    "    scanf(\"%d\", &a);\n",
    "    printf (\"Hello!a=%d\\n\", a );\n",
    "}"
   ]
  },
  {
   "cell_type": "markdown",
   "metadata": {},
   "source": [
    "Wykonywalny fragment kodu:"
   ]
  },
  {
   "cell_type": "code",
   "execution_count": null,
   "metadata": {},
   "outputs": [],
   "source": [
    "#include <stdio.h>"
   ]
  },
  {
   "cell_type": "code",
   "execution_count": null,
   "metadata": {},
   "outputs": [],
   "source": [
    "int a;\n",
    "a = 10;\n",
    "printf ( \" Hello! a =%d\\n\", a );"
   ]
  },
  {
   "cell_type": "markdown",
   "metadata": {},
   "source": [
    "* Implementacja w C++\n",
    "Pojawiają się nowe elementy:\n",
    "* std::cin zamiast scanf\n",
    "* std::cout zamias printf  \n",
    "std oznacza standartową przestrzeń nazw (patrz niżej)"
   ]
  },
  {
   "cell_type": "code",
   "execution_count": null,
   "metadata": {},
   "outputs": [],
   "source": [
    "// Ten sam program w C++\n",
    "#include <iostream>\n",
    "\n",
    "int main()\n",
    "{\n",
    "    int a;\n",
    "    std::cin >> a ;\n",
    "    std::cout << \"Hello! a=\" << a << std::endl ;\n",
    "}"
   ]
  },
  {
   "cell_type": "code",
   "execution_count": null,
   "metadata": {},
   "outputs": [],
   "source": [
    "#include <iostream>"
   ]
  },
  {
   "cell_type": "code",
   "execution_count": null,
   "metadata": {},
   "outputs": [],
   "source": [
    "a = 5;\n",
    "std::cout << \"Hello! a=\" << a << std::endl ;"
   ]
  },
  {
   "cell_type": "markdown",
   "metadata": {},
   "source": [
    "## Przestrzenie nazw - namespace\n",
    "Pierwzym nowym elementem są przestrzenie nazw (namspace) pozwalające na uporządkowanie kodu."
   ]
  },
  {
   "cell_type": "code",
   "execution_count": null,
   "metadata": {},
   "outputs": [],
   "source": [
    "namespace A // Deklaracja przesrzeni nazw\n",
    "{\n",
    "    int fun(); // Deklaracja funkcji wewnątrz przestrzeni\n",
    "}\n",
    "namespace B\n",
    "{\n",
    "    namespace C\n",
    "    {\n",
    "        namespace D // Można zagnieździc przestrzenie nazw\n",
    "        {\n",
    "            int fun() {return 3;} //Definiujemy fun w B::C::D\n",
    "        }\n",
    "    }\n",
    "}"
   ]
  },
  {
   "cell_type": "markdown",
   "metadata": {},
   "source": [
    "Zdefiniujemy zadeklarowaną w przestrzeni **A**\n",
    "funkcję *int fun()*.\n",
    "Dostęp do przestrzeni odbywa się przez operator zasięgu ::"
   ]
  },
  {
   "cell_type": "code",
   "execution_count": null,
   "metadata": {},
   "outputs": [],
   "source": [
    "//Definiujemy fun() z A\n",
    "int A::fun()\n",
    "{\n",
    "  return 1;\n",
    "}"
   ]
  },
  {
   "cell_type": "code",
   "execution_count": null,
   "metadata": {},
   "outputs": [],
   "source": [
    "std::cout << \"Wywołanie fun() z A \\t\\t\" << A::fun() << std::endl;\n",
    "std::cout << \"Wywołanie fun() z B::C::D \\t\" <<B::C::D::fun() << std::endl;"
   ]
  },
  {
   "cell_type": "markdown",
   "metadata": {},
   "source": [
    "Można zadeklarować uzywanie konkretnej przestrzeni nazw w kodzie używając ***using namespace nazwa_przestrzeni***"
   ]
  },
  {
   "cell_type": "code",
   "execution_count": null,
   "metadata": {},
   "outputs": [],
   "source": [
    "using namespace B;\n",
    "std::cout << C::D::fun() << std::endl;"
   ]
  },
  {
   "cell_type": "markdown",
   "metadata": {},
   "source": [
    "Albo kilka: ***using namespace nazwa_przestrzeni1::nazwa_przestrzeni2***"
   ]
  },
  {
   "cell_type": "code",
   "execution_count": null,
   "metadata": {},
   "outputs": [],
   "source": [
    "using namespace B::C::D;\n",
    "std::cout << C::D::fun() << std::endl;\n",
    "std::cout << A::fun() << std::endl;"
   ]
  },
  {
   "cell_type": "markdown",
   "metadata": {},
   "source": [
    "Należy być jednak ostrożnym. Co oznaczać będzie następujący fragment:"
   ]
  },
  {
   "cell_type": "code",
   "execution_count": null,
   "metadata": {},
   "outputs": [],
   "source": [
    "using namespace A;\n",
    "using namespace B::C::D;\n",
    "std::cout << fun() << std::endl;"
   ]
  },
  {
   "cell_type": "markdown",
   "metadata": {},
   "source": [
    "Widzimy, że nasz kod spowodował błąd."
   ]
  },
  {
   "cell_type": "markdown",
   "metadata": {},
   "source": [
    "## Nowe elementy "
   ]
  },
  {
   "cell_type": "markdown",
   "metadata": {},
   "source": [
    "### vector\n",
    "Dynamiczna kolekcja zdefiniowana w bibliotece standartowej, o kótrej powiemy więcej później. Pozwala przechowywać w sposób ciągły elementy. Przykład:"
   ]
  },
  {
   "cell_type": "code",
   "execution_count": null,
   "metadata": {},
   "outputs": [],
   "source": [
    "#include <iostream>\n",
    "#include <vector> //definicja vector\n",
    "\n",
    "using namespace std; // określenie przestreni nazw\n",
    "\n",
    "int main()\n",
    "{\n",
    "    vector<vector<int> > a(5); // vector of vectors - tablica\n",
    "    for(int i=0; i<a.size(); ++i)// dostosuj rozmiar\n",
    "        a[i].resize(5);\n",
    "    \n",
    "   a[0][1] = 5; // inicjalizacja\n",
    "}"
   ]
  },
  {
   "cell_type": "markdown",
   "metadata": {},
   "source": [
    "### New and delete\n",
    "Trochę bardziej przyjazne zarządzanie zasobami. Poniekąd zastępuje malloc() i free().  \n",
    "W poniższym przykładzie zdefiniujemy strukturę D zawierającą dwie wielkości typu int."
   ]
  },
  {
   "cell_type": "code",
   "execution_count": null,
   "metadata": {},
   "outputs": [],
   "source": [
    "struct D{\n",
    "    int a;\n",
    "    int b;\n",
    "};"
   ]
  },
  {
   "cell_type": "markdown",
   "metadata": {},
   "source": [
    "Uzyjemy **new** by stworzyć instancje. **new** kontroluje typ zwracanej zmiennej, przez co nie musimy rzutować wyniku na porządany typ, co było konieczna  w przypadku malloc()."
   ]
  },
  {
   "cell_type": "code",
   "execution_count": null,
   "metadata": {},
   "outputs": [],
   "source": [
    "int n=10;\n",
    "D * p = new D;\n",
    "D * tab = new D[n];"
   ]
  },
  {
   "cell_type": "code",
   "execution_count": null,
   "metadata": {},
   "outputs": [],
   "source": [
    "tab[8].a = 1;\n",
    "tab[8].b = 2;"
   ]
  },
  {
   "cell_type": "code",
   "execution_count": null,
   "metadata": {},
   "outputs": [],
   "source": [
    "using namespace std;\n",
    "cout << tab[8].a << endl;"
   ]
  },
  {
   "cell_type": "code",
   "execution_count": null,
   "metadata": {},
   "outputs": [],
   "source": [
    "delete p;\n",
    "delete []tab;"
   ]
  },
  {
   "cell_type": "markdown",
   "metadata": {},
   "source": [
    "## Referencja\n",
    "Pozwala na nadanie zmiennej aliasu i wygodniejsze przekazywanie jej do funcji.\n",
    "\n",
    "Najpier jak to było w C?"
   ]
  },
  {
   "cell_type": "code",
   "execution_count": null,
   "metadata": {},
   "outputs": [],
   "source": [
    "#include <iostream>"
   ]
  },
  {
   "cell_type": "code",
   "execution_count": null,
   "metadata": {},
   "outputs": [],
   "source": [
    "void fun1(int a){\n",
    "    a = 5;\n",
    "}"
   ]
  },
  {
   "cell_type": "markdown",
   "metadata": {},
   "source": [
    "Zmienna przekazana przez wartość. Operacja wykonana na kpi."
   ]
  },
  {
   "cell_type": "code",
   "execution_count": null,
   "metadata": {},
   "outputs": [],
   "source": [
    "int b = 10;\n",
    "fun1(b);\n",
    "std::cout << b << std::endl;"
   ]
  },
  {
   "cell_type": "markdown",
   "metadata": {},
   "source": [
    "Może z urzyciem adresu?"
   ]
  },
  {
   "cell_type": "code",
   "execution_count": null,
   "metadata": {},
   "outputs": [],
   "source": [
    "void fun2(int* a){\n",
    "    *a = 5;\n",
    "}"
   ]
  },
  {
   "cell_type": "code",
   "execution_count": null,
   "metadata": {},
   "outputs": [],
   "source": [
    "fun2(&b);\n",
    "std::cout << b << std::endl;"
   ]
  },
  {
   "cell_type": "markdown",
   "metadata": {},
   "source": [
    "C++ pozwala, na użycie referencji poprzez użycie **&**"
   ]
  },
  {
   "cell_type": "code",
   "execution_count": null,
   "metadata": {},
   "outputs": [],
   "source": [
    "// Funkcja z referencj\n",
    "void fun3(int &a){\n",
    "    // tu wydrukuj adres zmiennej\n",
    "    a = 5;\n",
    "}"
   ]
  },
  {
   "cell_type": "code",
   "execution_count": null,
   "metadata": {},
   "outputs": [],
   "source": [
    "int c = 10;\n",
    "fun3(c);\n",
    "std::cout << c << std::endl;"
   ]
  },
  {
   "cell_type": "markdown",
   "metadata": {},
   "source": [
    "### const zamiast define"
   ]
  },
  {
   "cell_type": "code",
   "execution_count": null,
   "metadata": {},
   "outputs": [],
   "source": [
    "#define PI 3.141592\n",
    "const double pi = 3.141592;"
   ]
  },
  {
   "cell_type": "code",
   "execution_count": null,
   "metadata": {},
   "outputs": [],
   "source": [
    "std::cout << pi << std::endl;"
   ]
  },
  {
   "cell_type": "code",
   "execution_count": null,
   "metadata": {},
   "outputs": [],
   "source": [
    "pi = 0"
   ]
  },
  {
   "cell_type": "markdown",
   "metadata": {},
   "source": [
    "## Struktura z C\n",
    "W języku C możliwe było wykorzystanie struktur w celu pogrupowania danych."
   ]
  },
  {
   "cell_type": "code",
   "execution_count": null,
   "metadata": {},
   "outputs": [],
   "source": [
    "struct A{\n",
    "    int a;\n",
    "    int b;\n",
    "};"
   ]
  },
  {
   "cell_type": "code",
   "execution_count": null,
   "metadata": {},
   "outputs": [],
   "source": [
    "A a1;"
   ]
  },
  {
   "cell_type": "code",
   "execution_count": null,
   "metadata": {},
   "outputs": [],
   "source": [
    "A *p = &a1;"
   ]
  },
  {
   "cell_type": "code",
   "execution_count": null,
   "metadata": {},
   "outputs": [],
   "source": [
    "a1.a = 12;\n",
    "p->b = 15;"
   ]
  },
  {
   "cell_type": "code",
   "execution_count": null,
   "metadata": {},
   "outputs": [],
   "source": [
    "std::cout << a1.a << \" \" << a1.b << std::endl;"
   ]
  },
  {
   "cell_type": "code",
   "execution_count": null,
   "metadata": {},
   "outputs": [],
   "source": [
    "std::cout << p->a << \" \" << p->b << std::endl;"
   ]
  },
  {
   "cell_type": "markdown",
   "metadata": {},
   "source": [
    "Język C++ wprowadza obok struktur dodatkowo pojęcie klasy. Elementem różniącym sa modyfikatory dostępu (public, privite i protected) pozwalające na osiągnięcie hermetyzacji. Domyślnie wszystko wewnątrz klasy jest prywatne, czyli nie do dotknięcia z zewnątrz:"
   ]
  },
  {
   "cell_type": "code",
   "execution_count": null,
   "metadata": {},
   "outputs": [],
   "source": [
    "class B{\n",
    "    int a;\n",
    "    int b;\n",
    "};"
   ]
  },
  {
   "cell_type": "code",
   "execution_count": null,
   "metadata": {},
   "outputs": [],
   "source": [
    "B b1;\n",
    "B *pp=&b1;"
   ]
  },
  {
   "cell_type": "markdown",
   "metadata": {},
   "source": [
    "Nie możemy dostać się do członków B"
   ]
  },
  {
   "cell_type": "code",
   "execution_count": null,
   "metadata": {},
   "outputs": [],
   "source": [
    "b1.a = 12;"
   ]
  },
  {
   "cell_type": "code",
   "execution_count": null,
   "metadata": {},
   "outputs": [],
   "source": [
    "p->b = 10;"
   ]
  },
  {
   "cell_type": "markdown",
   "metadata": {},
   "source": [
    "Zmieńmy dostępnośc przy użyciu modyfikatora public:"
   ]
  },
  {
   "cell_type": "code",
   "execution_count": null,
   "metadata": {},
   "outputs": [],
   "source": [
    "class B{\n",
    "    public:\n",
    "    int a;\n",
    "    int b;\n",
    "};"
   ]
  },
  {
   "cell_type": "code",
   "execution_count": null,
   "metadata": {},
   "outputs": [],
   "source": [
    "B b1;\n",
    "B *p=&b1;\n",
    "b1.a = 12;\n",
    "p->b = 10;"
   ]
  },
  {
   "cell_type": "code",
   "execution_count": null,
   "metadata": {},
   "outputs": [],
   "source": [
    "std::cout << p->a << \" \" << p->b << std::endl;"
   ]
  },
  {
   "cell_type": "markdown",
   "metadata": {},
   "source": [
    "Teraz możemy zarówno modyfikować, jak i czytać wartości zmiennych zadeklarowanych wewnątrz klasy B"
   ]
  }
 ],
 "metadata": {
  "kernelspec": {
   "display_name": "C++11",
   "language": "C++",
   "name": "cling-cpp11"
  },
  "language_info": {
   "codemirror_mode": "c++",
   "file_extension": ".c++",
   "mimetype": "text/x-c++src",
   "name": "c++"
  }
 },
 "nbformat": 4,
 "nbformat_minor": 2
}
