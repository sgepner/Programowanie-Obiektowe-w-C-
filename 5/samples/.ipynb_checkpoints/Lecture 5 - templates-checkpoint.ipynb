{
 "cells": [
  {
   "cell_type": "markdown",
   "metadata": {},
   "source": [
    "# Szablony klas - templates\n",
    "Koniecznośc implementowania funkcjonalności dla kazdego typu odzielnie może być kłopotliwa. Język C++ (niekótre inne języki też) wprowadza mechanizm szablonów - templejtów.\n",
    "\n",
    "Mechanizm szablonów umozliwia tworzenie rozwiązań niezależnych od typu i pozwalając na nieduplikowanie kodu. Rozwinięcie szablonów odbywa się w momęcie kompilacji, tak jak znane z C makra. Konsekwencją jest pojecie metaprogramowania, czyli uznanie mechanizmu szablonów za jezyk!\n",
    "\n",
    "Szablony moga byc oparte o typ (klasę) lub wartośc calkowitą. Moga byc stosowane w stosunku do funkcji, klas i metod, w rożnych konfiguracjach.\n",
    "\n",
    "**Uwaga:** Do definicji szablonu opartego o typ (klasę) mozna użyc zarówno słowa kluczowego *class* jak i *typename*. Nie ma w zasadzie roznicy, czego się użyje (wynika to z histori C++)."
   ]
  },
  {
   "cell_type": "markdown",
   "metadata": {},
   "source": [
    "Składnia:"
   ]
  },
  {
   "cell_type": "code",
   "execution_count": null,
   "metadata": {},
   "outputs": [],
   "source": [
    "template <class T>\n",
    "typ_funkcji fun (argumenty)\n",
    "{\n",
    "Cialo funkcji\n",
    "}\n",
    "\n",
    "template <class T>\n",
    "class List\n",
    "{\n",
    "Cialo klasy\n",
    "};"
   ]
  },
  {
   "cell_type": "markdown",
   "metadata": {},
   "source": [
    "## Szablony funkcji\n",
    "### Szablon oparty o typ\n",
    "Zacznijmy of szablonu funkcji opartej o typ (klasę), np funkcję, która oblicza i zwraca kwadrat zmiennej dowolnego typu:"
   ]
  },
  {
   "cell_type": "code",
   "execution_count": 1,
   "metadata": {},
   "outputs": [
    {
     "data": {
      "text/plain": []
     },
     "execution_count": 1,
     "metadata": {},
     "output_type": "execute_result"
    }
   ],
   "source": [
    "#include <iostream>\n",
    "using namespace std;"
   ]
  },
  {
   "cell_type": "code",
   "execution_count": 2,
   "metadata": {},
   "outputs": [
    {
     "data": {
      "text/plain": []
     },
     "execution_count": 2,
     "metadata": {},
     "output_type": "execute_result"
    }
   ],
   "source": [
    "template <typename T>\n",
    "T sq(const T& x){\n",
    "    return x*x; // assumption is T knows what * is\n",
    "}"
   ]
  },
  {
   "cell_type": "code",
   "execution_count": 3,
   "metadata": {},
   "outputs": [
    {
     "data": {
      "text/plain": []
     },
     "execution_count": 3,
     "metadata": {},
     "output_type": "execute_result"
    }
   ],
   "source": [
    "double a = 5;\n",
    "int b = 9;\n",
    "char c = 49;"
   ]
  },
  {
   "cell_type": "markdown",
   "metadata": {},
   "source": [
    "Wywolanie szablonu odbywa się jak wywołanie każdej funkcji, z ta roznicą, że nalezy podać typ wywoływanej funkcji, o tak:"
   ]
  },
  {
   "cell_type": "code",
   "execution_count": null,
   "metadata": {},
   "outputs": [],
   "source": [
    "nazwa_funkcji<typ>(argumenty)"
   ]
  },
  {
   "cell_type": "code",
   "execution_count": 6,
   "metadata": {},
   "outputs": [
    {
     "name": "stdout",
     "output_type": "stream",
     "text": [
      "25 81 a\n"
     ]
    },
    {
     "data": {
      "text/plain": [
       "(std::basic_ostream<char, std::char_traits<char> >::__ostream_type &) @0x7f0277708e60\n"
      ]
     },
     "execution_count": 6,
     "metadata": {},
     "output_type": "execute_result"
    }
   ],
   "source": [
    "cout << sq<double>(a) << \" \" << sq<int>(b) << \" \" << sq<char>(c) << endl;"
   ]
  },
  {
   "cell_type": "markdown",
   "metadata": {},
   "source": [
    "W tym przypadku kompilator jest \"domyślny\" nie musimy podawać typu. jest tak w przypadku funkcji, których typ mozna wydedukować z listy argumentów. Nie zawsze musi być to mozliwe:"
   ]
  },
  {
   "cell_type": "code",
   "execution_count": 8,
   "metadata": {},
   "outputs": [
    {
     "name": "stdout",
     "output_type": "stream",
     "text": [
      "25 81 a\n"
     ]
    },
    {
     "data": {
      "text/plain": [
       "(std::basic_ostream<char, std::char_traits<char> >::__ostream_type &) @0x7f0277708e60\n"
      ]
     },
     "execution_count": 8,
     "metadata": {},
     "output_type": "execute_result"
    }
   ],
   "source": [
    "cout << sq(a) << \" \" << sq(b) << \" \" << sq(c) << endl;"
   ]
  },
  {
   "cell_type": "markdown",
   "metadata": {},
   "source": [
    "### Szablon oparty o wartość calkowitą\n",
    "Mozna szablon oprzeć o wartość calkowitą. Przykład poniżej zwraca argument pomnożony przez argument szablonu (troche to bez sensu, ale niech będzie):"
   ]
  },
  {
   "cell_type": "code",
   "execution_count": 9,
   "metadata": {},
   "outputs": [
    {
     "data": {
      "text/plain": []
     },
     "execution_count": 9,
     "metadata": {},
     "output_type": "execute_result"
    }
   ],
   "source": [
    "template <int V>\n",
    "int fun(int x){\n",
    "    return V * x;\n",
    "}"
   ]
  },
  {
   "cell_type": "code",
   "execution_count": 10,
   "metadata": {},
   "outputs": [
    {
     "name": "stdout",
     "output_type": "stream",
     "text": [
      "10\n"
     ]
    },
    {
     "data": {
      "text/plain": [
       "(std::basic_ostream<char, std::char_traits<char> >::__ostream_type &) @0x7f0277708e60\n"
      ]
     },
     "execution_count": 10,
     "metadata": {},
     "output_type": "execute_result"
    }
   ],
   "source": [
    "cout << fun<5>(2) << endl;"
   ]
  },
  {
   "cell_type": "markdown",
   "metadata": {},
   "source": [
    "### Wiele argumentów szablonu\n",
    "Mozemy tez skomplikować poprzedni przykład. Zwróc uwage, że te funkcje są rozne:"
   ]
  },
  {
   "cell_type": "code",
   "execution_count": 11,
   "metadata": {},
   "outputs": [
    {
     "data": {
      "text/plain": []
     },
     "execution_count": 11,
     "metadata": {},
     "output_type": "execute_result"
    }
   ],
   "source": [
    "template <class T, int V>\n",
    "T fun(T x){\n",
    "    return V * x;\n",
    "}\n",
    "\n",
    "template <int V, class T>\n",
    "T fun(T x){\n",
    "    return V * x;\n",
    "}\n"
   ]
  },
  {
   "cell_type": "code",
   "execution_count": 12,
   "metadata": {},
   "outputs": [
    {
     "name": "stdout",
     "output_type": "stream",
     "text": [
      "10 10\n"
     ]
    },
    {
     "data": {
      "text/plain": [
       "(std::basic_ostream<char, std::char_traits<char> >::__ostream_type &) @0x7f0277708e60\n"
      ]
     },
     "execution_count": 12,
     "metadata": {},
     "output_type": "execute_result"
    }
   ],
   "source": [
    "cout << fun<double, 2>(5) << \" \" << fun<5, double>(2) << endl;"
   ]
  },
  {
   "cell_type": "markdown",
   "metadata": {},
   "source": [
    "### Specjalizacja\n",
    "W przypadku konkretnych typów może zajść konieczność specjalizacji, tj. dokładnego okreslenia co ma się zdarzyć:"
   ]
  },
  {
   "cell_type": "code",
   "execution_count": 1,
   "metadata": {},
   "outputs": [
    {
     "data": {
      "text/plain": []
     },
     "execution_count": 1,
     "metadata": {},
     "output_type": "execute_result"
    }
   ],
   "source": [
    "#include <iostream>\n",
    "using namespace std;"
   ]
  },
  {
   "cell_type": "code",
   "execution_count": 2,
   "metadata": {},
   "outputs": [
    {
     "data": {
      "text/plain": []
     },
     "execution_count": 2,
     "metadata": {},
     "output_type": "execute_result"
    }
   ],
   "source": [
    "template<typename T>\n",
    "T fun(T x)\n",
    "{\n",
    "  return 2*x;\n",
    "}\n",
    "\n",
    "template<>\n",
    "string fun<string>(string x)\n",
    "{\n",
    "  return x + \" \" +x;\n",
    "}"
   ]
  },
  {
   "cell_type": "code",
   "execution_count": 3,
   "metadata": {},
   "outputs": [
    {
     "name": "stdout",
     "output_type": "stream",
     "text": [
      "10 \n",
      "Ala ma kota!!  Ala ma kota!! \n"
     ]
    },
    {
     "data": {
      "text/plain": [
       "(std::basic_ostream<char, std::char_traits<char> >::__ostream_type &) @0x7f5c3cca6e60\n"
      ]
     },
     "execution_count": 3,
     "metadata": {},
     "output_type": "execute_result"
    }
   ],
   "source": [
    "cout << fun(5.0) << \" \" << endl;\n",
    "string s = \"Ala ma kota!! \";\n",
    "cout << fun(s) << endl;"
   ]
  },
  {
   "cell_type": "markdown",
   "metadata": {},
   "source": [
    "#### Specjalizacja szablonów wieloargumentowych\n",
    "Tu jest jakoś inaczej"
   ]
  },
  {
   "cell_type": "markdown",
   "metadata": {},
   "source": [
    "## Szablon klasy\n",
    "Podobnie jak funkcje można \"ztemplejtować\" metody klasy, jak i same klasy"
   ]
  },
  {
   "cell_type": "code",
   "execution_count": null,
   "metadata": {},
   "outputs": [],
   "source": []
  }
 ],
 "metadata": {
  "kernelspec": {
   "display_name": "C++11",
   "language": "C++",
   "name": "cling-cpp11"
  },
  "language_info": {
   "codemirror_mode": "c++",
   "file_extension": ".c++",
   "mimetype": "text/x-c++src",
   "name": "c++"
  }
 },
 "nbformat": 4,
 "nbformat_minor": 2
}
