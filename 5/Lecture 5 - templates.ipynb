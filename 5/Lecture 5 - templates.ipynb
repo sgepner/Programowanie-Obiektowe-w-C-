{
 "cells": [
  {
   "cell_type": "markdown",
   "metadata": {},
   "source": [
    "# Szablony klas - templates\n",
    "Konieczność implementowania funkcjonalności dla każdego typu oddzielnie może być kłopotliwa. Język C++ (niektóre inne języki też) wprowadza mechanizm szablonów - templejtów (generyki?).\n",
    "\n",
    "Mechanizm szablonów umożliwia tworzenie rozwiązań niezależnych od typu i pozwalając na nieduplikowanie kodu. Rozwinięcie szablonów odbywa się w momencie kompilacji, tak jak znane z C makra. Konsekwencją jest pojecie meta-programowania. Można przyjąć, że meta-programowanie to programowanie instrukcji dla kompilatora w celu napisania dla nas kodu, czyli takie programowanie programowania. Ciekawą konsekwencją jest uznanie mechanizmu szablonów obecnego w C++ za oddzielny język programowania!\n",
    "\n",
    "Szablony mogą być oparte o typ (klasę) lub wartość całkowita. Mogą być stosowane w stosunku do funkcji, klas i metod, w rożnych konfiguracjach. Sam mechanizm szablonów może być niezmiernie przydatny, ale jak ze wszystkim, łatwo przesadzić upychając szablony na siłę i doprowadzić do małej czytelności kodu. Dodatkowo błędy kompilacji wynikające z zastosowania szablonów potrafią być przytłaczające i są natchnieniem branżowych memów, jak na przykład ten:\n",
    "\n",
    "![template meme](https://i.redd.it/nsb2m3472lx31.png)\n",
    "\n",
    "**Uwaga:** Do definicji szablonu opartego o typ (klasę) można użyć zarówno słowa kluczowego *class* jak i *typename*. Nie ma w zasadzie różnicy, czego się użyje (wynika to z historii C++)."
   ]
  },
  {
   "cell_type": "markdown",
   "metadata": {},
   "source": [
    "## Po co:\n",
    "Zaczniemy od prostego przykładu, którego celem będzie przekonanie nas, że szablony mogą być dla nas przydatne. Powiedzmy, że chcielibyśmy napisać funkcję, która była by w stanie obsłużyć wszystkie możliwe typy, dla których zdefiniowano operację mnożenia. Chcemy móc podnieść wszystko do kwadratu:"
   ]
  },
  {
   "cell_type": "code",
   "execution_count": 2,
   "metadata": {},
   "outputs": [
    {
     "data": {
      "text/plain": []
     },
     "execution_count": 2,
     "metadata": {},
     "output_type": "execute_result"
    }
   ],
   "source": [
    "#include <iostream>\n",
    "using namespace std;"
   ]
  },
  {
   "cell_type": "code",
   "execution_count": 3,
   "metadata": {},
   "outputs": [
    {
     "data": {
      "text/plain": []
     },
     "execution_count": 3,
     "metadata": {},
     "output_type": "execute_result"
    }
   ],
   "source": [
    "int square(int x){  return x*x;}"
   ]
  },
  {
   "cell_type": "code",
   "execution_count": 4,
   "metadata": {
    "collapsed": true
   },
   "outputs": [
    {
     "name": "stderr",
     "output_type": "stream",
     "text": [
      "input_line_6:2:31: error: function definition is not allowed here\n",
      " short int square(short int x){  return x*x;}\n",
      "                              ^\n",
      "input_line_6:3:48: error: function definition is not allowed here\n",
      "unsigned short int square(unsigned short int x){  return x*x;}\n",
      "                                               ^\n",
      "input_line_6:4:20: error: function definition is not allowed here\n",
      "long square(long x){  return x*x;}\n",
      "                   ^\n",
      "input_line_6:5:38: error: function definition is not allowed here\n",
      "unsigned long square(unsigned long x){  return x*x;}\n",
      "                                     ^\n",
      "input_line_6:6:30: error: function definition is not allowed here\n",
      "long long square(long long x){  return x*x;}\n",
      "                             ^\n",
      "input_line_6:7:48: error: function definition is not allowed here\n",
      "unsigned long long square(unsigned long long x){  return x*x;}\n",
      "                                               ^\n",
      "input_line_6:8:22: error: function definition is not allowed here\n",
      "float square(float x){  return x*x;}\n",
      "                     ^\n",
      "input_line_6:9:24: error: function definition is not allowed here\n",
      "double square(double x){  return x*x;}\n",
      "                       ^\n"
     ]
    },
    {
     "ename": "ename",
     "evalue": "evalue",
     "output_type": "error",
     "traceback": []
    }
   ],
   "source": [
    "short int square(short int x){  return x*x;}\n",
    "unsigned short int square(unsigned short int x){  return x*x;}\n",
    "long square(long x){  return x*x;}\n",
    "unsigned long square(unsigned long x){  return x*x;}\n",
    "long long square(long long x){  return x*x;}\n",
    "unsigned long long square(unsigned long long x){  return x*x;}\n",
    "float square(float x){  return x*x;}\n",
    "double square(double x){  return x*x;}\n",
    "// i tak dalej, i jeszcze dla naszych typow ..."
   ]
  },
  {
   "cell_type": "code",
   "execution_count": 5,
   "metadata": {},
   "outputs": [
    {
     "name": "stdout",
     "output_type": "stream",
     "text": [
      "25\n"
     ]
    },
    {
     "data": {
      "text/plain": [
       "(std::basic_ostream<char, std::char_traits<char> >::__ostream_type &) @0x7f2f0ad4a540\n"
      ]
     },
     "execution_count": 5,
     "metadata": {},
     "output_type": "execute_result"
    }
   ],
   "source": [
    "int a = 5;\n",
    "//...\n",
    "cout << square(a) << endl; "
   ]
  },
  {
   "cell_type": "markdown",
   "metadata": {},
   "source": [
    "By podnieść dramatyzm dodajmy do typów wbudowanych, te, które sami napisaliśmy."
   ]
  },
  {
   "cell_type": "code",
   "execution_count": 6,
   "metadata": {},
   "outputs": [
    {
     "data": {
      "text/plain": []
     },
     "execution_count": 6,
     "metadata": {},
     "output_type": "execute_result"
    }
   ],
   "source": [
    "#include <iostream>\n",
    "using namespace std;\n",
    "\n",
    "class complex{//liczba zespolona na int\n",
    "public:\n",
    "  complex(int r, int i) : real(r), imag(i) {}\n",
    "  const int& c_real(){return real;}\n",
    "  const int& c_imag(){return imag;}\n",
    "private:\n",
    "  int real;\n",
    "  int imag;\n",
    "};"
   ]
  },
  {
   "cell_type": "code",
   "execution_count": 7,
   "metadata": {},
   "outputs": [
    {
     "data": {
      "text/plain": []
     },
     "execution_count": 7,
     "metadata": {},
     "output_type": "execute_result"
    }
   ],
   "source": [
    "complex square(complex& a){\n",
    "  return complex(a.c_real()*a.c_real(),\n",
    "                a.c_imag()*a.c_imag());\n",
    "}"
   ]
  },
  {
   "cell_type": "code",
   "execution_count": 8,
   "metadata": {},
   "outputs": [
    {
     "name": "stdout",
     "output_type": "stream",
     "text": [
      "2 3 4 9\n"
     ]
    },
    {
     "data": {
      "text/plain": [
       "(std::basic_ostream<char, std::char_traits<char> >::__ostream_type &) @0x7f2f0ad4a540\n"
      ]
     },
     "execution_count": 8,
     "metadata": {},
     "output_type": "execute_result"
    }
   ],
   "source": [
    "complex aa(2,3);\n",
    "complex b = square(aa);\n",
    "//...\n",
    "cout << aa.c_real() << \" \" << aa.c_imag() << \" \"\n",
    "     << b.c_real() << \" \" << b.c_imag() << endl;"
   ]
  },
  {
   "cell_type": "markdown",
   "metadata": {},
   "source": [
    "Widzimy, więc, że jedna mała funkcja wymaga dużego nakładu pracy. Dlaczego by nie zaprząc do tej pracy kompilatora. Tzn. stworzyć mechanizm, który wygeneruje potrzebne metody w trakcie kompilacji na podstawie dostarczonej przez nas recepty - szablonu.\n",
    "\n",
    "## Szablony\n",
    "Ogólna składnia dla funkcji:"
   ]
  },
  {
   "cell_type": "code",
   "execution_count": null,
   "metadata": {},
   "outputs": [],
   "source": [
    "template <class T>\n",
    "typ_funkcji fun (argumenty)\n",
    "{\n",
    "    Cialo funkcji\n",
    "}"
   ]
  },
  {
   "cell_type": "markdown",
   "metadata": {},
   "source": [
    "I dla klasy:"
   ]
  },
  {
   "cell_type": "code",
   "execution_count": null,
   "metadata": {},
   "outputs": [],
   "source": [
    "template <class T>\n",
    "class List\n",
    "{\n",
    "    Cialo klasy\n",
    "};"
   ]
  },
  {
   "cell_type": "markdown",
   "metadata": {},
   "source": [
    "## Szablony funkcji\n",
    "### Szablon oparty o typ\n",
    "Zacznijmy of szablonu funkcji opartej o typ (klasę), np funkcję, która oblicza i zwraca kwadrat zmiennej dowolnego typu:"
   ]
  },
  {
   "cell_type": "code",
   "execution_count": 1,
   "metadata": {},
   "outputs": [
    {
     "data": {
      "text/plain": []
     },
     "execution_count": 1,
     "metadata": {},
     "output_type": "execute_result"
    }
   ],
   "source": [
    "#include <iostream>\n",
    "using namespace std;"
   ]
  },
  {
   "cell_type": "markdown",
   "metadata": {},
   "source": [
    "Podnieść do kwadratu wartość"
   ]
  },
  {
   "cell_type": "code",
   "execution_count": 2,
   "metadata": {},
   "outputs": [
    {
     "data": {
      "text/plain": []
     },
     "execution_count": 2,
     "metadata": {},
     "output_type": "execute_result"
    }
   ],
   "source": [
    "template <class T>\n",
    "T sq(const T& x)\n",
    "{\n",
    "    return x*x; // assumption is T knows what * is\n",
    "}"
   ]
  },
  {
   "cell_type": "code",
   "execution_count": 3,
   "metadata": {},
   "outputs": [
    {
     "data": {
      "text/plain": []
     },
     "execution_count": 3,
     "metadata": {},
     "output_type": "execute_result"
    }
   ],
   "source": [
    "double a = 5;\n",
    "int    b = 9;\n",
    "char   c = 33;"
   ]
  },
  {
   "cell_type": "markdown",
   "metadata": {},
   "source": [
    "Wywolanie szablonu odbywa się jak wywołanie każdej funkcji, z ta roznicą, że nalezy podać typ wywoływanej funkcji, o tak:"
   ]
  },
  {
   "cell_type": "code",
   "execution_count": 4,
   "metadata": {
    "collapsed": true
   },
   "outputs": [
    {
     "name": "stderr",
     "output_type": "stream",
     "text": [
      "input_line_6:2:2: error: use of undeclared identifier 'wartość_zwracana'\n",
      " wartość_zwracana = nazwa_funkcji<typ>(argumenty)\n",
      " ^\n",
      "input_line_6:2:23: error: use of undeclared identifier 'nazwa_funkcji'\n",
      " wartość_zwracana = nazwa_funkcji<typ>(argumenty)\n",
      "                    ^\n",
      "input_line_6:2:37: error: use of undeclared identifier 'typ'\n",
      " wartość_zwracana = nazwa_funkcji<typ>(argumenty)\n",
      "                                  ^\n",
      "input_line_6:2:42: error: use of undeclared identifier 'argumenty'\n",
      " wartość_zwracana = nazwa_funkcji<typ>(argumenty)\n",
      "                                       ^\n"
     ]
    },
    {
     "ename": "ename",
     "evalue": "evalue",
     "output_type": "error",
     "traceback": []
    }
   ],
   "source": [
    "wartość_zwracana = nazwa_funkcji<typ>(argumenty)"
   ]
  },
  {
   "cell_type": "code",
   "execution_count": 5,
   "metadata": {},
   "outputs": [
    {
     "name": "stdout",
     "output_type": "stream",
     "text": [
      "25 81 A\n"
     ]
    },
    {
     "data": {
      "text/plain": [
       "(std::basic_ostream<char, std::char_traits<char> >::__ostream_type &) @0x7fde4b7f8540\n"
      ]
     },
     "execution_count": 5,
     "metadata": {},
     "output_type": "execute_result"
    }
   ],
   "source": [
    "cout << sq<double>(a) << \" \" << sq<int>(b) << \" \" << sq<char>(c) << endl;"
   ]
  },
  {
   "cell_type": "code",
   "execution_count": 6,
   "metadata": {},
   "outputs": [
    {
     "name": "stdout",
     "output_type": "stream",
     "text": [
      "4\n"
     ]
    },
    {
     "data": {
      "text/plain": [
       "(std::basic_ostream<char, std::char_traits<char> >::__ostream_type &) @0x7fde4b7f8540\n"
      ]
     },
     "execution_count": 6,
     "metadata": {},
     "output_type": "execute_result"
    }
   ],
   "source": [
    "a = 2.55154125;\n",
    "cout << sq<int>(a) << endl;"
   ]
  },
  {
   "cell_type": "markdown",
   "metadata": {},
   "source": [
    "W tym przypadku kompilator jest \"domyślny\" nie musimy podawać typu. jest tak w przypadku funkcji, których typ mozna wydedukować z listy argumentów. Nie zawsze musi być to mozliwe:"
   ]
  },
  {
   "cell_type": "code",
   "execution_count": 7,
   "metadata": {},
   "outputs": [
    {
     "name": "stdout",
     "output_type": "stream",
     "text": [
      "25 81 A\n"
     ]
    },
    {
     "data": {
      "text/plain": [
       "(std::basic_ostream<char, std::char_traits<char> >::__ostream_type &) @0x7fde4b7f8540\n"
      ]
     },
     "execution_count": 7,
     "metadata": {},
     "output_type": "execute_result"
    }
   ],
   "source": [
    "a = 5;\n",
    "cout << sq(a) << \" \" << sq(b) << \" \" << sq(c) << endl;"
   ]
  },
  {
   "cell_type": "markdown",
   "metadata": {},
   "source": [
    "Funkcja *sq()* wymaga aby prtraktowany przez nią typ implementował operację \\*. W przypadku naszej klasy należy więc dopisać taką operację:"
   ]
  },
  {
   "cell_type": "code",
   "execution_count": 3,
   "metadata": {},
   "outputs": [
    {
     "data": {
      "text/plain": []
     },
     "execution_count": 3,
     "metadata": {},
     "output_type": "execute_result"
    }
   ],
   "source": [
    "class complex{//liczba zespolona na int\n",
    "public:\n",
    "  complex(const int& r, const int& i) : real(r), imag(i) {}\n",
    "  const int& c_real() const {return real;}\n",
    "  const int& c_imag() const {return imag;}\n",
    "private:\n",
    "  int real;\n",
    "  int imag;\n",
    "public:\n",
    "  complex operator *(const complex& b) const // complex ni wie co to *\n",
    "  {\n",
    "    return complex(this->real * b.c_real(),\n",
    "                   this->imag * b.c_imag());\n",
    "  }\n",
    "};"
   ]
  },
  {
   "cell_type": "code",
   "execution_count": 4,
   "metadata": {},
   "outputs": [
    {
     "name": "stdout",
     "output_type": "stream",
     "text": [
      "4 5 16 25\n"
     ]
    },
    {
     "data": {
      "text/plain": [
       "(std::basic_ostream<char, std::char_traits<char> >::__ostream_type &) @0x7f7766700540\n"
      ]
     },
     "execution_count": 4,
     "metadata": {},
     "output_type": "execute_result"
    }
   ],
   "source": [
    "complex ca(4,5);\n",
    "complex cb = sq<complex>(ca);\n",
    "\n",
    "cout << ca.c_real() << \" \" << ca.c_imag() << \" \"\n",
    "       << cb.c_real() << \" \" << cb.c_imag() << endl;"
   ]
  },
  {
   "cell_type": "code",
   "execution_count": 5,
   "metadata": {},
   "outputs": [
    {
     "data": {
      "text/plain": []
     },
     "execution_count": 5,
     "metadata": {},
     "output_type": "execute_result"
    }
   ],
   "source": [
    "auto cc = sq(ca);"
   ]
  },
  {
   "cell_type": "code",
   "execution_count": 6,
   "metadata": {},
   "outputs": [
    {
     "name": "stdout",
     "output_type": "stream",
     "text": [
      "16 25\n"
     ]
    },
    {
     "data": {
      "text/plain": [
       "(std::basic_ostream<char, std::char_traits<char> >::__ostream_type &) @0x7f7766700540\n"
      ]
     },
     "execution_count": 6,
     "metadata": {},
     "output_type": "execute_result"
    }
   ],
   "source": [
    "cout << cc.c_real() << \" \" << cc.c_imag() << endl;"
   ]
  },
  {
   "cell_type": "markdown",
   "metadata": {},
   "source": [
    "Przypomnijmy sobie teraz, że funkcje mają adresy. Tzn. są gdzieś w pamięci. Czy *sq\\\\<int\\>()* to to samo co *sq\\\\<double\\>()* ?"
   ]
  },
  {
   "cell_type": "code",
   "execution_count": 1,
   "metadata": {},
   "outputs": [
    {
     "data": {
      "text/plain": []
     },
     "execution_count": 1,
     "metadata": {},
     "output_type": "execute_result"
    }
   ],
   "source": [
    "#include <stdio.h>"
   ]
  },
  {
   "cell_type": "code",
   "execution_count": 2,
   "metadata": {},
   "outputs": [
    {
     "data": {
      "text/plain": []
     },
     "execution_count": 2,
     "metadata": {},
     "output_type": "execute_result"
    }
   ],
   "source": [
    "template<typename T>\n",
    "T square(T& x){return x*x;}"
   ]
  },
  {
   "cell_type": "code",
   "execution_count": 3,
   "metadata": {},
   "outputs": [
    {
     "name": "stdout",
     "output_type": "stream",
     "text": [
      "0x7feb8445f0e0 0x7feb8445f0c0 \n"
     ]
    },
    {
     "data": {
      "text/plain": [
       "(int) 31\n"
      ]
     },
     "execution_count": 3,
     "metadata": {},
     "output_type": "execute_result"
    }
   ],
   "source": [
    "printf(\"%p %p \\n\", square<int>, square<double>);   "
   ]
  },
  {
   "cell_type": "markdown",
   "metadata": {},
   "source": [
    "Powinno być oczywistym, że nie."
   ]
  },
  {
   "cell_type": "markdown",
   "metadata": {},
   "source": [
    "### Szablon oparty o wartość calkowitą\n",
    "Szablon może być oprty o wartość całkowitą. Przykład poniżej zwraca argument pomnożony przez argument szablonu (troche to bez sensu, ale niech będzie):"
   ]
  },
  {
   "cell_type": "code",
   "execution_count": 1,
   "metadata": {},
   "outputs": [
    {
     "data": {
      "text/plain": []
     },
     "execution_count": 1,
     "metadata": {},
     "output_type": "execute_result"
    }
   ],
   "source": [
    "#include <iostream>\n",
    "using namespace std;"
   ]
  },
  {
   "cell_type": "code",
   "execution_count": 2,
   "metadata": {},
   "outputs": [
    {
     "data": {
      "text/plain": []
     },
     "execution_count": 2,
     "metadata": {},
     "output_type": "execute_result"
    }
   ],
   "source": [
    "template <int V>\n",
    "int fun(int x){\n",
    "    return V * x;\n",
    "}"
   ]
  },
  {
   "cell_type": "code",
   "execution_count": 3,
   "metadata": {},
   "outputs": [
    {
     "name": "stdout",
     "output_type": "stream",
     "text": [
      "180\n"
     ]
    },
    {
     "data": {
      "text/plain": [
       "(std::basic_ostream<char, std::char_traits<char> >::__ostream_type &) @0x7f390957a540\n"
      ]
     },
     "execution_count": 3,
     "metadata": {},
     "output_type": "execute_result"
    }
   ],
   "source": [
    "cout << fun<90>(2) << endl;"
   ]
  },
  {
   "cell_type": "code",
   "execution_count": 4,
   "metadata": {},
   "outputs": [
    {
     "name": "stdout",
     "output_type": "stream",
     "text": [
      "10\n"
     ]
    },
    {
     "data": {
      "text/plain": [
       "(std::basic_ostream<char, std::char_traits<char> >::__ostream_type &) @0x7f390957a540\n"
      ]
     },
     "execution_count": 4,
     "metadata": {},
     "output_type": "execute_result"
    }
   ],
   "source": [
    "const int b = 5;\n",
    "cout << fun<b>(2) << endl;"
   ]
  },
  {
   "cell_type": "markdown",
   "metadata": {},
   "source": [
    "Może być to przydatne do ustalenie rozmiaru statycznej tablicy:"
   ]
  },
  {
   "cell_type": "code",
   "execution_count": 5,
   "metadata": {},
   "outputs": [
    {
     "data": {
      "text/plain": []
     },
     "execution_count": 5,
     "metadata": {},
     "output_type": "execute_result"
    }
   ],
   "source": [
    "template <int N>\n",
    "int fun2(int x)\n",
    "{\n",
    "    int tab[N];\n",
    "    \n",
    "    // tu algorytm oparty o tablice\n",
    "    for(int i=0; i<N; ++i)\n",
    "    {\n",
    "        tab[i] = i * N;\n",
    "    }\n",
    "    \n",
    "    return x * tab[N-1];\n",
    "}"
   ]
  },
  {
   "cell_type": "code",
   "execution_count": 7,
   "metadata": {},
   "outputs": [
    {
     "name": "stderr",
     "output_type": "stream",
     "text": [
      "input_line_10:2:6: error: redefinition of 'n' with a different type: 'int' vs 'const int'\n",
      " int n = 9;\n",
      "     ^\n",
      "input_line_9:2:12: note: previous definition is here\n",
      " const int n = 9;\n",
      "           ^\n"
     ]
    },
    {
     "ename": "ename",
     "evalue": "evalue",
     "output_type": "error",
     "traceback": []
    }
   ],
   "source": [
    "int n = 9;\n",
    "cout << fun2<7>(n) << endl;"
   ]
  },
  {
   "cell_type": "markdown",
   "metadata": {},
   "source": [
    "### Wiele argumentów szablonu\n",
    "Argumentów szablonu może być więcej niż jeden. Zwróc uwage, że te funkcje są rózne:"
   ]
  },
  {
   "cell_type": "code",
   "execution_count": 1,
   "metadata": {},
   "outputs": [
    {
     "data": {
      "text/plain": []
     },
     "execution_count": 1,
     "metadata": {},
     "output_type": "execute_result"
    }
   ],
   "source": [
    "#include <iostream>\n",
    "using namespace std;"
   ]
  },
  {
   "cell_type": "code",
   "execution_count": 2,
   "metadata": {},
   "outputs": [
    {
     "data": {
      "text/plain": []
     },
     "execution_count": 2,
     "metadata": {},
     "output_type": "execute_result"
    }
   ],
   "source": [
    "template <class T, int V>\n",
    "T fun(T x){\n",
    "    return V * x;\n",
    "}\n",
    "\n",
    "template <int V, class T>\n",
    "T fun(T x){\n",
    "    return V * x;\n",
    "}"
   ]
  },
  {
   "cell_type": "code",
   "execution_count": 3,
   "metadata": {},
   "outputs": [
    {
     "name": "stdout",
     "output_type": "stream",
     "text": [
      "14 25\n"
     ]
    },
    {
     "data": {
      "text/plain": [
       "(std::basic_ostream<char, std::char_traits<char> >::__ostream_type &) @0x7fe917c9a540\n"
      ]
     },
     "execution_count": 3,
     "metadata": {},
     "output_type": "execute_result"
    }
   ],
   "source": [
    "cout << fun<double, 2>(7) << \" \" << fun<5, double>(5) << endl;"
   ]
  },
  {
   "cell_type": "code",
   "execution_count": 4,
   "metadata": {},
   "outputs": [
    {
     "data": {
      "text/plain": []
     },
     "execution_count": 4,
     "metadata": {},
     "output_type": "execute_result"
    }
   ],
   "source": [
    "template <typename T, int N>\n",
    "T fun2(const T& x)\n",
    "{\n",
    "    T tab[N];\n",
    "    \n",
    "    // tu algorytm oparty o tablice\n",
    "    //tab[N-1] = N * N; // ?\n",
    "    \n",
    "    return x;\n",
    "}"
   ]
  },
  {
   "cell_type": "code",
   "execution_count": 5,
   "metadata": {},
   "outputs": [
    {
     "name": "stdout",
     "output_type": "stream",
     "text": [
      "10\n"
     ]
    },
    {
     "data": {
      "text/plain": [
       "(std::basic_ostream<char, std::char_traits<char> >::__ostream_type &) @0x7fe917c9a540\n"
      ]
     },
     "execution_count": 5,
     "metadata": {},
     "output_type": "execute_result"
    }
   ],
   "source": [
    "cout << fun2<double, 10>(10) << endl;"
   ]
  },
  {
   "cell_type": "markdown",
   "metadata": {},
   "source": [
    "Kolejność podawania argumentów szablonu ma znaczenie. Pokażemy to na przykładzie prostej funkcji podnoszącej typ T do potęgi całkowitej:"
   ]
  },
  {
   "cell_type": "code",
   "execution_count": 1,
   "metadata": {},
   "outputs": [
    {
     "data": {
      "text/plain": []
     },
     "execution_count": 1,
     "metadata": {},
     "output_type": "execute_result"
    }
   ],
   "source": [
    "#include <iostream>\n",
    "using namespace std;"
   ]
  },
  {
   "cell_type": "code",
   "execution_count": 2,
   "metadata": {},
   "outputs": [
    {
     "data": {
      "text/plain": []
     },
     "execution_count": 2,
     "metadata": {},
     "output_type": "execute_result"
    }
   ],
   "source": [
    "template<typename T, int N>\n",
    "T pow(T x)\n",
    "{\n",
    "  cout << \"funkcja type, int\" << endl;\n",
    "  T res=1;\n",
    "  for(int i=0; i<N; ++i)\n",
    "    res *= x;\n",
    "  return res;\n",
    "}"
   ]
  },
  {
   "cell_type": "markdown",
   "metadata": {},
   "source": [
    "Oraz:"
   ]
  },
  {
   "cell_type": "code",
   "execution_count": 3,
   "metadata": {},
   "outputs": [
    {
     "data": {
      "text/plain": []
     },
     "execution_count": 3,
     "metadata": {},
     "output_type": "execute_result"
    }
   ],
   "source": [
    "template<int N, typename T>\n",
    "T pow(T x)\n",
    "{\n",
    "  cout << \"funkcja int, type\" << endl;\n",
    "  T res=1;\n",
    "  for(int i=0; i<N; ++i)\n",
    "    res *= x;\n",
    "  return res;\n",
    "}"
   ]
  },
  {
   "cell_type": "code",
   "execution_count": 4,
   "metadata": {},
   "outputs": [
    {
     "name": "stdout",
     "output_type": "stream",
     "text": [
      "funkcja type, int\n",
      "81\n",
      "funkcja int, type\n",
      "81\n"
     ]
    },
    {
     "data": {
      "text/plain": [
       "(std::basic_ostream<char, std::char_traits<char> >::__ostream_type &) @0x7f2cf25a2540\n"
      ]
     },
     "execution_count": 4,
     "metadata": {},
     "output_type": "execute_result"
    }
   ],
   "source": [
    "double a=9;\n",
    "cout << pow<double, 2>(a) << endl;\n",
    "cout << pow<2>(a) << endl;"
   ]
  },
  {
   "cell_type": "markdown",
   "metadata": {},
   "source": [
    "### Specjalizacja\n",
    "W przypadku konkretnych typów może zajść konieczność specjalizacji, tj. dokładnego okreslenia co ma się zdarzyć:"
   ]
  },
  {
   "cell_type": "code",
   "execution_count": null,
   "metadata": {},
   "outputs": [],
   "source": [
    "#include <iostream>\n",
    "using namespace std;"
   ]
  },
  {
   "cell_type": "code",
   "execution_count": null,
   "metadata": {},
   "outputs": [],
   "source": [
    "template<typename T>\n",
    "T fun(T x)\n",
    "{\n",
    "  return 2*x;\n",
    "}\n",
    "\n",
    "template<>\n",
    "string fun<string>(string x)\n",
    "{\n",
    "  return x + \" \" + x;\n",
    "}"
   ]
  },
  {
   "cell_type": "code",
   "execution_count": null,
   "metadata": {},
   "outputs": [],
   "source": [
    "cout << fun(5.0) << \" \" << endl;\n",
    "string s = \"Ala ma kota!!\";\n",
    "cout << fun(s) << endl;"
   ]
  },
  {
   "cell_type": "markdown",
   "metadata": {},
   "source": [
    "## Szablon klasy\n",
    "Podobnie jak funkcje można \"ztemplejtować\" metody klasy, jak i same klasy. Powiedzmy, że chcielibyśmy zaprojektować typ complex dla wartośći całkowitych i zmiennoprzecinkowych:"
   ]
  },
  {
   "cell_type": "code",
   "execution_count": null,
   "metadata": {},
   "outputs": [],
   "source": [
    "class complex_int{//liczba zespolona na int\n",
    "public:\n",
    "  complex_int(int r, int i) : real(r), imag(i) {}\n",
    "  const int& c_real(){return real;}\n",
    "  const int& c_imag(){return imag;}\n",
    "private:\n",
    "  int real;\n",
    "  int imag;\n",
    "};\n",
    "\n",
    "class complex_double{//liczba zespolona na int\n",
    "public:\n",
    "  complex_double(double r, double i) : real(r), imag(i) {}\n",
    "  const double& c_real(){return real;}\n",
    "  const double& c_imag(){return imag;}\n",
    "private:\n",
    "  double real;\n",
    "  double imag;\n",
    "};"
   ]
  },
  {
   "cell_type": "markdown",
   "metadata": {},
   "source": [
    "Czemu by nie wykorzystać mechanizmu szablonów:"
   ]
  },
  {
   "cell_type": "code",
   "execution_count": null,
   "metadata": {},
   "outputs": [],
   "source": [
    "#include <iostream>\n",
    "#include <vector>\n",
    "using namespace std;"
   ]
  },
  {
   "cell_type": "code",
   "execution_count": null,
   "metadata": {},
   "outputs": [],
   "source": [
    "template<class T>\n",
    "class complex{\n",
    "public:\n",
    "  complex(const T& r, const T& i) : real(r), imag(i) {}\n",
    "  const T& c_real(){return real;}\n",
    "  const T& c_imag(){return imag;}\n",
    "    \n",
    "  void fun();\n",
    "private:\n",
    "  T real;\n",
    "  T imag;\n",
    "};"
   ]
  },
  {
   "cell_type": "code",
   "execution_count": null,
   "metadata": {},
   "outputs": [],
   "source": [
    "template <typename T>\n",
    "void complex<T>::fun()\n",
    "{\n",
    "    cout << \"Zawolano funa\" << endl;\n",
    "}"
   ]
  },
  {
   "cell_type": "markdown",
   "metadata": {},
   "source": [
    "Widzimy już, jakie było znaczenie \\<\\>, które wudzieliśmy w vector<>:"
   ]
  },
  {
   "cell_type": "code",
   "execution_count": null,
   "metadata": {},
   "outputs": [],
   "source": [
    "complex<int> a(9,8);\n",
    "complex<double> b(3.141592, 2.73);"
   ]
  },
  {
   "cell_type": "code",
   "execution_count": null,
   "metadata": {},
   "outputs": [],
   "source": [
    "cout << a.c_real() << \" \" << a.c_imag() << endl;\n",
    "cout << b.c_real() << \" \" << b.c_imag() << endl;"
   ]
  },
  {
   "cell_type": "code",
   "execution_count": null,
   "metadata": {},
   "outputs": [],
   "source": [
    "vector<double> dd;"
   ]
  },
  {
   "cell_type": "code",
   "execution_count": null,
   "metadata": {},
   "outputs": [],
   "source": [
    "vector<vector<complex<int> > > aaa;// bo >> jest operatorem"
   ]
  },
  {
   "cell_type": "markdown",
   "metadata": {},
   "source": [
    "W przeciwieństwie do dziedziczenie, obiekty wynikające z rozinięcia szablonu różnymi argumentami nie mają ze sobą nic wspólnego:"
   ]
  },
  {
   "cell_type": "code",
   "execution_count": null,
   "metadata": {},
   "outputs": [],
   "source": [
    "class_name < int > != class_name < double >"
   ]
  },
  {
   "cell_type": "code",
   "execution_count": null,
   "metadata": {},
   "outputs": [],
   "source": [
    "#include <iostream>\n",
    "using namespace std;"
   ]
  },
  {
   "cell_type": "code",
   "execution_count": null,
   "metadata": {},
   "outputs": [],
   "source": [
    "template<class T>\n",
    "class complex{\n",
    "public:\n",
    "  complex(const T& r, const T& i) : real(r), imag(i) {}\n",
    "  const T& c_real(){return real;}\n",
    "  const T& c_imag(){return imag;}\n",
    "  void fun();\n",
    "private:\n",
    "  T real;\n",
    "  T imag;\n",
    "};"
   ]
  },
  {
   "cell_type": "code",
   "execution_count": null,
   "metadata": {},
   "outputs": [],
   "source": [
    "template<class T>\n",
    "void complex<T>::fun()\n",
    "{\n",
    "  cout << sizeof(T) << endl;\n",
    "  cout << sizeof(*this) << endl;\n",
    "}"
   ]
  },
  {
   "cell_type": "code",
   "execution_count": null,
   "metadata": {},
   "outputs": [],
   "source": [
    "complex<int> a(9,8), b(5,6);\n",
    "complex<double> c(3.141592, 2.73);\n",
    "//c = b;\n",
    "a.fun();\n",
    "b.fun();\n",
    "c.fun();"
   ]
  },
  {
   "cell_type": "markdown",
   "metadata": {},
   "source": [
    "## Metaprogramowanie - język w języku\n",
    "\n",
    "* Okazuje się, że mechanizm szablonów w C++ jest osobnym językiem\n",
    "* Tak, wewnątrz C++ zaszyto inny język\n",
    "* Turing Kompletny ...\n",
    "* Odkryto to przypadkiem\n",
    "* I tak, ma zastosowania\n",
    "* Pozwala na wykonanie ”programu”w czasie kompilacji - metaprogramowanie!"
   ]
  },
  {
   "cell_type": "markdown",
   "metadata": {},
   "source": [
    "### Silnia:"
   ]
  },
  {
   "cell_type": "code",
   "execution_count": null,
   "metadata": {},
   "outputs": [],
   "source": [
    "#include <iostream>\n",
    "using namespace std;"
   ]
  },
  {
   "cell_type": "code",
   "execution_count": null,
   "metadata": {},
   "outputs": [],
   "source": [
    "unsigned int factorial ( unsigned int n )\n",
    "{\n",
    "    cout << \" Called with n = \" << n << endl ;\n",
    "    return n == 0 ? 1 : n * factorial ( n - 1) ;\n",
    "}"
   ]
  },
  {
   "cell_type": "code",
   "execution_count": null,
   "metadata": {},
   "outputs": [],
   "source": [
    "cout <<\" Finally the factorial is : \" << factorial (4) << endl ;"
   ]
  },
  {
   "cell_type": "markdown",
   "metadata": {},
   "source": [
    "### Silnia trochę inaczej:"
   ]
  },
  {
   "cell_type": "code",
   "execution_count": null,
   "metadata": {},
   "outputs": [],
   "source": [
    "#include <iostream>\n",
    "using namespace std;"
   ]
  },
  {
   "cell_type": "code",
   "execution_count": null,
   "metadata": {},
   "outputs": [],
   "source": [
    "template < unsigned int n >\n",
    "class factorial {\n",
    "    public :\n",
    "    static const unsigned long long value = n * factorial <n -1 >:: value ;\n",
    "};"
   ]
  },
  {
   "cell_type": "code",
   "execution_count": null,
   "metadata": {},
   "outputs": [],
   "source": [
    "template <>\n",
    "class factorial <0 > {\n",
    "    public :\n",
    "    static const unsigned long long value = 1;\n",
    "};"
   ]
  },
  {
   "cell_type": "code",
   "execution_count": null,
   "metadata": {},
   "outputs": [],
   "source": [
    "std :: cout << factorial <5 >:: value << '\\n' ;"
   ]
  },
  {
   "cell_type": "markdown",
   "metadata": {},
   "source": [
    "## Częścowa specjalizacja"
   ]
  },
  {
   "cell_type": "code",
   "execution_count": 1,
   "metadata": {},
   "outputs": [
    {
     "name": "stderr",
     "output_type": "stream",
     "text": [
      "input_line_3:2:2: error: expected expression\n",
      " ...\n",
      " ^\n"
     ]
    },
    {
     "ename": "ename",
     "evalue": "evalue",
     "output_type": "error",
     "traceback": []
    }
   ],
   "source": [
    "..."
   ]
  },
  {
   "cell_type": "code",
   "execution_count": null,
   "metadata": {},
   "outputs": [],
   "source": []
  }
 ],
 "metadata": {
  "kernelspec": {
   "display_name": "C++11",
   "language": "C++",
   "name": "cling-cpp11"
  },
  "language_info": {
   "codemirror_mode": "c++",
   "file_extension": ".c++",
   "mimetype": "text/x-c++src",
   "name": "c++"
  }
 },
 "nbformat": 4,
 "nbformat_minor": 2
}
