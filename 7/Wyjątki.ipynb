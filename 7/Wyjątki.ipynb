{
 "cells": [
  {
   "cell_type": "markdown",
   "metadata": {},
   "source": [
    "# Wyjątki\n",
    "Czyli o rzucaniu i łapaniu."
   ]
  },
  {
   "cell_type": "code",
   "execution_count": 4,
   "metadata": {},
   "outputs": [
    {
     "data": {
      "text/plain": []
     },
     "execution_count": 4,
     "metadata": {},
     "output_type": "execute_result"
    }
   ],
   "source": [
    "#include <iostream>\n",
    "using namespace std;"
   ]
  },
  {
   "cell_type": "code",
   "execution_count": null,
   "metadata": {},
   "outputs": [],
   "source": [
    "try\n",
    "{\n",
    "    // kod jakis\n",
    "    double a = 5;\n",
    "    throw a;\n",
    "    \n",
    "    cout << \" A to ?, a mnie ktos wywoła?\" << endl;\n",
    "    \n",
    "}\n",
    "catch ( int e )\n",
    "{\n",
    "    cout << \" An exception occurred . Exception Nr . \" << e << '\\n';\n",
    "}\n",
    "catch(double d)\n",
    "{\n",
    "    cout << \"An exception with a double \" << d << endl;\n",
    "}"
   ]
  },
  {
   "cell_type": "code",
   "execution_count": null,
   "metadata": {},
   "outputs": [],
   "source": [
    "try\n",
    "{\n",
    "    int a = 4;\n",
    "    switch(a)\n",
    "    {\n",
    "    case 1:\n",
    "        throw 5;\n",
    "    case 2:\n",
    "        throw 'a';\n",
    "    case 3:\n",
    "        throw string(\"String\");\n",
    "    case 4:\n",
    "        throw 5.0;\n",
    "    }\n",
    "}\n",
    "catch (int e)\n",
    "{\n",
    "    cout << \"An exception occurred. An int: \" << e <<endl;\n",
    "}\n",
    "catch (char e)\n",
    "{\n",
    "    cout << \"An exception occurred. Char: \" << e << endl;\n",
    "}\n",
    "catch (string e)\n",
    "{\n",
    "    cout << \"An exception occurred. String \" << e << endl;\n",
    "}\n",
    "// catch (double e)\n",
    "// {\n",
    "//     cout << \"An exception occurred. Double \" << e << endl;\n",
    "// }\n",
    "catch (...)//domyslnie\n",
    "{\n",
    "    cout << \" Default exception!!\" << endl;\n",
    "}"
   ]
  },
  {
   "cell_type": "code",
   "execution_count": null,
   "metadata": {},
   "outputs": [],
   "source": [
    "#include <iostream>\n",
    "#include <string>\n",
    "#include <sstream>\n",
    "using namespace std;"
   ]
  },
  {
   "cell_type": "code",
   "execution_count": null,
   "metadata": {},
   "outputs": [],
   "source": [
    "try\n",
    "{\n",
    "    // some init code and managment stuff goes here\n",
    "    \n",
    "    //...\n",
    "    \n",
    "    try\n",
    "    {\n",
    "        int a = 9;\n",
    "        int *p = &a;\n",
    "        // A *p = new B(a, p, r);\n",
    "        // p->\n",
    "        //Code that does some serious stuff\n",
    "        throw 4;\n",
    "        // Wyciek, bo nie zwolniłem zasobu po p!\n",
    "    }\n",
    "    catch (int e)\n",
    "    {\n",
    "        //cout << p << endl;\n",
    "        cout << \"App thrown an exeption, rethrowing!\" <<endl;\n",
    "        \n",
    "        ostringstream os;\n",
    "        os << \"Value is: \" << e;\n",
    "        throw os.str();\n",
    "    }\n",
    "}\n",
    "catch (string e)\n",
    "{\n",
    "    // Store message to logs\n",
    "    cout << \"An exception occurred. String \" << e << endl;\n",
    "}\n",
    "catch (...)//domyslnie\n",
    "{\n",
    "    cout << \" Default exception!!\" << endl;\n",
    "}"
   ]
  },
  {
   "cell_type": "code",
   "execution_count": 1,
   "metadata": {},
   "outputs": [
    {
     "data": {
      "text/plain": []
     },
     "execution_count": 1,
     "metadata": {},
     "output_type": "execute_result"
    }
   ],
   "source": [
    "#include <iostream>\n",
    "#include <exception>\n",
    "using namespace std;"
   ]
  },
  {
   "cell_type": "code",
   "execution_count": 2,
   "metadata": {},
   "outputs": [
    {
     "data": {
      "text/plain": []
     },
     "execution_count": 2,
     "metadata": {},
     "output_type": "execute_result"
    }
   ],
   "source": [
    "class myexception: public exception\n",
    "{\n",
    "public:\n",
    "    myexception(int a, int b) : a(a), b(b) {}\n",
    "    int a;\n",
    "    int b;\n",
    "    // additional data needed to describe the eception\n",
    "    \n",
    "private:\n",
    "  virtual const char* what() const throw()\n",
    "  {\n",
    "      //ostringstream os;\n",
    "      //os << \"Some exception has been thrown! \";\n",
    "      //os << \"Here are the data: a=\" << a << \" b=\" << b;\n",
    "      return \"aaaa\";\n",
    "  }\n",
    "};"
   ]
  },
  {
   "cell_type": "code",
   "execution_count": 3,
   "metadata": {},
   "outputs": [
    {
     "name": "stdout",
     "output_type": "stream",
     "text": [
      "aaaa\n"
     ]
    },
    {
     "data": {
      "text/plain": []
     },
     "execution_count": 3,
     "metadata": {},
     "output_type": "execute_result"
    }
   ],
   "source": [
    "try\n",
    "{\n",
    "    throw myexception(5, 7);\n",
    "}\n",
    "catch (exception& e)//reference so also derived classes\n",
    "{\n",
    "    cout << e.what() << '\\n';\n",
    "}\n",
    "catch(int e)\n",
    "{\n",
    "    cout << \"Int \" << e << endl;\n",
    "}\n",
    "catch(...)\n",
    "{\n",
    "    cout << \"aaaa\" << endl;\n",
    "}"
   ]
  },
  {
   "cell_type": "code",
   "execution_count": 1,
   "metadata": {},
   "outputs": [
    {
     "data": {
      "text/plain": []
     },
     "execution_count": 1,
     "metadata": {},
     "output_type": "execute_result"
    }
   ],
   "source": [
    "#include <iostream>\n",
    "#include <exception>\n",
    "#include <vector>\n",
    "\n",
    "using namespace std;"
   ]
  },
  {
   "cell_type": "code",
   "execution_count": null,
   "metadata": {},
   "outputs": [],
   "source": []
  },
  {
   "cell_type": "code",
   "execution_count": null,
   "metadata": {},
   "outputs": [],
   "source": [
    "try\n",
    "{\n",
    "    vector<int> a(10);\n",
    "    for(int i=0; i<=10; ++i)\n",
    "    {\n",
    "        a[i] = i;\n",
    "    }\n",
    "}\n",
    "catch(exception& e)\n",
    "{\n",
    "    cout << \"a\" << endl;\n",
    "}"
   ]
  },
  {
   "cell_type": "code",
   "execution_count": null,
   "metadata": {},
   "outputs": [],
   "source": []
  }
 ],
 "metadata": {
  "kernelspec": {
   "display_name": "C++11",
   "language": "C++",
   "name": "cling-cpp11"
  },
  "language_info": {
   "codemirror_mode": "c++",
   "file_extension": ".c++",
   "mimetype": "text/x-c++src",
   "name": "c++"
  }
 },
 "nbformat": 4,
 "nbformat_minor": 4
}
