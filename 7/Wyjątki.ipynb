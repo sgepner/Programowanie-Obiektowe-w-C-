{
 "cells": [
  {
   "cell_type": "markdown",
   "metadata": {},
   "source": [
    "# Wyjątki\n",
    "Czyli o rzucaniu i łapaniu."
   ]
  },
  {
   "cell_type": "code",
   "execution_count": 1,
   "metadata": {},
   "outputs": [
    {
     "data": {
      "text/plain": []
     },
     "execution_count": 1,
     "metadata": {},
     "output_type": "execute_result"
    }
   ],
   "source": [
    "#include <iostream>\n",
    "using namespace std;"
   ]
  },
  {
   "cell_type": "code",
   "execution_count": 4,
   "metadata": {},
   "outputs": [
    {
     "name": "stdout",
     "output_type": "stream",
     "text": [
      "An exception with a double 2\n"
     ]
    },
    {
     "data": {
      "text/plain": []
     },
     "execution_count": 4,
     "metadata": {},
     "output_type": "execute_result"
    }
   ],
   "source": [
    "try\n",
    "{\n",
    "    // kod jakis\n",
    "    throw 2.0;\n",
    "}\n",
    "catch ( int e )\n",
    "{\n",
    "    cout << \" An exception occurred . Exception Nr . \" << e << '\\n';\n",
    "}\n",
    "catch(double d)\n",
    "{\n",
    "    cout << \"An exception with a double \" << d << endl;\n",
    "}"
   ]
  },
  {
   "cell_type": "code",
   "execution_count": 10,
   "metadata": {},
   "outputs": [
    {
     "name": "stdout",
     "output_type": "stream",
     "text": [
      " Default exception!!\n"
     ]
    },
    {
     "data": {
      "text/plain": []
     },
     "execution_count": 10,
     "metadata": {},
     "output_type": "execute_result"
    }
   ],
   "source": [
    "try\n",
    "{\n",
    "    int a = 4;\n",
    "    switch(a)\n",
    "    {\n",
    "    case 1:\n",
    "        throw 5;\n",
    "    case 2:\n",
    "        throw 'a';\n",
    "    case 3:\n",
    "        throw string(\"String\");\n",
    "    case 4:\n",
    "        throw 5.0;\n",
    "    }\n",
    "}\n",
    "catch (int e)\n",
    "{\n",
    "    cout << \"An exception occurred. An int: \" << e <<endl;\n",
    "}\n",
    "catch (char e)\n",
    "{\n",
    "    cout << \"An exception occurred. Char: \" << e << endl;\n",
    "}\n",
    "catch (string e)\n",
    "{\n",
    "    cout << \"An exception occurred. String \" << e << endl;\n",
    "}\n",
    "catch (...)//domyslnie\n",
    "{\n",
    "    cout << \" Default exception!!\" << endl;\n",
    "}\n",
    "//  catch (double e)\n",
    "//  {\n",
    "//    cout << \"An exception occurred. Double \" << e << endl;\n",
    "//  }"
   ]
  },
  {
   "cell_type": "code",
   "execution_count": 4,
   "metadata": {},
   "outputs": [
    {
     "data": {
      "text/plain": []
     },
     "execution_count": 4,
     "metadata": {},
     "output_type": "execute_result"
    }
   ],
   "source": [
    "#include <iostream>\n",
    "#include <string>\n",
    "#include <sstream>\n",
    "using namespace std;"
   ]
  },
  {
   "cell_type": "code",
   "execution_count": 3,
   "metadata": {},
   "outputs": [
    {
     "name": "stdout",
     "output_type": "stream",
     "text": [
      "App thrown an exeption, rethrowing!\n",
      " Default exception!!\n"
     ]
    },
    {
     "data": {
      "text/plain": []
     },
     "execution_count": 3,
     "metadata": {},
     "output_type": "execute_result"
    }
   ],
   "source": [
    "try\n",
    "{\n",
    "    try\n",
    "    {\n",
    "        //Code that does some serious stuff\n",
    "        throw 4;\n",
    "    }\n",
    "    catch (int e)\n",
    "    {\n",
    "        cout << \"App thrown an exeption, rethrowing!\" <<endl;\n",
    "        \n",
    "        ostringstream os;\n",
    "        os << \"Value is: \" << e;\n",
    "        throw os.str();\n",
    "    }\n",
    "}\n",
    "catch (string e)\n",
    "{\n",
    "    cout << \"An exception occurred. String \" << e << endl;\n",
    "}\n",
    "catch (...)//domyslnie\n",
    "{\n",
    "    cout << \" Default exception!!\" << endl;\n",
    "}"
   ]
  },
  {
   "cell_type": "code",
   "execution_count": 1,
   "metadata": {},
   "outputs": [
    {
     "data": {
      "text/plain": []
     },
     "execution_count": 1,
     "metadata": {},
     "output_type": "execute_result"
    }
   ],
   "source": [
    "#include <iostream>\n",
    "#include <exception>\n",
    "using namespace std;"
   ]
  },
  {
   "cell_type": "code",
   "execution_count": 2,
   "metadata": {},
   "outputs": [
    {
     "data": {
      "text/plain": []
     },
     "execution_count": 2,
     "metadata": {},
     "output_type": "execute_result"
    }
   ],
   "source": [
    "class myexception: public exception\n",
    "{\n",
    "public:\n",
    "    \n",
    "private:\n",
    "  virtual const char* what() const throw()\n",
    "  {\n",
    "    return \"My exception happened!!\";\n",
    "  }\n",
    "};"
   ]
  },
  {
   "cell_type": "code",
   "execution_count": 4,
   "metadata": {},
   "outputs": [
    {
     "name": "stdout",
     "output_type": "stream",
     "text": [
      "My exception happened!!\n"
     ]
    },
    {
     "data": {
      "text/plain": []
     },
     "execution_count": 4,
     "metadata": {},
     "output_type": "execute_result"
    }
   ],
   "source": [
    "try\n",
    "{\n",
    "    throw myexception();\n",
    "}\n",
    "catch (exception& e)//reference so also derived classes\n",
    "{\n",
    "    cout << e.what() << '\\n';\n",
    "}\n",
    "catch(int e)\n",
    "{\n",
    "    cout << \"Int \" << e << endl;\n",
    "}\n",
    "catch(...)\n",
    "{\n",
    "    cout << \"aaaa\" << endl;\n",
    "}"
   ]
  },
  {
   "cell_type": "code",
   "execution_count": null,
   "metadata": {},
   "outputs": [],
   "source": []
  }
 ],
 "metadata": {
  "kernelspec": {
   "display_name": "C++11",
   "language": "C++",
   "name": "cling-cpp11"
  },
  "language_info": {
   "codemirror_mode": "c++",
   "file_extension": ".c++",
   "mimetype": "text/x-c++src",
   "name": "c++"
  }
 },
 "nbformat": 4,
 "nbformat_minor": 4
}
