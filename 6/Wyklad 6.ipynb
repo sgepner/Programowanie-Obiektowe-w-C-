{
 "cells": [
  {
   "cell_type": "markdown",
   "metadata": {},
   "source": [
    "# Elementy biblioteki STL\n",
    "Wiemy już, że język C++ wprowadza wzorce i pozwala projektować nowe typy w oparciu o znane w czasie kompilacji argumenty (typy bądź wartości całkowite).\n",
    "\n",
    "Na podstawie mechanizmu szablonów stworzono bibliotekę STL (Standard Template Library), czyli standardową bibliotekę szablonów. Zawiera ona implementacje przeróżnych kontenerów (kolekcji) i algorytmów nieodłącznych w programowaniu. Można przyjąć, że jeżeli potrzeby nam jest jakiś podstawowy algorytm (sortowanie, wyszukiwanie, itp.) jego implementacja już w tej bibliotece się znajduje (i jest zapewne wydajniejsza niż to co wymyślimy sami).\n",
    "\n",
    "Przyjrzymy się dziś kilku z zawartych w bibliotece STL kontenerom i algorytmom."
   ]
  },
  {
   "cell_type": "markdown",
   "metadata": {},
   "source": [
    "## Iteratory\n",
    "Jest to koncept mający usprawnić, ułatwić i ujednolicić dostęp do elementów przechowywanych w kontenerach. W zamyśle użycie iteratora ma być uniezależnione od struktury samej kolekcji i trochę od niej samej.\n",
    "Praca przy użyciu iteratorów odbywać się będzie podobnie do działań na wskaźnikach. W szczególności dostęp do wartości odbywać się będzie przez operator \\*, operator będzie można inkrementować przez ++ czy porównywać przez !=.\n",
    "\n",
    "Ogólna składnia:"
   ]
  },
  {
   "cell_type": "code",
   "execution_count": null,
   "metadata": {},
   "outputs": [],
   "source": [
    "std::nazwa_kolekcji<typ>::iterator nazwa_iteratora"
   ]
  },
  {
   "cell_type": "markdown",
   "metadata": {},
   "source": [
    "Podobnie jak w C wskaźnik do typu był nowym typem, tak tu iterator do elementu kolekcji jest typem (iterator do kolekcji iteratorów też).Podobnie jak w C wskaźnik do typu był nowym typem, tak tu iterator do elementu kolekcji jest typem (iterator do kolekcji iteratorów też).\n",
    "\n",
    "Iteratory pojawiają się w różnych odcieniach. Część wymieniona jest na slajdach do wykładu, a kompletną (i bierzącą listę) mogą państwo znaleźć na stronach z dokumentacją. My w zasadzie skorzystamy z kilku:\n",
    "* forward iterator: umożliwiają jedynie ruch do przodu (tylko inkrementacja)\n",
    "* bidirectional iterator: ruch w obie strony\n",
    "* random access: dowolny dostęp"
   ]
  },
  {
   "cell_type": "markdown",
   "metadata": {},
   "source": [
    "## Kontenery\n",
    "Są to obiekty przeznaczone do przechowywania danych. Przechowywać będziemy mogli zarówno typy proste (int, double ...), jak i złożone. Określone przy użyciu zaprogramowanych przez nas klas czy nawet same kontenery (kontenery w kontenerach).\n",
    "https://en.cppreference.com/w/cpp/container  \n",
    "https://www.cplusplus.com/reference/stl/\n",
    "\n",
    "Podstawowy podział kontenerów jest następujący:\n",
    "* sekwencyjne, czyli przechowujące elementy jeden za drógim, np. wektor, lista ...\n",
    "* asocjacyjne, czyli przechowujące pary zawierające klucz i wartość, np. mapa"
   ]
  },
  {
   "cell_type": "markdown",
   "metadata": {},
   "source": [
    "### Vector"
   ]
  },
  {
   "cell_type": "markdown",
   "metadata": {},
   "source": [
    "Pierwszym kontenerem będzie vector, czyli w zasadzie dynamiczna tablica jaką znamy z C z wieloma wygodnymi dodatkami. Dostęp do vectora uzyskamy przez dołączenie hedeara **vector**. Dodamy też **using namespace std** aby uniknąć konieczności definiowania przestrzeni nazw za każdym razem."
   ]
  },
  {
   "cell_type": "code",
   "execution_count": 1,
   "metadata": {},
   "outputs": [
    {
     "data": {
      "text/plain": []
     },
     "execution_count": 1,
     "metadata": {},
     "output_type": "execute_result"
    }
   ],
   "source": [
    "#include <iostream>\n",
    "#include <vector>\n",
    "using namespace std;"
   ]
  },
  {
   "cell_type": "markdown",
   "metadata": {},
   "source": [
    "Vector deklarujemy jak każdą inną zmienną, przy czym musimy podać typ przechowywany (argument templejta) w ostrych nawiasach:"
   ]
  },
  {
   "cell_type": "code",
   "execution_count": 2,
   "metadata": {},
   "outputs": [
    {
     "data": {
      "text/plain": []
     },
     "execution_count": 2,
     "metadata": {},
     "output_type": "execute_result"
    }
   ],
   "source": [
    "vector<int> myinttab;"
   ]
  },
  {
   "cell_type": "markdown",
   "metadata": {},
   "source": [
    "Jest kilka konstruktorów dla klasy vector. Np. jeden z parametrycznych konstruktorów pozwala nam na określenie rozmiaru i wartości jaką wypełniony będzie nasz kontener:"
   ]
  },
  {
   "cell_type": "code",
   "execution_count": 3,
   "metadata": {},
   "outputs": [
    {
     "data": {
      "text/plain": []
     },
     "execution_count": 3,
     "metadata": {},
     "output_type": "execute_result"
    }
   ],
   "source": [
    "vector<int> myinttab2(10, 100);"
   ]
  },
  {
   "cell_type": "markdown",
   "metadata": {},
   "source": [
    "Dla nas jest to w zasadzie nic innego jak dynamiczna tablica, do elementów której możemy się dobrać przez operator [\\\\]. Na razie tak samo jak robiliśmy to w **C**:"
   ]
  },
  {
   "cell_type": "code",
   "execution_count": 6,
   "metadata": {},
   "outputs": [
    {
     "name": "stdout",
     "output_type": "stream",
     "text": [
      "0 1 2 3 4 5 6 7 8 9 "
     ]
    },
    {
     "data": {
      "text/plain": []
     },
     "execution_count": 6,
     "metadata": {},
     "output_type": "execute_result"
    }
   ],
   "source": [
    "for(int i=0; i<10; ++i)\n",
    "{\n",
    "    myinttab2[i] = i;\n",
    "    cout << myinttab2[i] << \" \";\n",
    "}"
   ]
  },
  {
   "cell_type": "markdown",
   "metadata": {},
   "source": [
    "Do elementów możemy się dostać przez \\[\\], ale też poprzez specjalne metody *front()* i *back()* zwracające referencje do pierwszego i ostatniego elementu kolekcji:"
   ]
  },
  {
   "cell_type": "code",
   "execution_count": 7,
   "metadata": {},
   "outputs": [
    {
     "name": "stdout",
     "output_type": "stream",
     "text": [
      "0 9\n"
     ]
    },
    {
     "data": {
      "text/plain": [
       "(std::basic_ostream<char, std::char_traits<char> >::__ostream_type &) @0x7fa49df90480\n"
      ]
     },
     "execution_count": 7,
     "metadata": {},
     "output_type": "execute_result"
    }
   ],
   "source": [
    "int a = myinttab2.front();\n",
    "int b = myinttab2.back();\n",
    "cout << a << \" \" << b << endl;"
   ]
  },
  {
   "cell_type": "markdown",
   "metadata": {},
   "source": [
    "Spróbumy teraz wprowadzić iterator. Dla vectora int będzie to:"
   ]
  },
  {
   "cell_type": "code",
   "execution_count": 8,
   "metadata": {},
   "outputs": [
    {
     "data": {
      "text/plain": []
     },
     "execution_count": 8,
     "metadata": {},
     "output_type": "execute_result"
    }
   ],
   "source": [
    "vector<int>::iterator it = myinttab2.begin();"
   ]
  },
  {
   "cell_type": "markdown",
   "metadata": {},
   "source": [
    "Przy czym metoda *begin()* zwraca iterator wskazujący na pierwszy element kolekcji.  \n",
    "Iterator możemy inkrementować i uzyskać wartość przechowywaną przez operator wyłyskania \\*, o tak:"
   ]
  },
  {
   "cell_type": "code",
   "execution_count": 10,
   "metadata": {},
   "outputs": [
    {
     "name": "stdout",
     "output_type": "stream",
     "text": [
      "2\n"
     ]
    },
    {
     "data": {
      "text/plain": [
       "(std::basic_ostream<char, std::char_traits<char> >::__ostream_type &) @0x7fa49df90480\n"
      ]
     },
     "execution_count": 10,
     "metadata": {},
     "output_type": "execute_result"
    }
   ],
   "source": [
    "++it;\n",
    "cout << *it << endl;"
   ]
  },
  {
   "cell_type": "markdown",
   "metadata": {},
   "source": [
    "Możemy teraz zapisać naszą pętlę odrobine lepiej, zato mniej zrozumiale:"
   ]
  },
  {
   "cell_type": "code",
   "execution_count": 12,
   "metadata": {},
   "outputs": [
    {
     "name": "stdout",
     "output_type": "stream",
     "text": [
      "0 1 2 3 4 5 6 7 8 9 "
     ]
    },
    {
     "data": {
      "text/plain": []
     },
     "execution_count": 12,
     "metadata": {},
     "output_type": "execute_result"
    }
   ],
   "source": [
    "for(vector<int>::iterator it = myinttab2.begin();\n",
    "it != myinttab2.end(); ++it)\n",
    "{\n",
    "    cout << *it << \" \";\n",
    "}"
   ]
  },
  {
   "cell_type": "markdown",
   "metadata": {},
   "source": [
    "Zapisywanie typu jakim jest iterator do kolekcji, może być uciążliwe. Zreszß nie tylko to, ale określenie typu zwracanego przez rózne metody, szczególnie generycznych klas może być kłopotliwe. W tym celu przewidziano słowo kluczowe **auto** pozwalające na odłożenie determinacji typu do czasu kompilacji i jego dedukcję z wartośći przypisywanej. Mamy więc:"
   ]
  },
  {
   "cell_type": "code",
   "execution_count": 13,
   "metadata": {},
   "outputs": [
    {
     "name": "stdout",
     "output_type": "stream",
     "text": [
      "0 1 2 3 4 5 6 7 8 9 "
     ]
    },
    {
     "data": {
      "text/plain": []
     },
     "execution_count": 13,
     "metadata": {},
     "output_type": "execute_result"
    }
   ],
   "source": [
    "for(auto it = myinttab2.begin(); it != myinttab2.end(); ++it)\n",
    "{\n",
    "    cout << *it << \" \";\n",
    "}"
   ]
  },
  {
   "cell_type": "markdown",
   "metadata": {},
   "source": [
    "Ponieważ samo **auto** nie określa typu, zmienne tak kreślona musi być natychmiat inicjalizowana (inaczej jak kompilator ma coś wydedukować?)."
   ]
  },
  {
   "cell_type": "code",
   "execution_count": 14,
   "metadata": {},
   "outputs": [
    {
     "name": "stderr",
     "output_type": "stream",
     "text": [
      "\u001b[1minput_line_15:2:7: \u001b[0m\u001b[0;1;31merror: \u001b[0m\u001b[1mdeclaration of variable 'autovariable' with deduced type 'auto' requires an initializer\u001b[0m\n",
      " auto autovariable;\n",
      "\u001b[0;1;32m      ^\n",
      "\u001b[0m"
     ]
    },
    {
     "ename": "ename",
     "evalue": "evalue",
     "output_type": "error",
     "traceback": []
    }
   ],
   "source": [
    "auto autovariable;"
   ]
  },
  {
   "cell_type": "markdown",
   "metadata": {},
   "source": [
    "Vector implementuje różne metody i najlepiej odwołać się do dokumentacji. Tu pokażemy tylko niektóre:  "
   ]
  },
  {
   "cell_type": "code",
   "execution_count": 4,
   "metadata": {},
   "outputs": [
    {
     "data": {
      "text/plain": []
     },
     "execution_count": 4,
     "metadata": {},
     "output_type": "execute_result"
    }
   ],
   "source": [
    "vector<int> myinttab2(100)"
   ]
  },
  {
   "cell_type": "markdown",
   "metadata": {},
   "source": [
    "size(), max_size() i capacity():"
   ]
  },
  {
   "cell_type": "code",
   "execution_count": 5,
   "metadata": {},
   "outputs": [
    {
     "name": "stdout",
     "output_type": "stream",
     "text": [
      "100\n",
      "2305843009213693951\n",
      "100\n"
     ]
    },
    {
     "data": {
      "text/plain": [
       "(std::basic_ostream<char, std::char_traits<char> >::__ostream_type &) @0x7f55407c5480\n"
      ]
     },
     "execution_count": 5,
     "metadata": {},
     "output_type": "execute_result"
    }
   ],
   "source": [
    "cout << myinttab2.size() << endl;\n",
    "cout << myinttab2.max_size() << endl;\n",
    "cout << myinttab2.capacity() << endl;"
   ]
  },
  {
   "cell_type": "markdown",
   "metadata": {},
   "source": [
    "reserve():"
   ]
  },
  {
   "cell_type": "code",
   "execution_count": 6,
   "metadata": {},
   "outputs": [
    {
     "data": {
      "text/plain": [
       "(void) nullptr\n"
      ]
     },
     "execution_count": 6,
     "metadata": {},
     "output_type": "execute_result"
    }
   ],
   "source": [
    "myinttab2.reserve(1000);"
   ]
  },
  {
   "cell_type": "markdown",
   "metadata": {},
   "source": [
    "Zwracamy uwagę na zmianę capacity() i brak zmiany size():"
   ]
  },
  {
   "cell_type": "code",
   "execution_count": 8,
   "metadata": {},
   "outputs": [
    {
     "name": "stdout",
     "output_type": "stream",
     "text": [
      "100\n",
      "2305843009213693951\n",
      "1000\n"
     ]
    },
    {
     "data": {
      "text/plain": [
       "(std::basic_ostream<char, std::char_traits<char> >::__ostream_type &) @0x7f55407c5480\n"
      ]
     },
     "execution_count": 8,
     "metadata": {},
     "output_type": "execute_result"
    }
   ],
   "source": [
    "cout << myinttab2.size() << endl;\n",
    "cout << myinttab2.max_size() << endl;\n",
    "cout << myinttab2.capacity() << endl;"
   ]
  },
  {
   "cell_type": "markdown",
   "metadata": {},
   "source": [
    "Metody push_back() i pop_back():"
   ]
  },
  {
   "cell_type": "code",
   "execution_count": 9,
   "metadata": {},
   "outputs": [
    {
     "data": {
      "text/plain": [
       "(void) @0x7f552effbc30\n"
      ]
     },
     "execution_count": 9,
     "metadata": {},
     "output_type": "execute_result"
    }
   ],
   "source": [
    "vector<double> dvec;\n",
    "dvec.push_back(4.0);\n",
    "dvec.push_back(5.0);\n",
    "dvec.push_back(1.0);"
   ]
  },
  {
   "cell_type": "code",
   "execution_count": 10,
   "metadata": {},
   "outputs": [
    {
     "name": "stdout",
     "output_type": "stream",
     "text": [
      "3 1\n"
     ]
    },
    {
     "data": {
      "text/plain": [
       "(std::basic_ostream<char, std::char_traits<char> >::__ostream_type &) @0x7f55407c5480\n"
      ]
     },
     "execution_count": 10,
     "metadata": {},
     "output_type": "execute_result"
    }
   ],
   "source": [
    "cout << dvec.size() << \" \" << dvec[2] << endl;"
   ]
  },
  {
   "cell_type": "code",
   "execution_count": 11,
   "metadata": {},
   "outputs": [
    {
     "name": "stdout",
     "output_type": "stream",
     "text": [
      "2 5\n"
     ]
    },
    {
     "data": {
      "text/plain": [
       "(std::basic_ostream<char, std::char_traits<char> >::__ostream_type &) @0x7f55407c5480\n"
      ]
     },
     "execution_count": 11,
     "metadata": {},
     "output_type": "execute_result"
    }
   ],
   "source": [
    "dvec.pop_back();\n",
    "cout << dvec.size() << \" \" << dvec.back() << endl;"
   ]
  },
  {
   "cell_type": "markdown",
   "metadata": {},
   "source": [
    "### Lista\n",
    "Innym kontenerem sekwencyjnym jest lista. Pozwala na przechowywanie elementów w sposób nieciągły w pamięci. Ma to taką zaletę, że dodawanie i usuwanie elementów jest tanie. Za to trzeba przechowywać informację o sąsiadach. Nie można też dostać się do elementu z kosztem stałym, a należy przeiterować się przez wszystkie elementy."
   ]
  },
  {
   "cell_type": "code",
   "execution_count": 1,
   "metadata": {},
   "outputs": [
    {
     "data": {
      "text/plain": []
     },
     "execution_count": 1,
     "metadata": {},
     "output_type": "execute_result"
    }
   ],
   "source": [
    "#include <iostream>\n",
    "#include <list>\n",
    "using namespace std;"
   ]
  },
  {
   "cell_type": "code",
   "execution_count": 2,
   "metadata": {},
   "outputs": [
    {
     "data": {
      "text/plain": []
     },
     "execution_count": 2,
     "metadata": {},
     "output_type": "execute_result"
    }
   ],
   "source": [
    "int myints[] = {75 ,23 ,65 ,42 ,13};\n",
    "list<int> mylist (myints, myints+5);"
   ]
  },
  {
   "cell_type": "markdown",
   "metadata": {},
   "source": [
    "Nie możemy już niestety zrobić tak:"
   ]
  },
  {
   "cell_type": "code",
   "execution_count": 4,
   "metadata": {},
   "outputs": [
    {
     "name": "stderr",
     "output_type": "stream",
     "text": [
      "\u001b[1minput_line_6:4:11: \u001b[0m\u001b[0;1;31merror: \u001b[0m\u001b[1mtype 'list<int>' does not provide a subscript operator\u001b[0m\n",
      "    mylist[i] = i;\n",
      "\u001b[0;1;32m    ~~~~~~^~\n",
      "\u001b[0m\u001b[1minput_line_6:5:19: \u001b[0m\u001b[0;1;31merror: \u001b[0m\u001b[1mtype 'list<int>' does not provide a subscript operator\u001b[0m\n",
      "    cout << mylist[i] << \" \";\n",
      "\u001b[0;1;32m            ~~~~~~^~\n",
      "\u001b[0m"
     ]
    },
    {
     "ename": "ename",
     "evalue": "evalue",
     "output_type": "error",
     "traceback": []
    }
   ],
   "source": [
    "for(int i=0; i<10; ++i)\n",
    "{\n",
    "    mylist[i] = i;\n",
    "    cout << mylist[i] << \" \";\n",
    "}"
   ]
  },
  {
   "cell_type": "markdown",
   "metadata": {},
   "source": [
    "Ale mamy do tego iteratory i możemy się teraz przekonać, że ich zastosowanie pozwala na dostęp do elementów w sposób niezalezny od typu kolekcji:"
   ]
  },
  {
   "cell_type": "code",
   "execution_count": 5,
   "metadata": {},
   "outputs": [
    {
     "name": "stdout",
     "output_type": "stream",
     "text": [
      "75 23 65 42 13 "
     ]
    },
    {
     "data": {
      "text/plain": []
     },
     "execution_count": 5,
     "metadata": {},
     "output_type": "execute_result"
    }
   ],
   "source": [
    "for(auto it = mylist.begin(); it != mylist.end(); ++it)\n",
    "{\n",
    "    cout << *it << \" \";\n",
    "}"
   ]
  },
  {
   "cell_type": "markdown",
   "metadata": {},
   "source": [
    "Albo iterując od tyłu do przodu:"
   ]
  },
  {
   "cell_type": "code",
   "execution_count": 6,
   "metadata": {},
   "outputs": [
    {
     "name": "stdout",
     "output_type": "stream",
     "text": [
      "13 42 65 23 75 "
     ]
    },
    {
     "data": {
      "text/plain": []
     },
     "execution_count": 6,
     "metadata": {},
     "output_type": "execute_result"
    }
   ],
   "source": [
    "for(auto it = mylist.end(); it != mylist.begin(); )\n",
    "{\n",
    "    --it;\n",
    "    cout << *it << \" \";\n",
    "}"
   ]
  },
  {
   "cell_type": "markdown",
   "metadata": {},
   "source": [
    "szie(), maz_size() i capacity() działają podobnie jak poprzednio:"
   ]
  },
  {
   "cell_type": "code",
   "execution_count": 7,
   "metadata": {},
   "outputs": [
    {
     "name": "stdout",
     "output_type": "stream",
     "text": [
      "5 384307168202282325 0\n"
     ]
    },
    {
     "data": {
      "text/plain": [
       "(std::basic_ostream<char, std::char_traits<char> >::__ostream_type &) @0x7f438213e480\n"
      ]
     },
     "execution_count": 7,
     "metadata": {},
     "output_type": "execute_result"
    }
   ],
   "source": [
    "cout << mylist.size() << \" \" << mylist.max_size() << \" \" << mylist.empty() << endl;"
   ]
  },
  {
   "cell_type": "markdown",
   "metadata": {},
   "source": [
    "Listę możemy wyczyścić:"
   ]
  },
  {
   "cell_type": "code",
   "execution_count": 11,
   "metadata": {},
   "outputs": [
    {
     "name": "stdout",
     "output_type": "stream",
     "text": [
      "0 384307168202282325 1\n"
     ]
    },
    {
     "data": {
      "text/plain": [
       "(std::basic_ostream<char, std::char_traits<char> >::__ostream_type &) @0x7f438213e480\n"
      ]
     },
     "execution_count": 11,
     "metadata": {},
     "output_type": "execute_result"
    }
   ],
   "source": [
    "mylist.clear();\n",
    "cout << mylist.size() << \" \" << mylist.max_size() << \" \" << mylist.empty() << endl;"
   ]
  },
  {
   "cell_type": "markdown",
   "metadata": {},
   "source": [
    "Wstawmy do listy wartości przy użyciu insert(). Wstawimy zawartość tablicy myints podając adresy elementu pierwszego i ostatniego (jeden za nim) oraz pozycję korzystając z iteratora:"
   ]
  },
  {
   "cell_type": "code",
   "execution_count": 13,
   "metadata": {},
   "outputs": [
    {
     "data": {
      "text/plain": [
       "(std::list<int, std::allocator<int> >::iterator) @0x7f435ceabaf0\n"
      ]
     },
     "execution_count": 13,
     "metadata": {},
     "output_type": "execute_result"
    }
   ],
   "source": [
    "mylist.insert(mylist.begin(), myints, myints+5);"
   ]
  },
  {
   "cell_type": "markdown",
   "metadata": {},
   "source": [
    "W końcu w oparciu o listę napiszemy przykład, w którym będziemy odrzucać naprzemiennie wartości z początku i końca listy. Aż będzie ona pusta:"
   ]
  },
  {
   "cell_type": "code",
   "execution_count": 14,
   "metadata": {},
   "outputs": [
    {
     "name": "stdout",
     "output_type": "stream",
     "text": [
      "Size: 5\n",
      "Value:13\n",
      "Size: 4\n",
      "Value:75\n",
      "Size: 3\n",
      "Value:42\n",
      "Size: 2\n",
      "Value:23\n",
      "Size: 1\n",
      "Value:65\n"
     ]
    },
    {
     "data": {
      "text/plain": []
     },
     "execution_count": 14,
     "metadata": {},
     "output_type": "execute_result"
    }
   ],
   "source": [
    "int i=0;\n",
    "while(!mylist.empty())\n",
    "{\n",
    "    cout << \"Size: \" << mylist.size() << endl;\n",
    "    if(i==0)\n",
    "    {   \n",
    "        cout << \"Value:\" << mylist.back() << endl;\n",
    "        mylist.pop_back();\n",
    "        i=1;\n",
    "    }\n",
    "    else\n",
    "    {\n",
    "        cout << \"Value:\" << mylist.front() << endl;\n",
    "        mylist.pop_front();\n",
    "        i=0;\n",
    "    }\n",
    "}"
   ]
  },
  {
   "cell_type": "markdown",
   "metadata": {},
   "source": [
    "### Para\n",
    "O parze powiemy tylko tyle że przechowuje dwie wartośći a dostęp do nich jest poprzez first i second:"
   ]
  },
  {
   "cell_type": "code",
   "execution_count": 15,
   "metadata": {},
   "outputs": [
    {
     "data": {
      "text/plain": []
     },
     "execution_count": 15,
     "metadata": {},
     "output_type": "execute_result"
    }
   ],
   "source": [
    "pair<char, int> a; // para łącząca characer i wartość int"
   ]
  },
  {
   "cell_type": "code",
   "execution_count": 16,
   "metadata": {},
   "outputs": [
    {
     "name": "stdout",
     "output_type": "stream",
     "text": [
      "a 10\n"
     ]
    },
    {
     "data": {
      "text/plain": [
       "(std::basic_ostream<char, std::char_traits<char> >::__ostream_type &) @0x7f438213e480\n"
      ]
     },
     "execution_count": 16,
     "metadata": {},
     "output_type": "execute_result"
    }
   ],
   "source": [
    "a.first = 'a';\n",
    "a.second= 10;\n",
    "cout << a.first << \" \" << a.second << endl;"
   ]
  },
  {
   "cell_type": "markdown",
   "metadata": {},
   "source": [
    "Parę jeszcze spotkamy!"
   ]
  },
  {
   "cell_type": "markdown",
   "metadata": {},
   "source": [
    "### Set\n",
    "Pierwszy kontener asocjacyjny. Przechowuje posortowane i unikalne wartości. Może być ciekawym rozwiązaniem, gdy użyjemy go wraz z parą!"
   ]
  },
  {
   "cell_type": "code",
   "execution_count": 17,
   "metadata": {},
   "outputs": [
    {
     "data": {
      "text/plain": []
     },
     "execution_count": 17,
     "metadata": {},
     "output_type": "execute_result"
    }
   ],
   "source": [
    "#include <iostream>\n",
    "#include <set>\n",
    "using namespace std;"
   ]
  },
  {
   "cell_type": "code",
   "execution_count": 18,
   "metadata": {},
   "outputs": [
    {
     "data": {
      "text/plain": []
     },
     "execution_count": 18,
     "metadata": {},
     "output_type": "execute_result"
    }
   ],
   "source": [
    "set<int> myset;"
   ]
  },
  {
   "cell_type": "markdown",
   "metadata": {},
   "source": [
    "Wstawiamy wartości, niektóre wielokrotnie."
   ]
  },
  {
   "cell_type": "code",
   "execution_count": 19,
   "metadata": {},
   "outputs": [
    {
     "data": {
      "text/plain": [
       "(std::pair<std::set<int, std::less<int>, std::allocator<int> >::iterator, bool>) { @0x7f435d062900, true }\n"
      ]
     },
     "execution_count": 19,
     "metadata": {},
     "output_type": "execute_result"
    }
   ],
   "source": [
    "myset.insert(0);\n",
    "myset.insert(0);\n",
    "myset.insert(0);\n",
    "myset.insert(10);\n",
    "myset.insert(50);\n",
    "myset.insert(-50);\n",
    "myset.insert(25);\n",
    "myset.insert(15);"
   ]
  },
  {
   "cell_type": "markdown",
   "metadata": {},
   "source": [
    "Widzimy, że rozmiar jest jakby mniejszy:"
   ]
  },
  {
   "cell_type": "code",
   "execution_count": 22,
   "metadata": {},
   "outputs": [
    {
     "name": "stdout",
     "output_type": "stream",
     "text": [
      "6\n"
     ]
    },
    {
     "data": {
      "text/plain": [
       "(std::basic_ostream<char, std::char_traits<char> >::__ostream_type &) @0x7f438213e480\n"
      ]
     },
     "execution_count": 22,
     "metadata": {},
     "output_type": "execute_result"
    }
   ],
   "source": [
    "cout << myset.size() << endl;"
   ]
  },
  {
   "cell_type": "markdown",
   "metadata": {},
   "source": [
    "A zawartość"
   ]
  },
  {
   "cell_type": "code",
   "execution_count": 23,
   "metadata": {},
   "outputs": [
    {
     "name": "stdout",
     "output_type": "stream",
     "text": [
      "-50\n",
      "0\n",
      "10\n",
      "15\n",
      "25\n",
      "50\n"
     ]
    },
    {
     "data": {
      "text/plain": []
     },
     "execution_count": 23,
     "metadata": {},
     "output_type": "execute_result"
    }
   ],
   "source": [
    "for(auto it=myset.begin(); it != myset.end(); ++it)\n",
    "{\n",
    "    cout << *it << endl;\n",
    "}"
   ]
  },
  {
   "cell_type": "markdown",
   "metadata": {},
   "source": [
    "Przyjrzymy się teraz wstawianiu wartości do set'a. W ogóle, koszt takiej operacji jest *logarytmiczny* z liczbą elementów. Jest tak, bo musimy najpierw wyszukać miejsce wstawienia. Możemy ten koszt ograniczyć \"zgadując\" prawidłowe położenie. Rozważmy kod:"
   ]
  },
  {
   "cell_type": "code",
   "execution_count": 2,
   "metadata": {},
   "outputs": [
    {
     "data": {
      "text/plain": []
     },
     "execution_count": 2,
     "metadata": {},
     "output_type": "execute_result"
    }
   ],
   "source": [
    "#include <iostream>\n",
    "#include <set>\n",
    "using namespace std;"
   ]
  },
  {
   "cell_type": "markdown",
   "metadata": {},
   "source": [
    "set, iterator i para łącząca iterator i wartość logiczną. Ostatnie jest potrzebne ponieważ to właśnie zwraca metoda insert():"
   ]
  },
  {
   "cell_type": "code",
   "execution_count": 3,
   "metadata": {},
   "outputs": [
    {
     "data": {
      "text/plain": []
     },
     "execution_count": 3,
     "metadata": {},
     "output_type": "execute_result"
    }
   ],
   "source": [
    "set<int> myset;\n",
    "set<int>::iterator it;\n",
    "pair<set<int>::iterator, bool> ret;"
   ]
  },
  {
   "cell_type": "code",
   "execution_count": 4,
   "metadata": {},
   "outputs": [
    {
     "data": {
      "text/plain": []
     },
     "execution_count": 4,
     "metadata": {},
     "output_type": "execute_result"
    }
   ],
   "source": [
    "// set some initial values :10 20 30 40 50\n",
    "for ( int i =1; i <=5; ++ i ) myset.insert (i*10);"
   ]
  },
  {
   "cell_type": "code",
   "execution_count": 5,
   "metadata": {},
   "outputs": [
    {
     "name": "stdout",
     "output_type": "stream",
     "text": [
      "10 20 30 40 50 "
     ]
    },
    {
     "data": {
      "text/plain": []
     },
     "execution_count": 5,
     "metadata": {},
     "output_type": "execute_result"
    }
   ],
   "source": [
    "for(auto it=myset.begin(); it != myset.end(); ++it)\n",
    "    cout << *it << \" \";"
   ]
  },
  {
   "cell_type": "markdown",
   "metadata": {},
   "source": [
    "Spróbujemy dodać wartość 20:"
   ]
  },
  {
   "cell_type": "code",
   "execution_count": 7,
   "metadata": {},
   "outputs": [
    {
     "name": "stdout",
     "output_type": "stream",
     "text": [
      "20 0\n"
     ]
    },
    {
     "data": {
      "text/plain": [
       "(std::basic_ostream<char, std::char_traits<char> >::__ostream_type &) @0x7f2d1e8f4480\n"
      ]
     },
     "execution_count": 7,
     "metadata": {},
     "output_type": "execute_result"
    }
   ],
   "source": [
    "ret = myset.insert(20);\n",
    "cout << *ret.first << \" \" << ret.second << endl;"
   ]
  },
  {
   "cell_type": "markdown",
   "metadata": {},
   "source": [
    "ret.second ma wartość 0, nie udało nam się, bo 20 jest już w kolekcji. Mamy za to iterator do tej wartości pod ret.first. Możemy to wykorzystać by wydajnie wstawić kilka wartości:"
   ]
  },
  {
   "cell_type": "code",
   "execution_count": 8,
   "metadata": {},
   "outputs": [
    {
     "data": {
      "text/plain": []
     },
     "execution_count": 8,
     "metadata": {},
     "output_type": "execute_result"
    }
   ],
   "source": [
    "if(ret.second == false)\n",
    "    it = ret.first; // \" it \" now points 20"
   ]
  },
  {
   "cell_type": "markdown",
   "metadata": {},
   "source": [
    "it pokazuje na 20, 25 i 24 wstawiane będą jako następne za 20:"
   ]
  },
  {
   "cell_type": "code",
   "execution_count": null,
   "metadata": {},
   "outputs": [],
   "source": [
    "myset.insert(it, 25); // max efficiency \n",
    "myset.insert(it, 24); // max efficiency"
   ]
  },
  {
   "cell_type": "markdown",
   "metadata": {},
   "source": [
    "Ale 26 ma się znaleźć jako następujące po 24 i 25, więc it nie pokazuje już prawidłowej pozycji."
   ]
  },
  {
   "cell_type": "code",
   "execution_count": 9,
   "metadata": {},
   "outputs": [
    {
     "data": {
      "text/plain": [
       "(std::set<int, std::less<int>, std::allocator<int> >::iterator) @0x7f2cf51553f0\n"
      ]
     },
     "execution_count": 9,
     "metadata": {},
     "output_type": "execute_result"
    }
   ],
   "source": [
    "myset.insert(it, 26); // no max efficiency"
   ]
  },
  {
   "cell_type": "markdown",
   "metadata": {},
   "source": [
    "Zobaczmy co jest w naszej kolekcji:"
   ]
  },
  {
   "cell_type": "code",
   "execution_count": 10,
   "metadata": {},
   "outputs": [
    {
     "name": "stdout",
     "output_type": "stream",
     "text": [
      "10 20 26 30 40 50 "
     ]
    },
    {
     "data": {
      "text/plain": []
     },
     "execution_count": 10,
     "metadata": {},
     "output_type": "execute_result"
    }
   ],
   "source": [
    "for(auto it=myset.begin(); it != myset.end(); ++it)\n",
    "    cout << *it << \" \";"
   ]
  },
  {
   "cell_type": "markdown",
   "metadata": {},
   "source": [
    "### Mapa"
   ]
  },
  {
   "cell_type": "code",
   "execution_count": 1,
   "metadata": {},
   "outputs": [
    {
     "data": {
      "text/plain": []
     },
     "execution_count": 1,
     "metadata": {},
     "output_type": "execute_result"
    }
   ],
   "source": [
    "#include <iostream>\n",
    "#include <map>\n",
    "using namespace std;"
   ]
  },
  {
   "cell_type": "code",
   "execution_count": 3,
   "metadata": {},
   "outputs": [
    {
     "data": {
      "text/plain": [
       "(int) 70\n"
      ]
     },
     "execution_count": 3,
     "metadata": {},
     "output_type": "execute_result"
    }
   ],
   "source": [
    "map<char, int> first;\n",
    "first['a']=10;\n",
    "first['b']=30;\n",
    "first['c']=50;\n",
    "first['d']=70;"
   ]
  },
  {
   "cell_type": "code",
   "execution_count": 5,
   "metadata": {},
   "outputs": [
    {
     "data": {
      "text/plain": [
       "(int) 100\n"
      ]
     },
     "execution_count": 5,
     "metadata": {},
     "output_type": "execute_result"
    }
   ],
   "source": [
    "first['c'] = 100;"
   ]
  },
  {
   "cell_type": "code",
   "execution_count": 6,
   "metadata": {},
   "outputs": [
    {
     "name": "stdout",
     "output_type": "stream",
     "text": [
      "100\n"
     ]
    },
    {
     "data": {
      "text/plain": [
       "(std::basic_ostream<char, std::char_traits<char> >::__ostream_type &) @0x7f32e3477480\n"
      ]
     },
     "execution_count": 6,
     "metadata": {},
     "output_type": "execute_result"
    }
   ],
   "source": [
    "cout << first['c'] << endl;"
   ]
  },
  {
   "cell_type": "code",
   "execution_count": 7,
   "metadata": {},
   "outputs": [
    {
     "name": "stdout",
     "output_type": "stream",
     "text": [
      "a 10\n",
      "b 30\n",
      "c 100\n",
      "d 70\n"
     ]
    },
    {
     "data": {
      "text/plain": []
     },
     "execution_count": 7,
     "metadata": {},
     "output_type": "execute_result"
    }
   ],
   "source": [
    "for(auto it=first.begin(); it != first.end(); ++it)\n",
    "    cout << it->first << \" \" << it->second << endl;"
   ]
  },
  {
   "cell_type": "code",
   "execution_count": 8,
   "metadata": {},
   "outputs": [
    {
     "data": {
      "text/plain": []
     },
     "execution_count": 8,
     "metadata": {},
     "output_type": "execute_result"
    }
   ],
   "source": [
    "auto it2 = first.find('b');"
   ]
  },
  {
   "cell_type": "code",
   "execution_count": 9,
   "metadata": {},
   "outputs": [
    {
     "name": "stdout",
     "output_type": "stream",
     "text": [
      "b 30\n"
     ]
    },
    {
     "data": {
      "text/plain": [
       "(std::basic_ostream<char, std::char_traits<char> >::__ostream_type &) @0x7f32e3477480\n"
      ]
     },
     "execution_count": 9,
     "metadata": {},
     "output_type": "execute_result"
    }
   ],
   "source": [
    "cout << it2->first << \" \" << it2->second << endl;"
   ]
  },
  {
   "cell_type": "code",
   "execution_count": 13,
   "metadata": {},
   "outputs": [
    {
     "data": {
      "text/plain": [
       "(std::_Rb_tree_iterator &) @0x7f32e55d3048\n"
      ]
     },
     "execution_count": 13,
     "metadata": {},
     "output_type": "execute_result"
    }
   ],
   "source": [
    "it2 = first.find('a');"
   ]
  },
  {
   "cell_type": "code",
   "execution_count": 14,
   "metadata": {},
   "outputs": [
    {
     "name": "stdout",
     "output_type": "stream",
     "text": [
      "a 10\n"
     ]
    },
    {
     "data": {
      "text/plain": []
     },
     "execution_count": 14,
     "metadata": {},
     "output_type": "execute_result"
    }
   ],
   "source": [
    "if(it2 != first.end())\n",
    "    cout << it2->first << \" \" << it2->second << endl;"
   ]
  },
  {
   "cell_type": "markdown",
   "metadata": {},
   "source": [
    "## Algorytmy\n",
    "Operacje takie jak sortowanie, wyszukiwanie, usuwanie kopii i wiele innych są często niezbędne do realizacji zadania programisty. Biblioteka standardowa oferuje zestaw \"standardowych\" algorytmów. Pełna ich lista jest dość długa, a tu przyjrzymy się tylko kilku. Dzięki zastosowaniu iteratorów algorytmy mogą działać w \"nieświadomości\" kontenera nad jakim pracują. Zazwyczaj przyjmować będą jedynie początek i koniec zakresu nad jakim mają pracować.\n",
    "\n",
    "https://en.cppreference.com/w/cpp/algorithm  \n",
    "https://www.cplusplus.com/reference/algorithm/"
   ]
  },
  {
   "cell_type": "markdown",
   "metadata": {},
   "source": [
    "### for_each"
   ]
  },
  {
   "cell_type": "markdown",
   "metadata": {},
   "source": [
    "### find"
   ]
  },
  {
   "cell_type": "markdown",
   "metadata": {},
   "source": [
    "### fill"
   ]
  },
  {
   "cell_type": "markdown",
   "metadata": {},
   "source": [
    "### sort"
   ]
  },
  {
   "cell_type": "markdown",
   "metadata": {},
   "source": [
    "### unique"
   ]
  },
  {
   "cell_type": "markdown",
   "metadata": {},
   "source": [
    "### lower_bound"
   ]
  },
  {
   "cell_type": "markdown",
   "metadata": {},
   "source": [
    "### binary_search"
   ]
  },
  {
   "cell_type": "code",
   "execution_count": null,
   "metadata": {},
   "outputs": [],
   "source": []
  }
 ],
 "metadata": {
  "kernelspec": {
   "display_name": "C++11",
   "language": "C++",
   "name": "cling-cpp11"
  },
  "language_info": {
   "codemirror_mode": "c++",
   "file_extension": ".c++",
   "mimetype": "text/x-c++src",
   "name": "c++"
  }
 },
 "nbformat": 4,
 "nbformat_minor": 4
}
