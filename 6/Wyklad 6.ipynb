{
 "cells": [
  {
   "cell_type": "markdown",
   "metadata": {},
   "source": [
    "# Elementy biblioteki STL\n",
    "Wiemy już, że język C++ wprowadza wzorce i pozwala projektować nowe typy w oparciu o znane w czasie kompilacji argumenty (typy bądź wartości całkowite).\n",
    "\n",
    "Na podstawie mechanizmu szablonów stworzono bibliotekę STL (Standard Template Library), czyli standardową bibliotekę szablonów. Zawiera ona implementacje przeróżnych kontenerów (kolekcji) i algorytmów nieodłącznych w programowaniu. Można przyjąć, że jeżeli potrzeby nam jest jakiś podstawowy algorytm (sortowanie, wyszukiwanie, itp.) jego implementacja już w tej bibliotece się znajduje (i jest zapewne wydajniejsza niż to co wymyślimy sami).\n",
    "\n",
    "Przyjrzymy się dziś kilku z zawartych w bibliotece STL kontenerom i algorytmom."
   ]
  },
  {
   "cell_type": "markdown",
   "metadata": {},
   "source": [
    "## Iteratory\n",
    "Jest to koncept mający usprawnić, ułatwić i ujednolicić dostęp do elementów przechowywanych w kontenerach. W zamyśle użycie iteratora ma być uniezależnione od struktury samej kolekcji i trochę od niej samej.\n",
    "Praca przy użyciu iteratorów odbywać się będzie podobnie do działań na wskaźnikach. W szczególności dostęp do wartości odbywać się będzie przez operator \\*, operator będzie można inkrementować przez ++ czy porównywać przez !=.\n",
    "\n",
    "Ogólna składnia:"
   ]
  },
  {
   "cell_type": "code",
   "execution_count": null,
   "metadata": {},
   "outputs": [],
   "source": [
    "std::nazwa_kolekcji<typ>::iterator nazwa_iteratora"
   ]
  },
  {
   "cell_type": "markdown",
   "metadata": {},
   "source": [
    "Podobnie jak w C wskaźnik do typu był nowym typem, tak tu iterator do elementu kolekcji jest typem (iterator do kolekcji iteratorów też).Podobnie jak w C wskaźnik do typu był nowym typem, tak tu iterator do elementu kolekcji jest typem (iterator do kolekcji iteratorów też).\n",
    "\n",
    "Iteratory pojawiają się w różnych odcieniach. Część wymieniona jest na slajdach do wykładu, a kompletną (i bierzącą listę) mogą państwo znaleźć na stronach z dokumentacją. My w zasadzie skorzystamy z kilku:\n",
    "* forward iterator: umożliwiają jedynie ruch do przodu (tylko inkrementacja)\n",
    "* bidirectional iterator: ruch w obie strony\n",
    "* random access: dowolny dostęp"
   ]
  },
  {
   "cell_type": "markdown",
   "metadata": {},
   "source": [
    "## Kontenery\n",
    "Są to obiekty przeznaczone do przechowywania danych. Przechowywać będziemy mogli zarówno typy proste (int, double ...), jak i złożone. Określone przy użyciu zaprogramowanych przez nas klas czy nawet same kontenery (kontenery w kontenerach).\n",
    "https://en.cppreference.com/w/cpp/container  \n",
    "https://www.cplusplus.com/reference/stl/\n",
    "\n",
    "Podstawowy podział kontenerów jest następujący:\n",
    "* sekwencyjne, czyli przechowujące elementy jeden za drógim, np. wektor, lista ...\n",
    "* asocjacyjne, czyli przechowujące pary zawierające klucz i wartość, np. mapa"
   ]
  },
  {
   "cell_type": "markdown",
   "metadata": {},
   "source": [
    "### Vector"
   ]
  },
  {
   "cell_type": "markdown",
   "metadata": {},
   "source": [
    "Pierwszym kontenerem będzie vector, czyli w zasadzie dynamiczna tablica jaką znamy z C z wieloma wygodnymi dodatkami. Dostęp do vectora uzyskamy przez dołączenie hedeara **vector**. Dodamy też **using namespace std** aby uniknąć konieczności definiowania przestrzeni nazw za każdym razem."
   ]
  },
  {
   "cell_type": "code",
   "execution_count": null,
   "metadata": {},
   "outputs": [],
   "source": [
    "#include <iostream>\n",
    "#include <vector>\n",
    "using namespace std;"
   ]
  },
  {
   "cell_type": "markdown",
   "metadata": {},
   "source": [
    "Vector deklarujemy jak każdą inną zmienną, przy czym musimy podać typ przechowywany (argument templejta) w ostrych nawiasach:"
   ]
  },
  {
   "cell_type": "code",
   "execution_count": null,
   "metadata": {},
   "outputs": [],
   "source": [
    "vector<int> myinttab;"
   ]
  },
  {
   "cell_type": "markdown",
   "metadata": {},
   "source": [
    "Jest kilka konstruktorów dla klasy vector. Np. jeden z parametrycznych konstruktorów pozwala nam na określenie rozmiaru i wartości jaką wypełniony będzie nasz kontener:"
   ]
  },
  {
   "cell_type": "code",
   "execution_count": null,
   "metadata": {},
   "outputs": [],
   "source": [
    "vector<int> myinttab2(10, 100);"
   ]
  },
  {
   "cell_type": "markdown",
   "metadata": {},
   "source": [
    "Dla nas jest to w zasadzie nic innego jak dynamiczna tablica, do elementów której możemy się dobrać przez operator [\\\\]. Na razie tak samo jak robiliśmy to w **C**:"
   ]
  },
  {
   "cell_type": "code",
   "execution_count": null,
   "metadata": {},
   "outputs": [],
   "source": [
    "for(int i=0; i<10; ++i)\n",
    "{\n",
    "    myinttab2[i] = i;\n",
    "    cout << myinttab2[i] << \" \";\n",
    "}"
   ]
  },
  {
   "cell_type": "markdown",
   "metadata": {},
   "source": [
    "Do elementów możemy się dostać przez \\[\\], ale też poprzez specjalne metody *front()* i *back()* zwracające referencje do pierwszego i ostatniego elementu kolekcji:"
   ]
  },
  {
   "cell_type": "code",
   "execution_count": null,
   "metadata": {},
   "outputs": [],
   "source": [
    "int a = myinttab2.front();\n",
    "int b = myinttab2.back();\n",
    "cout << a << \" \" << b << endl;"
   ]
  },
  {
   "cell_type": "markdown",
   "metadata": {},
   "source": [
    "Spróbumy teraz wprowadzić iterator. Dla vectora int będzie to:"
   ]
  },
  {
   "cell_type": "code",
   "execution_count": null,
   "metadata": {},
   "outputs": [],
   "source": [
    "vector<int>::iterator it = myinttab2.begin();"
   ]
  },
  {
   "cell_type": "markdown",
   "metadata": {},
   "source": [
    "Przy czym metoda *begin()* zwraca iterator wskazujący na pierwszy element kolekcji.  \n",
    "Iterator możemy inkrementować i uzyskać wartość przechowywaną przez operator wyłyskania \\*, o tak:"
   ]
  },
  {
   "cell_type": "code",
   "execution_count": null,
   "metadata": {},
   "outputs": [],
   "source": [
    "++it;\n",
    "cout << *it << endl;"
   ]
  },
  {
   "cell_type": "markdown",
   "metadata": {},
   "source": [
    "Możemy teraz zapisać naszą pętlę odrobine lepiej, zato mniej zrozumiale:"
   ]
  },
  {
   "cell_type": "code",
   "execution_count": null,
   "metadata": {},
   "outputs": [],
   "source": [
    "for(vector<int>::iterator it = myinttab2.begin();\n",
    "it != myinttab2.end(); ++it)\n",
    "{\n",
    "    cout << *it << \" \";\n",
    "}"
   ]
  },
  {
   "cell_type": "markdown",
   "metadata": {},
   "source": [
    "Zapisywanie typu jakim jest iterator do kolekcji, może być uciążliwe. Zreszß nie tylko to, ale określenie typu zwracanego przez rózne metody, szczególnie generycznych klas może być kłopotliwe. W tym celu przewidziano słowo kluczowe **auto** pozwalające na odłożenie determinacji typu do czasu kompilacji i jego dedukcję z wartośći przypisywanej. Mamy więc:"
   ]
  },
  {
   "cell_type": "code",
   "execution_count": null,
   "metadata": {},
   "outputs": [],
   "source": [
    "for(auto it = myinttab2.begin(); it != myinttab2.end(); ++it)\n",
    "{\n",
    "    cout << *it << \" \";\n",
    "}"
   ]
  },
  {
   "cell_type": "markdown",
   "metadata": {},
   "source": [
    "Ponieważ samo **auto** nie określa typu, zmienne tak kreślona musi być natychmiat inicjalizowana (inaczej jak kompilator ma coś wydedukować?)."
   ]
  },
  {
   "cell_type": "code",
   "execution_count": null,
   "metadata": {},
   "outputs": [],
   "source": [
    "auto autovariable;"
   ]
  },
  {
   "cell_type": "markdown",
   "metadata": {},
   "source": [
    "Vector implementuje różne metody i najlepiej odwołać się do dokumentacji. Tu pokażemy tylko niektóre:  "
   ]
  },
  {
   "cell_type": "code",
   "execution_count": null,
   "metadata": {},
   "outputs": [],
   "source": [
    "vector<int> myinttab2(100)"
   ]
  },
  {
   "cell_type": "markdown",
   "metadata": {},
   "source": [
    "size(), max_size() i capacity():"
   ]
  },
  {
   "cell_type": "code",
   "execution_count": null,
   "metadata": {},
   "outputs": [],
   "source": [
    "cout << myinttab2.size() << endl;\n",
    "cout << myinttab2.max_size() << endl;\n",
    "cout << myinttab2.capacity() << endl;"
   ]
  },
  {
   "cell_type": "markdown",
   "metadata": {},
   "source": [
    "reserve():"
   ]
  },
  {
   "cell_type": "code",
   "execution_count": null,
   "metadata": {},
   "outputs": [],
   "source": [
    "myinttab2.reserve(1000);"
   ]
  },
  {
   "cell_type": "markdown",
   "metadata": {},
   "source": [
    "Zwracamy uwagę na zmianę capacity() i brak zmiany size():"
   ]
  },
  {
   "cell_type": "code",
   "execution_count": null,
   "metadata": {},
   "outputs": [],
   "source": [
    "cout << myinttab2.size() << endl;\n",
    "cout << myinttab2.max_size() << endl;\n",
    "cout << myinttab2.capacity() << endl;"
   ]
  },
  {
   "cell_type": "markdown",
   "metadata": {},
   "source": [
    "Metody push_back() i pop_back():"
   ]
  },
  {
   "cell_type": "code",
   "execution_count": null,
   "metadata": {},
   "outputs": [],
   "source": [
    "vector<double> dvec;\n",
    "dvec.push_back(4.0);\n",
    "dvec.push_back(5.0);\n",
    "dvec.push_back(1.0);"
   ]
  },
  {
   "cell_type": "code",
   "execution_count": null,
   "metadata": {},
   "outputs": [],
   "source": [
    "cout << dvec.size() << \" \" << dvec[2] << endl;"
   ]
  },
  {
   "cell_type": "code",
   "execution_count": null,
   "metadata": {},
   "outputs": [],
   "source": [
    "dvec.pop_back();\n",
    "cout << dvec.size() << \" \" << dvec.back() << endl;"
   ]
  },
  {
   "cell_type": "markdown",
   "metadata": {},
   "source": [
    "### Lista\n",
    "Innym kontenerem sekwencyjnym jest lista. Pozwala na przechowywanie elementów w sposób nieciągły w pamięci. Ma to taką zaletę, że dodawanie i usuwanie elementów jest tanie. Za to trzeba przechowywać informację o sąsiadach. Nie można też dostać się do elementu z kosztem stałym, a należy przeiterować się przez wszystkie elementy."
   ]
  },
  {
   "cell_type": "code",
   "execution_count": null,
   "metadata": {},
   "outputs": [],
   "source": [
    "#include <iostream>\n",
    "#include <list>\n",
    "using namespace std;"
   ]
  },
  {
   "cell_type": "code",
   "execution_count": null,
   "metadata": {},
   "outputs": [],
   "source": [
    "int myints[] = {75 ,23 ,65 ,42 ,13};\n",
    "list<int> mylist (myints, myints+5);"
   ]
  },
  {
   "cell_type": "markdown",
   "metadata": {},
   "source": [
    "Nie możemy już niestety zrobić tak:"
   ]
  },
  {
   "cell_type": "code",
   "execution_count": null,
   "metadata": {},
   "outputs": [],
   "source": [
    "for(int i=0; i<10; ++i)\n",
    "{\n",
    "    mylist[i] = i;\n",
    "    cout << mylist[i] << \" \";\n",
    "}"
   ]
  },
  {
   "cell_type": "markdown",
   "metadata": {},
   "source": [
    "Ale mamy do tego iteratory i możemy się teraz przekonać, że ich zastosowanie pozwala na dostęp do elementów w sposób niezalezny od typu kolekcji:"
   ]
  },
  {
   "cell_type": "code",
   "execution_count": null,
   "metadata": {},
   "outputs": [],
   "source": [
    "for(auto it = mylist.begin(); it != mylist.end(); ++it)\n",
    "{\n",
    "    cout << *it << \" \";\n",
    "}"
   ]
  },
  {
   "cell_type": "markdown",
   "metadata": {},
   "source": [
    "Albo iterując od tyłu do przodu:"
   ]
  },
  {
   "cell_type": "code",
   "execution_count": null,
   "metadata": {},
   "outputs": [],
   "source": [
    "for(auto it = mylist.end(); it != mylist.begin(); )\n",
    "{\n",
    "    --it;\n",
    "    cout << *it << \" \";\n",
    "}"
   ]
  },
  {
   "cell_type": "markdown",
   "metadata": {},
   "source": [
    "szie(), maz_size() i capacity() działają podobnie jak poprzednio:"
   ]
  },
  {
   "cell_type": "code",
   "execution_count": null,
   "metadata": {},
   "outputs": [],
   "source": [
    "cout << mylist.size() << \" \" << mylist.max_size() << \" \" << mylist.empty() << endl;"
   ]
  },
  {
   "cell_type": "markdown",
   "metadata": {},
   "source": [
    "Listę możemy wyczyścić:"
   ]
  },
  {
   "cell_type": "code",
   "execution_count": null,
   "metadata": {},
   "outputs": [],
   "source": [
    "mylist.clear();\n",
    "cout << mylist.size() << \" \" << mylist.max_size() << \" \" << mylist.empty() << endl;"
   ]
  },
  {
   "cell_type": "markdown",
   "metadata": {},
   "source": [
    "Wstawmy do listy wartości przy użyciu insert(). Wstawimy zawartość tablicy myints podając adresy elementu pierwszego i ostatniego (jeden za nim) oraz pozycję korzystając z iteratora:"
   ]
  },
  {
   "cell_type": "code",
   "execution_count": null,
   "metadata": {},
   "outputs": [],
   "source": [
    "mylist.insert(mylist.begin(), myints, myints+5);"
   ]
  },
  {
   "cell_type": "markdown",
   "metadata": {},
   "source": [
    "W końcu w oparciu o listę napiszemy przykład, w którym będziemy odrzucać naprzemiennie wartości z początku i końca listy. Aż będzie ona pusta:"
   ]
  },
  {
   "cell_type": "code",
   "execution_count": null,
   "metadata": {},
   "outputs": [],
   "source": [
    "int i=0;\n",
    "while(!mylist.empty())\n",
    "{\n",
    "    cout << \"Size: \" << mylist.size() << endl;\n",
    "    if(i==0)\n",
    "    {   \n",
    "        cout << \"Value:\" << mylist.back() << endl;\n",
    "        mylist.pop_back();\n",
    "        i=1;\n",
    "    }\n",
    "    else\n",
    "    {\n",
    "        cout << \"Value:\" << mylist.front() << endl;\n",
    "        mylist.pop_front();\n",
    "        i=0;\n",
    "    }\n",
    "}"
   ]
  },
  {
   "cell_type": "markdown",
   "metadata": {},
   "source": [
    "### Para\n",
    "O parze powiemy tylko tyle że przechowuje dwie wartośći a dostęp do nich jest poprzez first i second:"
   ]
  },
  {
   "cell_type": "code",
   "execution_count": null,
   "metadata": {},
   "outputs": [],
   "source": [
    "pair<char, int> a; // para łącząca characer i wartość int"
   ]
  },
  {
   "cell_type": "code",
   "execution_count": null,
   "metadata": {},
   "outputs": [],
   "source": [
    "a.first = 'a';\n",
    "a.second= 10;\n",
    "cout << a.first << \" \" << a.second << endl;"
   ]
  },
  {
   "cell_type": "markdown",
   "metadata": {},
   "source": [
    "Parę jeszcze spotkamy!"
   ]
  },
  {
   "cell_type": "markdown",
   "metadata": {},
   "source": [
    "### Set\n",
    "Pierwszy kontener asocjacyjny. Przechowuje posortowane i unikalne wartości. Może być ciekawym rozwiązaniem, gdy użyjemy go wraz z parą!"
   ]
  },
  {
   "cell_type": "code",
   "execution_count": null,
   "metadata": {},
   "outputs": [],
   "source": [
    "#include <iostream>\n",
    "#include <set>\n",
    "using namespace std;"
   ]
  },
  {
   "cell_type": "code",
   "execution_count": null,
   "metadata": {},
   "outputs": [],
   "source": [
    "set<int> myset;"
   ]
  },
  {
   "cell_type": "markdown",
   "metadata": {},
   "source": [
    "Wstawiamy wartości, niektóre wielokrotnie."
   ]
  },
  {
   "cell_type": "code",
   "execution_count": null,
   "metadata": {},
   "outputs": [],
   "source": [
    "myset.insert(0);\n",
    "myset.insert(0);\n",
    "myset.insert(0);\n",
    "myset.insert(10);\n",
    "myset.insert(50);\n",
    "myset.insert(-50);\n",
    "myset.insert(25);\n",
    "myset.insert(15);"
   ]
  },
  {
   "cell_type": "markdown",
   "metadata": {},
   "source": [
    "Widzimy, że rozmiar jest jakby mniejszy:"
   ]
  },
  {
   "cell_type": "code",
   "execution_count": null,
   "metadata": {},
   "outputs": [],
   "source": [
    "cout << myset.size() << endl;"
   ]
  },
  {
   "cell_type": "markdown",
   "metadata": {},
   "source": [
    "A zawartość"
   ]
  },
  {
   "cell_type": "code",
   "execution_count": null,
   "metadata": {},
   "outputs": [],
   "source": [
    "for(auto it=myset.begin(); it != myset.end(); ++it)\n",
    "{\n",
    "    cout << *it << endl;\n",
    "}"
   ]
  },
  {
   "cell_type": "markdown",
   "metadata": {},
   "source": [
    "Przyjrzymy się teraz wstawianiu wartości do set'a. W ogóle, koszt takiej operacji jest *logarytmiczny* z liczbą elementów. Jest tak, bo musimy najpierw wyszukać miejsce wstawienia. Możemy ten koszt ograniczyć \"zgadując\" prawidłowe położenie. Rozważmy kod:"
   ]
  },
  {
   "cell_type": "code",
   "execution_count": null,
   "metadata": {},
   "outputs": [],
   "source": [
    "#include <iostream>\n",
    "#include <set>\n",
    "using namespace std;"
   ]
  },
  {
   "cell_type": "markdown",
   "metadata": {},
   "source": [
    "set, iterator i para łącząca iterator i wartość logiczną. Ostatnie jest potrzebne ponieważ to właśnie zwraca metoda insert():"
   ]
  },
  {
   "cell_type": "code",
   "execution_count": null,
   "metadata": {},
   "outputs": [],
   "source": [
    "set<int> myset;\n",
    "set<int>::iterator it;\n",
    "pair<set<int>::iterator, bool> ret;"
   ]
  },
  {
   "cell_type": "code",
   "execution_count": null,
   "metadata": {},
   "outputs": [],
   "source": [
    "// set some initial values :10 20 30 40 50\n",
    "for ( int i =1; i <=5; ++ i ) myset.insert (i*10);"
   ]
  },
  {
   "cell_type": "code",
   "execution_count": null,
   "metadata": {},
   "outputs": [],
   "source": [
    "for(auto it=myset.begin(); it != myset.end(); ++it)\n",
    "    cout << *it << \" \";"
   ]
  },
  {
   "cell_type": "markdown",
   "metadata": {},
   "source": [
    "Spróbujemy dodać wartość 20:"
   ]
  },
  {
   "cell_type": "code",
   "execution_count": null,
   "metadata": {},
   "outputs": [],
   "source": [
    "ret = myset.insert(20);\n",
    "cout << *ret.first << \" \" << ret.second << endl;"
   ]
  },
  {
   "cell_type": "markdown",
   "metadata": {},
   "source": [
    "ret.second ma wartość 0, nie udało nam się, bo 20 jest już w kolekcji. Mamy za to iterator do tej wartości pod ret.first. Możemy to wykorzystać by wydajnie wstawić kilka wartości:"
   ]
  },
  {
   "cell_type": "code",
   "execution_count": null,
   "metadata": {},
   "outputs": [],
   "source": [
    "if(ret.second == false)\n",
    "    it = ret.first; // \" it \" now points 20"
   ]
  },
  {
   "cell_type": "markdown",
   "metadata": {},
   "source": [
    "it pokazuje na 20, 25 i 24 wstawiane będą jako następne za 20:"
   ]
  },
  {
   "cell_type": "code",
   "execution_count": null,
   "metadata": {},
   "outputs": [],
   "source": [
    "myset.insert(it, 25); // max efficiency \n",
    "myset.insert(it, 24); // max efficiency"
   ]
  },
  {
   "cell_type": "markdown",
   "metadata": {},
   "source": [
    "Ale 26 ma się znaleźć jako następujące po 24 i 25, więc it nie pokazuje już prawidłowej pozycji."
   ]
  },
  {
   "cell_type": "code",
   "execution_count": null,
   "metadata": {},
   "outputs": [],
   "source": [
    "myset.insert(it, 26); // no max efficiency"
   ]
  },
  {
   "cell_type": "markdown",
   "metadata": {},
   "source": [
    "Zobaczmy co jest w naszej kolekcji:"
   ]
  },
  {
   "cell_type": "code",
   "execution_count": null,
   "metadata": {},
   "outputs": [],
   "source": [
    "for(auto it=myset.begin(); it != myset.end(); ++it)\n",
    "    cout << *it << \" \";"
   ]
  },
  {
   "cell_type": "markdown",
   "metadata": {},
   "source": [
    "### Mapa"
   ]
  },
  {
   "cell_type": "code",
   "execution_count": null,
   "metadata": {},
   "outputs": [],
   "source": [
    "#include <iostream>\n",
    "#include <map>\n",
    "using namespace std;"
   ]
  },
  {
   "cell_type": "code",
   "execution_count": null,
   "metadata": {},
   "outputs": [],
   "source": [
    "map<char, int> first;\n",
    "first['a']=10;\n",
    "first['b']=30;\n",
    "first['c']=50;\n",
    "first['d']=70;"
   ]
  },
  {
   "cell_type": "code",
   "execution_count": null,
   "metadata": {},
   "outputs": [],
   "source": [
    "first['c'] = 100;"
   ]
  },
  {
   "cell_type": "code",
   "execution_count": null,
   "metadata": {},
   "outputs": [],
   "source": [
    "cout << first['c'] << endl;"
   ]
  },
  {
   "cell_type": "code",
   "execution_count": null,
   "metadata": {},
   "outputs": [],
   "source": [
    "for(auto it=first.begin(); it != first.end(); ++it)\n",
    "    cout << it->first << \" \" << it->second << endl;"
   ]
  },
  {
   "cell_type": "code",
   "execution_count": null,
   "metadata": {},
   "outputs": [],
   "source": [
    "auto it2 = first.find('b');"
   ]
  },
  {
   "cell_type": "code",
   "execution_count": null,
   "metadata": {},
   "outputs": [],
   "source": [
    "cout << it2->first << \" \" << it2->second << endl;"
   ]
  },
  {
   "cell_type": "code",
   "execution_count": null,
   "metadata": {},
   "outputs": [],
   "source": [
    "it2 = first.find('a');"
   ]
  },
  {
   "cell_type": "code",
   "execution_count": null,
   "metadata": {},
   "outputs": [],
   "source": [
    "if(it2 != first.end())\n",
    "    cout << it2->first << \" \" << it2->second << endl;"
   ]
  },
  {
   "cell_type": "markdown",
   "metadata": {},
   "source": [
    "## Algorytmy\n",
    "Operacje takie jak sortowanie, wyszukiwanie, usuwanie kopii i wiele innych są często niezbędne do realizacji zadania programisty. Biblioteka standardowa oferuje zestaw \"standardowych\" algorytmów. Pełna ich lista jest dość długa, a tu przyjrzymy się tylko kilku. Dzięki zastosowaniu iteratorów algorytmy mogą działać w \"nieświadomości\" kontenera nad jakim pracują. Zazwyczaj przyjmować będą jedynie początek i koniec zakresu nad jakim mają pracować.\n",
    "\n",
    "https://en.cppreference.com/w/cpp/algorithm  \n",
    "https://www.cplusplus.com/reference/algorithm/"
   ]
  },
  {
   "cell_type": "markdown",
   "metadata": {},
   "source": [
    "### for_each\n",
    "Pierwszym algorytmem będzie **for_each**.\n",
    "Służy do zastosowania operacji opisanej funkcją, lub obiektem funkcyjnym (takim dla którego zdefiniowano operator \\(\\)) do elementów kolekcji. Jako argumenty przyjmuje zakres, w postaci iteratorów oraz definicję operacji. Może ale nie musi zwracać, co pokażemy na przykładzie.\n",
    "\n",
    "Zdefiniujmy funkcję i funktor:"
   ]
  },
  {
   "cell_type": "code",
   "execution_count": 1,
   "metadata": {},
   "outputs": [
    {
     "data": {
      "text/plain": []
     },
     "execution_count": 1,
     "metadata": {},
     "output_type": "execute_result"
    }
   ],
   "source": [
    "#include <iostream>\n",
    "#include <algorithm>\n",
    "#include <vector>\n",
    "using namespace std;"
   ]
  },
  {
   "cell_type": "code",
   "execution_count": 2,
   "metadata": {},
   "outputs": [
    {
     "data": {
      "text/plain": []
     },
     "execution_count": 2,
     "metadata": {},
     "output_type": "execute_result"
    }
   ],
   "source": [
    "void fun(int a)\n",
    "{\n",
    "    std::cout << \"__\" << a;\n",
    "}"
   ]
  },
  {
   "cell_type": "code",
   "execution_count": 2,
   "metadata": {},
   "outputs": [
    {
     "data": {
      "text/plain": [
       "(void) @0x7fd9ff600c30\n"
      ]
     },
     "execution_count": 2,
     "metadata": {},
     "output_type": "execute_result"
    }
   ],
   "source": [
    "vector<int> vec;\n",
    "vec.push_back(10);\n",
    "vec.push_back(20);\n",
    "vec.push_back(30);"
   ]
  },
  {
   "cell_type": "code",
   "execution_count": 4,
   "metadata": {},
   "outputs": [
    {
     "name": "stdout",
     "output_type": "stream",
     "text": [
      "__10__20__30"
     ]
    },
    {
     "data": {
      "text/plain": [
       "(void (*)(int)) Function @0x7f9c956d92e0\n"
      ]
     },
     "execution_count": 4,
     "metadata": {},
     "output_type": "execute_result"
    }
   ],
   "source": [
    "for_each(vec.begin(), vec.end(), fun);"
   ]
  },
  {
   "cell_type": "markdown",
   "metadata": {},
   "source": [
    "Możemy też zastosować obiekt ze zdefiniowanym operatorem \\(\\). Takie podejście da nam możliwość zachowania stanu, oraz zwrócenia obiektu po wykonaniu *for_each*."
   ]
  },
  {
   "cell_type": "code",
   "execution_count": 5,
   "metadata": {},
   "outputs": [
    {
     "data": {
      "text/plain": []
     },
     "execution_count": 5,
     "metadata": {},
     "output_type": "execute_result"
    }
   ],
   "source": [
    "struct prtstr{\n",
    "    void operator()(int a) {std::cout << \"__\" << a;}\n",
    "} aa;"
   ]
  },
  {
   "cell_type": "code",
   "execution_count": 6,
   "metadata": {},
   "outputs": [
    {
     "name": "stdout",
     "output_type": "stream",
     "text": [
      "__10__20__30"
     ]
    },
    {
     "data": {
      "text/plain": [
       "(prtstr) @0x7f9c68f59e50\n"
      ]
     },
     "execution_count": 6,
     "metadata": {},
     "output_type": "execute_result"
    }
   ],
   "source": [
    "std::for_each(vec.begin(), vec.end(), prtstr());"
   ]
  },
  {
   "cell_type": "code",
   "execution_count": 7,
   "metadata": {},
   "outputs": [
    {
     "name": "stdout",
     "output_type": "stream",
     "text": [
      "__10__20__30"
     ]
    },
    {
     "data": {
      "text/plain": [
       "(prtstr) @0x7f9c68f4adb0\n"
      ]
     },
     "execution_count": 7,
     "metadata": {},
     "output_type": "execute_result"
    }
   ],
   "source": [
    "std::for_each(vec.begin(), vec.end(), aa);"
   ]
  },
  {
   "cell_type": "markdown",
   "metadata": {},
   "source": [
    "Albo tak:"
   ]
  },
  {
   "cell_type": "code",
   "execution_count": 3,
   "metadata": {},
   "outputs": [
    {
     "data": {
      "text/plain": []
     },
     "execution_count": 3,
     "metadata": {},
     "output_type": "execute_result"
    }
   ],
   "source": [
    "struct prtmod{\n",
    "    prtmod() : n(0) {}\n",
    "    void operator()(int& a) {n+=a; std::cout << \"__\" << n; a=0;}\n",
    "    int n;\n",
    "} bb;"
   ]
  },
  {
   "cell_type": "code",
   "execution_count": 4,
   "metadata": {},
   "outputs": [
    {
     "name": "stdout",
     "output_type": "stream",
     "text": [
      "__10__30__60"
     ]
    },
    {
     "data": {
      "text/plain": []
     },
     "execution_count": 4,
     "metadata": {},
     "output_type": "execute_result"
    }
   ],
   "source": [
    "prtmod a = std::for_each(vec.begin(), vec.end(), bb);"
   ]
  },
  {
   "cell_type": "code",
   "execution_count": 5,
   "metadata": {},
   "outputs": [
    {
     "name": "stdout",
     "output_type": "stream",
     "text": [
      "__0__0__0"
     ]
    },
    {
     "data": {
      "text/plain": []
     },
     "execution_count": 5,
     "metadata": {},
     "output_type": "execute_result"
    }
   ],
   "source": [
    "prtmod b = std::for_each(vec.begin(), vec.end(), prtmod());"
   ]
  },
  {
   "cell_type": "code",
   "execution_count": 6,
   "metadata": {},
   "outputs": [
    {
     "name": "stdout",
     "output_type": "stream",
     "text": [
      "60 0"
     ]
    },
    {
     "data": {
      "text/plain": [
       "(std::basic_ostream<char, std::char_traits<char> >::__ostream_type &) @0x7fda1d5b1480\n"
      ]
     },
     "execution_count": 6,
     "metadata": {},
     "output_type": "execute_result"
    }
   ],
   "source": [
    "std::cout << a.n << \" \" << b.n;"
   ]
  },
  {
   "cell_type": "markdown",
   "metadata": {},
   "source": [
    "### find\n",
    "Tak jak sugeruje nazwa, algorytm ten służy do wyszukiwania elementów w podanym zakresie. W rezultacie zwróci iterator do pierwszego wystąpienia poszukiwanego elementu. Odznacza się co najwyżej **liniowym** kosztem (proporcjonalnym do *n*). Może być zastosowane do wyszukiwania w nieposortowanych kolekcjach, lub takich, które nie oferują iteratora random access (jak listy). Uwaga, istnieją efektywniejsze metody przeszukiwania."
   ]
  },
  {
   "cell_type": "code",
   "execution_count": 1,
   "metadata": {},
   "outputs": [
    {
     "data": {
      "text/plain": []
     },
     "execution_count": 1,
     "metadata": {},
     "output_type": "execute_result"
    }
   ],
   "source": [
    "#include <iostream>\n",
    "#include <algorithm>\n",
    "#include <vector>\n",
    "using namespace std;"
   ]
  },
  {
   "cell_type": "markdown",
   "metadata": {},
   "source": [
    "Pokażemy powinowactwo iteratorów i wskaźników, stosując znane z **C** tablice statyczne."
   ]
  },
  {
   "cell_type": "code",
   "execution_count": 2,
   "metadata": {},
   "outputs": [
    {
     "data": {
      "text/plain": []
     },
     "execution_count": 2,
     "metadata": {},
     "output_type": "execute_result"
    }
   ],
   "source": [
    "int tab[] = { 20, 10, 40, 30 };\n",
    "vector<int> vec(tab , tab+4);"
   ]
  },
  {
   "cell_type": "code",
   "execution_count": 3,
   "metadata": {},
   "outputs": [
    {
     "data": {
      "text/plain": []
     },
     "execution_count": 3,
     "metadata": {},
     "output_type": "execute_result"
    }
   ],
   "source": [
    "int *p;\n",
    "vector<int>::iterator it;"
   ]
  },
  {
   "cell_type": "code",
   "execution_count": 4,
   "metadata": {},
   "outputs": [
    {
     "data": {
      "text/plain": [
       "(int *) 0x7f26210c7028\n"
      ]
     },
     "execution_count": 4,
     "metadata": {},
     "output_type": "execute_result"
    }
   ],
   "source": [
    "p = find ( tab , tab+4, 30);"
   ]
  },
  {
   "cell_type": "code",
   "execution_count": 5,
   "metadata": {},
   "outputs": [
    {
     "name": "stdout",
     "output_type": "stream",
     "text": [
      "Element found in tab : 30\n",
      "Element found in tab : 2\n"
     ]
    },
    {
     "data": {
      "text/plain": []
     },
     "execution_count": 5,
     "metadata": {},
     "output_type": "execute_result"
    }
   ],
   "source": [
    "if ( p != tab + 4)\n",
    "{\n",
    "    cout<<\"Element found in tab : \" << *p << '\\n';\n",
    "    cout<<\"Element found in tab : \" << (p-tab) << '\\n';\n",
    "}\n",
    "else\n",
    "    cout<<\"Element not found in tab\\n\";"
   ]
  },
  {
   "cell_type": "code",
   "execution_count": 6,
   "metadata": {},
   "outputs": [
    {
     "data": {
      "text/plain": [
       "(__gnu_cxx::__normal_iterator &) @0x7f26210c7058\n"
      ]
     },
     "execution_count": 6,
     "metadata": {},
     "output_type": "execute_result"
    }
   ],
   "source": [
    "it = find(vec.begin(), vec.end(), 30);"
   ]
  },
  {
   "cell_type": "code",
   "execution_count": 8,
   "metadata": {},
   "outputs": [
    {
     "name": "stdout",
     "output_type": "stream",
     "text": [
      "Element found in tab : 30\n",
      "Element found in tab : 2\n"
     ]
    },
    {
     "data": {
      "text/plain": []
     },
     "execution_count": 8,
     "metadata": {},
     "output_type": "execute_result"
    }
   ],
   "source": [
    "if ( it != vec.end())\n",
    "{\n",
    "    cout<<\"Element found in tab : \" << *it << '\\n';\n",
    "    cout<<\"Element found in tab : \" << it-vec.begin() << '\\n';\n",
    "}\n",
    "else\n",
    "    cout<<\"Element not found in myints\\n\";"
   ]
  },
  {
   "cell_type": "markdown",
   "metadata": {},
   "source": [
    "### sort\n",
    "Spróbujemy teraz zastosować kilka algorytmów w celu zastosowania trochę lepszego wyszukiwania. Zaczniemy od sortowania, bo intuicja podpowiada nam, że w uporządkowanej kolekcji wyszukuje się prościej.\n",
    "\n",
    "Nie jest chyba tajemnicą co robi sort, można go zastosować dla obiektów dla których zdefiniowano odpowiedni operator porównania, luba stosując funkcję czy obiekt funkcyjny (tak jak zrobiliśmy w przypadku *for_each*):"
   ]
  },
  {
   "cell_type": "code",
   "execution_count": 1,
   "metadata": {},
   "outputs": [
    {
     "data": {
      "text/plain": []
     },
     "execution_count": 1,
     "metadata": {},
     "output_type": "execute_result"
    }
   ],
   "source": [
    "#include <iostream>\n",
    "#include <algorithm>\n",
    "#include <vector>\n",
    "using namespace std;"
   ]
  },
  {
   "cell_type": "code",
   "execution_count": 2,
   "metadata": {},
   "outputs": [
    {
     "data": {
      "text/plain": []
     },
     "execution_count": 2,
     "metadata": {},
     "output_type": "execute_result"
    }
   ],
   "source": [
    "bool fun (int i , int j) { return (i < j ); }\n",
    "\n",
    "struct comp{\n",
    "    bool operator() ( int i , int j ) { return (i > j );}\n",
    "} myobject;"
   ]
  },
  {
   "cell_type": "code",
   "execution_count": 3,
   "metadata": {},
   "outputs": [
    {
     "data": {
      "text/plain": []
     },
     "execution_count": 3,
     "metadata": {},
     "output_type": "execute_result"
    }
   ],
   "source": [
    "int tab[] = {32, 71, 12, 45, 26, 80, 53, 33};\n",
    "vector<int> vec (tab, tab + 8);"
   ]
  },
  {
   "cell_type": "code",
   "execution_count": 3,
   "metadata": {},
   "outputs": [
    {
     "data": {
      "text/plain": []
     },
     "execution_count": 3,
     "metadata": {},
     "output_type": "execute_result"
    }
   ],
   "source": [
    "template<class T>\n",
    "void print(T a, T b)\n",
    "{\n",
    "    for(auto it = a ; it != b; ++it)\n",
    "        cout << ' ' << *it ;\n",
    "    cout << endl;    \n",
    "}"
   ]
  },
  {
   "cell_type": "markdown",
   "metadata": {},
   "source": [
    "Domyślny operator porównania (<) dla pierwszych 4 elementów:"
   ]
  },
  {
   "cell_type": "code",
   "execution_count": 6,
   "metadata": {},
   "outputs": [
    {
     "name": "stdout",
     "output_type": "stream",
     "text": [
      " 12 32 45 71\n"
     ]
    },
    {
     "data": {
      "text/plain": [
       "(void) @0x7f5410aebc30\n"
      ]
     },
     "execution_count": 6,
     "metadata": {},
     "output_type": "execute_result"
    }
   ],
   "source": [
    "sort(vec.begin(), vec.begin() + 4);\n",
    "print(vec.begin(), vec.begin()+4);"
   ]
  },
  {
   "cell_type": "code",
   "execution_count": 7,
   "metadata": {},
   "outputs": [
    {
     "name": "stdout",
     "output_type": "stream",
     "text": [
      " 26 33 53 80\n"
     ]
    },
    {
     "data": {
      "text/plain": [
       "(void) @0x7f5410aebc30\n"
      ]
     },
     "execution_count": 7,
     "metadata": {},
     "output_type": "execute_result"
    }
   ],
   "source": [
    "sort(vec.begin()+4, vec.end(), fun);\n",
    "print(vec.begin()+4, vec.end());"
   ]
  },
  {
   "cell_type": "code",
   "execution_count": 8,
   "metadata": {},
   "outputs": [
    {
     "name": "stdout",
     "output_type": "stream",
     "text": [
      " 80 71 53 45 33 32 26 12\n"
     ]
    },
    {
     "data": {
      "text/plain": [
       "(void) @0x7f5410aebc30\n"
      ]
     },
     "execution_count": 8,
     "metadata": {},
     "output_type": "execute_result"
    }
   ],
   "source": [
    "sort(vec.begin(), vec.end(), comp());\n",
    "print(vec.begin(), vec.end());"
   ]
  },
  {
   "cell_type": "code",
   "execution_count": 9,
   "metadata": {},
   "outputs": [
    {
     "name": "stdout",
     "output_type": "stream",
     "text": [
      " 80 71 53 45 33 32 26 12\n"
     ]
    },
    {
     "data": {
      "text/plain": [
       "(void) @0x7f5410aebc30\n"
      ]
     },
     "execution_count": 9,
     "metadata": {},
     "output_type": "execute_result"
    }
   ],
   "source": [
    "sort(vec.begin(), vec.end(), myobject);\n",
    "print(vec.begin(), vec.end());"
   ]
  },
  {
   "cell_type": "markdown",
   "metadata": {},
   "source": [
    "### unique\n",
    "Umiemy posortować kolekcję, czas na pozbycie się z niej duplikatów. Służy do tego *uniqe()*. Działa na posortowanej kolekcji. Powtarzające elementy zostaję\n",
    "przesunięte na koniec kolekcji, zwraca iterator za ostatni unikalny\n",
    "element."
   ]
  },
  {
   "cell_type": "code",
   "execution_count": 1,
   "metadata": {},
   "outputs": [
    {
     "data": {
      "text/plain": []
     },
     "execution_count": 1,
     "metadata": {},
     "output_type": "execute_result"
    }
   ],
   "source": [
    "#include <iostream>\n",
    "#include <algorithm>\n",
    "#include <vector>\n",
    "using namespace std;\n",
    "\n",
    "int tab[] = {32, 32, 45, 45, 26, 26, 53, 53};\n",
    "vector<int> vec (tab, tab + 8);"
   ]
  },
  {
   "cell_type": "code",
   "execution_count": 3,
   "metadata": {},
   "outputs": [
    {
     "name": "stdout",
     "output_type": "stream",
     "text": [
      " 26 26 32 32 45 45 53 53\n"
     ]
    },
    {
     "data": {
      "text/plain": [
       "(void) @0x7fb373600c30\n"
      ]
     },
     "execution_count": 3,
     "metadata": {},
     "output_type": "execute_result"
    }
   ],
   "source": [
    "sort(vec.begin(), vec.end());\n",
    "print(vec.begin(), vec.end());"
   ]
  },
  {
   "cell_type": "code",
   "execution_count": 4,
   "metadata": {},
   "outputs": [
    {
     "name": "stdout",
     "output_type": "stream",
     "text": [
      " 26 32 45 53 45 45 53 53\n"
     ]
    },
    {
     "data": {
      "text/plain": [
       "(void) @0x7fb373600c30\n"
      ]
     },
     "execution_count": 4,
     "metadata": {},
     "output_type": "execute_result"
    }
   ],
   "source": [
    "auto it = unique(vec.begin(), vec.end());\n",
    "print(vec.begin(), vec.end());"
   ]
  },
  {
   "cell_type": "code",
   "execution_count": 5,
   "metadata": {},
   "outputs": [
    {
     "name": "stdout",
     "output_type": "stream",
     "text": [
      "45 4\n"
     ]
    },
    {
     "data": {
      "text/plain": [
       "(std::basic_ostream<char, std::char_traits<char> >::__ostream_type &) @0x7fb3914c5480\n"
      ]
     },
     "execution_count": 5,
     "metadata": {},
     "output_type": "execute_result"
    }
   ],
   "source": [
    "cout << *it << \" \" << it - vec.begin() << endl;"
   ]
  },
  {
   "cell_type": "code",
   "execution_count": 6,
   "metadata": {},
   "outputs": [
    {
     "name": "stdout",
     "output_type": "stream",
     "text": [
      " 26 32 45 53\n"
     ]
    },
    {
     "data": {
      "text/plain": [
       "(void) @0x7fb373600c30\n"
      ]
     },
     "execution_count": 6,
     "metadata": {},
     "output_type": "execute_result"
    }
   ],
   "source": [
    "vec.resize(it - vec.begin());\n",
    "print(vec.begin(), vec.end());"
   ]
  },
  {
   "cell_type": "markdown",
   "metadata": {},
   "source": [
    "### lower_bound\n",
    "Dysponując posortowaną kolekcją, niekoniecznie unikalną, możemy zastosować *lower_bound*. Algorytm ten zwraca iterator do elementu nie mniejszego niż argument. Ma tę zaletę, że jego koszt jest logarytmiczny. Tzn. liczba operacji rośnie jak log(n)"
   ]
  },
  {
   "cell_type": "code",
   "execution_count": 1,
   "metadata": {},
   "outputs": [
    {
     "data": {
      "text/plain": []
     },
     "execution_count": 1,
     "metadata": {},
     "output_type": "execute_result"
    }
   ],
   "source": [
    "#include <iostream>\n",
    "#include <algorithm>\n",
    "#include <vector>\n",
    "using namespace std;\n",
    "\n",
    "int tab[] = {32, 32, 45, 45, 26, 26, 53, 53};\n",
    "vector<int> vec (tab, tab + 8);"
   ]
  },
  {
   "cell_type": "code",
   "execution_count": 2,
   "metadata": {},
   "outputs": [
    {
     "data": {
      "text/plain": [
       "(void) @0x7ff417600c30\n"
      ]
     },
     "execution_count": 2,
     "metadata": {},
     "output_type": "execute_result"
    }
   ],
   "source": [
    "sort(vec.begin(), vec.end());\n",
    "auto it = unique(vec.begin(), vec.end());\n",
    "vec.resize(it - vec.begin());"
   ]
  },
  {
   "cell_type": "code",
   "execution_count": 4,
   "metadata": {},
   "outputs": [
    {
     "name": "stdout",
     "output_type": "stream",
     "text": [
      " 26 32 45 53\n"
     ]
    },
    {
     "data": {
      "text/plain": [
       "(void) @0x7ff417600c30\n"
      ]
     },
     "execution_count": 4,
     "metadata": {},
     "output_type": "execute_result"
    }
   ],
   "source": [
    "print(vec.begin(), vec.end());"
   ]
  },
  {
   "cell_type": "code",
   "execution_count": 5,
   "metadata": {},
   "outputs": [
    {
     "data": {
      "text/plain": []
     },
     "execution_count": 5,
     "metadata": {},
     "output_type": "execute_result"
    }
   ],
   "source": [
    "auto l = lower_bound(vec.begin(), vec.end(), 32);\n",
    "auto u = upper_bound(vec.begin(), vec.end(), 32);"
   ]
  },
  {
   "cell_type": "markdown",
   "metadata": {},
   "source": [
    "Uwaga: *upper_bound* działa trochę inaczej, t. zwraca iterator do pierwszego większego elementu."
   ]
  },
  {
   "cell_type": "code",
   "execution_count": 6,
   "metadata": {},
   "outputs": [
    {
     "name": "stdout",
     "output_type": "stream",
     "text": [
      "1 2\n",
      "l Found!\n"
     ]
    },
    {
     "data": {
      "text/plain": []
     },
     "execution_count": 6,
     "metadata": {},
     "output_type": "execute_result"
    }
   ],
   "source": [
    "cout << l-vec.begin() << \" \" << u-vec.begin() << endl;\n",
    "if(*u == 32) cout << \"u Found!\" << endl;\n",
    "if(*l == 32) cout << \"l Found!\" << endl;"
   ]
  },
  {
   "cell_type": "markdown",
   "metadata": {},
   "source": [
    "### binary_search\n",
    "Jeżeli nie interesuje nas element, a jedynie jego obecność w kolekcji, zastosujemy *binary_seach*. Jak poprzednio działa na posortowanej kolekcji, niekoniecznie unikalnej. Koszt logarytmiczny."
   ]
  },
  {
   "cell_type": "code",
   "execution_count": 1,
   "metadata": {},
   "outputs": [
    {
     "data": {
      "text/plain": []
     },
     "execution_count": 1,
     "metadata": {},
     "output_type": "execute_result"
    }
   ],
   "source": [
    "#include <iostream>\n",
    "#include <algorithm>\n",
    "#include <vector>\n",
    "using namespace std;\n",
    "\n",
    "int tab[] = {32, 32, 45, 45, 26, 26, 53, 53};\n",
    "vector<int> vec (tab, tab + 8);"
   ]
  },
  {
   "cell_type": "code",
   "execution_count": 2,
   "metadata": {},
   "outputs": [
    {
     "data": {
      "text/plain": [
       "(void) @0x7f2a7a7fac30\n"
      ]
     },
     "execution_count": 2,
     "metadata": {},
     "output_type": "execute_result"
    }
   ],
   "source": [
    "sort(vec.begin(), vec.end());\n",
    "auto it = unique(vec.begin(), vec.end());\n",
    "vec.resize(it - vec.begin());"
   ]
  },
  {
   "cell_type": "code",
   "execution_count": 4,
   "metadata": {},
   "outputs": [
    {
     "name": "stdout",
     "output_type": "stream",
     "text": [
      "not found\n"
     ]
    },
    {
     "data": {
      "text/plain": []
     },
     "execution_count": 4,
     "metadata": {},
     "output_type": "execute_result"
    }
   ],
   "source": [
    "if(binary_search(vec.begin(), vec.end(), 44) )\n",
    "    cout <<\"Found!\\n\";\n",
    "else cout << \"not found\\n\";"
   ]
  },
  {
   "cell_type": "markdown",
   "metadata": {},
   "source": [
    "Można też wykorzystać funkcję (lub funktor) w celu opisania operacji porównania. Zastanów się nad realizacją problemu wyszukiwania przez *binary_seach* w kolekcji par wartości?"
   ]
  }
 ],
 "metadata": {
  "kernelspec": {
   "display_name": "C++11",
   "language": "C++",
   "name": "cling-cpp11"
  },
  "language_info": {
   "codemirror_mode": "c++",
   "file_extension": ".c++",
   "mimetype": "text/x-c++src",
   "name": "c++"
  }
 },
 "nbformat": 4,
 "nbformat_minor": 4
}
