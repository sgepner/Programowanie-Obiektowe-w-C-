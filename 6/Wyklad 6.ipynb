{
 "cells": [
  {
   "cell_type": "markdown",
   "metadata": {},
   "source": [
    "# Elementy biblioteki STL\n",
    "Wiemy już, że język C++ wprowadza wzorce i pozwala projektować nowe typy w oparciu o znane w czasie kompilacji argumenty (typy bądź wartości całkowite).\n",
    "\n",
    "Na podstawie mechanizmu szablonów stworzono bibliotekę STL (Standard Template Library), czyli standardową bibliotekę szablonów. Zawiera ona implementacje przeróżnych kontenerów (kolekcji) i algorytmów nieodłącznych w programowaniu. Można przyjąć, że jeżeli potrzeby nam jest jakiś podstawowy algorytm (sortowanie, wyszukiwanie, itp.) jego implementacja już w tej bibliotece się znajduje (i jest zapewne wydajniejsza niż to co wymyślimy sami).\n",
    "\n",
    "Przyjrzymy się dziś kilku z zawartych w bibliotece STL kontenerom i algorytmom."
   ]
  },
  {
   "cell_type": "markdown",
   "metadata": {},
   "source": [
    "## Iteratory\n",
    "Jest to koncept mający usprawnić, ułatwić i ujednolicić dostęp do elementów przechowywanych w kontenerach. W zamyśle użycie iteratora ma być uniezależnione od struktury samej kolekcji i trochę od niej samej.\n",
    "Praca przy użyciu iteratorów odbywać się będzie podobnie do działań na wskaźnikach. W szczególności dostęp do wartości odbywać się będzie przez operator \\*, operator będzie można inkrementować przez ++ czy porównywać przez !=.\n",
    "\n",
    "Ogólna składnia:"
   ]
  },
  {
   "cell_type": "code",
   "execution_count": null,
   "metadata": {},
   "outputs": [],
   "source": [
    "std :: nazwa_kolekcji<typ>::iterator nazwa_iteratora"
   ]
  },
  {
   "cell_type": "markdown",
   "metadata": {},
   "source": [
    "Podobnie jak w C wskaźnik do typu był nowym typem, tak tu iterator do elementu kolekcji jest typem (iterator do kolekcji iteratorów też).Podobnie jak w C wskaźnik do typu był nowym typem, tak tu iterator do elementu kolekcji jest typem (iterator do kolekcji iteratorów też).\n",
    "\n",
    "Iteratory pojawiają się w różnych odcieniach. Część wymieniona jest na slajdach do wykładu, a kompletną (i bierzącą listę) mogą państwo znaleźć na stronach z dokumentacją. My w zasadzie skorzystamy z kilku:\n",
    "* forward iterator: umożliwiają jedynie ruch do przodu (tylko inkrementacja)\n",
    "* bidirectional iterator: ruch w obie strony\n",
    "* random access: dowolny dostęp"
   ]
  },
  {
   "cell_type": "markdown",
   "metadata": {},
   "source": [
    "## Kontenery\n",
    "Są to obiekty przeznaczone do przechowywania danych. Przechowywać będziemy mogli zarówno typy proste (int, double ...), jak i złożone. Określone przy użyciu zaprogramowanych przez nas klas czy nawet same kontenery (kontenery w kontenerach).\n",
    "https://en.cppreference.com/w/cpp/container  \n",
    "https://www.cplusplus.com/reference/stl/\n",
    "\n",
    "Podstawowy podział kontenerów jest następujący:\n",
    "* sekwencyjne, czyli przechowujące elementy jeden za drógim, np. wektor, lista ...\n",
    "* asocjacyjne, czyli przechowujące pary zawierające klucz i wartość, np. mapa"
   ]
  },
  {
   "cell_type": "markdown",
   "metadata": {},
   "source": [
    "### Vector"
   ]
  },
  {
   "cell_type": "code",
   "execution_count": null,
   "metadata": {},
   "outputs": [],
   "source": []
  },
  {
   "cell_type": "markdown",
   "metadata": {},
   "source": [
    "### Lista"
   ]
  },
  {
   "cell_type": "markdown",
   "metadata": {},
   "source": [
    "### Para"
   ]
  },
  {
   "cell_type": "markdown",
   "metadata": {},
   "source": [
    "### Set"
   ]
  },
  {
   "cell_type": "markdown",
   "metadata": {},
   "source": [
    "### Mapa"
   ]
  },
  {
   "cell_type": "markdown",
   "metadata": {},
   "source": [
    "## Algorytmy\n",
    "Operacje takie jak sortowanie, wyszukiwanie, usuwanie kopii i wiele innych są często niezbędne do realizacji zadania programisty. Biblioteka standardowa oferuje zestaw \"standardowych\" algorytmów. Pełna ich lista jest dość długa, a tu przyjrzymy się tylko kilku. Dzięki zastosowaniu iteratorów algorytmy mogą działać w \"nieświadomości\" kontenera nad jakim pracują. Zazwyczaj przyjmować będą jedynie początek i koniec zakresu nad jakim mają pracować.\n",
    "\n",
    "https://en.cppreference.com/w/cpp/algorithm  \n",
    "https://www.cplusplus.com/reference/algorithm/"
   ]
  },
  {
   "cell_type": "markdown",
   "metadata": {},
   "source": [
    "### for_each"
   ]
  },
  {
   "cell_type": "markdown",
   "metadata": {},
   "source": [
    "### find"
   ]
  },
  {
   "cell_type": "markdown",
   "metadata": {},
   "source": [
    "### fill"
   ]
  },
  {
   "cell_type": "markdown",
   "metadata": {},
   "source": [
    "### sort"
   ]
  },
  {
   "cell_type": "markdown",
   "metadata": {},
   "source": [
    "### unique"
   ]
  },
  {
   "cell_type": "markdown",
   "metadata": {},
   "source": [
    "### lower_bound"
   ]
  },
  {
   "cell_type": "markdown",
   "metadata": {},
   "source": [
    "### binary_search"
   ]
  },
  {
   "cell_type": "code",
   "execution_count": null,
   "metadata": {},
   "outputs": [],
   "source": []
  }
 ],
 "metadata": {
  "kernelspec": {
   "display_name": "C++11",
   "language": "C++",
   "name": "cling-cpp11"
  },
  "language_info": {
   "codemirror_mode": "c++",
   "file_extension": ".c++",
   "mimetype": "text/x-c++src",
   "name": "c++"
  }
 },
 "nbformat": 4,
 "nbformat_minor": 4
}
