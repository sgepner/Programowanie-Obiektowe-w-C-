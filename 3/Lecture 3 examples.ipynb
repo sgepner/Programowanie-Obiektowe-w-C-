{
 "cells": [
  {
   "cell_type": "markdown",
   "metadata": {},
   "source": [
    "# Operatory\n",
    "Metody i funkcje, ktore dla wygody można wywolać na wzór operacji takich jak +,-,*,/ ale też =,+= itd.  \n",
    "W zasadzie mogą robić to co zamysli programista, ale ogólną zasada powinna być przewidywalność. To znaczy dodawanie nie powinno odejmować itd.\n",
    "\n"
   ]
  },
  {
   "cell_type": "code",
   "execution_count": 1,
   "metadata": {},
   "outputs": [
    {
     "data": {
      "text/plain": []
     },
     "execution_count": 1,
     "metadata": {},
     "output_type": "execute_result"
    }
   ],
   "source": [
    "#include <iostream>\n",
    "using namespace std;\n",
    "\n",
    "class foo{\n",
    "    public:\n",
    "    int a;\n",
    "};"
   ]
  },
  {
   "cell_type": "code",
   "execution_count": 3,
   "metadata": {},
   "outputs": [
    {
     "data": {
      "text/plain": []
     },
     "execution_count": 3,
     "metadata": {},
     "output_type": "execute_result"
    }
   ],
   "source": [
    "void op_pls(foo a)\n",
    "{\n",
    "    a.a*=-1;\n",
    "    cout << \"Wywołano operator + a=\" << a.a << \" \" << &a << endl;\n",
    "}"
   ]
  },
  {
   "cell_type": "code",
   "execution_count": 3,
   "metadata": {},
   "outputs": [
    {
     "data": {
      "text/plain": [
       "(int) 5\n"
      ]
     },
     "execution_count": 3,
     "metadata": {},
     "output_type": "execute_result"
    }
   ],
   "source": [
    "foo f1;\n",
    "f1.a = 5;"
   ]
  },
  {
   "cell_type": "code",
   "execution_count": 5,
   "metadata": {},
   "outputs": [
    {
     "name": "stdout",
     "output_type": "stream",
     "text": [
      "Wywołano operator + a=-5 0x7f0bcf7fcc68\n",
      "5 0x7f0be7e6e014\n"
     ]
    },
    {
     "data": {
      "text/plain": [
       "(std::basic_ostream<char, std::char_traits<char> >::__ostream_type &) @0x7f0be1d63e60\n"
      ]
     },
     "execution_count": 5,
     "metadata": {},
     "output_type": "execute_result"
    }
   ],
   "source": [
    "op_pls(f1);\n",
    "cout << f1.a << \" \" << &f1 << endl;"
   ]
  },
  {
   "cell_type": "code",
   "execution_count": 2,
   "metadata": {},
   "outputs": [
    {
     "name": "stderr",
     "output_type": "stream",
     "text": [
      "\u001b[1minput_line_4:3:1: \u001b[0m\u001b[0;1;31merror: \u001b[0m\u001b[1mfunction definition is not allowed here\u001b[0m\n",
      "{\n",
      "\u001b[0;1;32m^\n",
      "\u001b[0m"
     ]
    },
    {
     "ename": "ename",
     "evalue": "evalue",
     "output_type": "error",
     "traceback": []
    }
   ],
   "source": [
    "void operator+(foo a) //to zmienia tylko kopie!\n",
    "{\n",
    "  a.a*=-1;\n",
    "  cout << \"Wywołano operator + a=\" << a.a << endl;\n",
    "}"
   ]
  },
  {
   "cell_type": "code",
   "execution_count": 1,
   "metadata": {},
   "outputs": [
    {
     "name": "stderr",
     "output_type": "stream",
     "text": [
      "\u001b[1minput_line_3:7:16: \u001b[0m\u001b[0;1;31merror: \u001b[0m\u001b[1mC++ requires a type specifier for all declarations\u001b[0m\n",
      "    foo(const &foo f): a(f.a) {\n",
      "\u001b[0;1;32m        ~~~~~  ^\n",
      "\u001b[0m\u001b[1minput_line_3:7:20: \u001b[0m\u001b[0;1;31merror: \u001b[0m\u001b[1mexpected ')'\u001b[0m\n",
      "    foo(const &foo f): a(f.a) {\n",
      "\u001b[0;1;32m                   ^\n",
      "\u001b[0m\u001b[1minput_line_3:7:8: \u001b[0m\u001b[0;1;30mnote: \u001b[0mto match this '('\u001b[0m\n",
      "    foo(const &foo f): a(f.a) {\n",
      "\u001b[0;1;32m       ^\n",
      "\u001b[0m\u001b[1minput_line_3:7:26: \u001b[0m\u001b[0;1;31merror: \u001b[0m\u001b[1muse of undeclared identifier 'f'\u001b[0m\n",
      "    foo(const &foo f): a(f.a) {\n",
      "\u001b[0;1;32m                         ^\n",
      "\u001b[0m"
     ]
    },
    {
     "ename": "ename",
     "evalue": "evalue",
     "output_type": "error",
     "traceback": []
    }
   ],
   "source": [
    "#include <iostream>\n",
    "using namespace std;\n",
    "class foo{\n",
    "    public:\n",
    "    foo(int b) : a(b) {}\n",
    "    foo(const &foo f): a(f.a) {\n",
    "        cout << \" Jestem wielki konstruktor \" << endl;\n",
    "        //this->a = f.a;\n",
    "    }\n",
    "    \n",
    "    void print() { cout << a << endl; }\n",
    "\n",
    "    foo& operator=(const foo& f)\n",
    "    {\n",
    "        cout << \"operator = \" << f.a << \" \" << a << endl;\n",
    "        // Check for self assignment\n",
    "        if(this != &f)\n",
    "         a=f.a;\n",
    "        return *this;\n",
    "    }\n",
    "\n",
    "    private:\n",
    "    int a;\n",
    "};"
   ]
  },
  {
   "cell_type": "code",
   "execution_count": 2,
   "metadata": {},
   "outputs": [
    {
     "name": "stdout",
     "output_type": "stream",
     "text": [
      "5\n",
      "9\n"
     ]
    },
    {
     "data": {
      "text/plain": [
       "(void) @0x7f7571ff9ba8\n"
      ]
     },
     "execution_count": 2,
     "metadata": {},
     "output_type": "execute_result"
    }
   ],
   "source": [
    "foo f1(5), f2(9);\n",
    "f1.print();\n",
    "f2.print();"
   ]
  },
  {
   "cell_type": "code",
   "execution_count": 3,
   "metadata": {},
   "outputs": [
    {
     "data": {
      "text/plain": []
     },
     "execution_count": 3,
     "metadata": {},
     "output_type": "execute_result"
    }
   ],
   "source": [
    "foo f3 = f1; // a tu nie."
   ]
  },
  {
   "cell_type": "code",
   "execution_count": 4,
   "metadata": {},
   "outputs": [
    {
     "name": "stdout",
     "output_type": "stream",
     "text": [
      "5\n"
     ]
    },
    {
     "data": {
      "text/plain": [
       "(void) nullptr\n"
      ]
     },
     "execution_count": 4,
     "metadata": {},
     "output_type": "execute_result"
    }
   ],
   "source": [
    "f3.print();"
   ]
  },
  {
   "cell_type": "code",
   "execution_count": 5,
   "metadata": {},
   "outputs": [
    {
     "name": "stdout",
     "output_type": "stream",
     "text": [
      "e 9 5\n"
     ]
    },
    {
     "data": {
      "text/plain": [
       "(foo &) @0x7f758230501c\n"
      ]
     },
     "execution_count": 5,
     "metadata": {},
     "output_type": "execute_result"
    }
   ],
   "source": [
    "f3 = f2; // tu operator!"
   ]
  },
  {
   "cell_type": "code",
   "execution_count": 6,
   "metadata": {},
   "outputs": [
    {
     "name": "stdout",
     "output_type": "stream",
     "text": [
      "9\n"
     ]
    },
    {
     "data": {
      "text/plain": [
       "(void) nullptr\n"
      ]
     },
     "execution_count": 6,
     "metadata": {},
     "output_type": "execute_result"
    }
   ],
   "source": [
    "f3.print();"
   ]
  },
  {
   "cell_type": "code",
   "execution_count": null,
   "metadata": {},
   "outputs": [],
   "source": []
  }
 ],
 "metadata": {
  "kernelspec": {
   "display_name": "C++17",
   "language": "C++",
   "name": "cling-cpp17"
  },
  "language_info": {
   "codemirror_mode": "c++",
   "file_extension": ".c++",
   "mimetype": "text/x-c++src",
   "name": "c++"
  }
 },
 "nbformat": 4,
 "nbformat_minor": 2
}
