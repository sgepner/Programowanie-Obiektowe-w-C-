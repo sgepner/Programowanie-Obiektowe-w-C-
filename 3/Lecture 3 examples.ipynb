{
 "cells": [
  {
   "cell_type": "markdown",
   "metadata": {},
   "source": [
    "# Nowe słowa kluczowe\n",
    "Pokazaliśmy już kilka nowych konceptów wprowadzonych przez C++ w stosunku do C.  \n",
    "* klasy i operatory dostępu *public* i *private*\n",
    "* przestrzenie nazw *namespace*\n",
    "* operatory *new* i *delete*\n",
    "* referencje \\&\n",
    "* słowo kluczowe const\n",
    "\n",
    "Przyjżymy się *const* raz jeszcze, ponieważ może się ono pojawić w różnych kontekstach.\n",
    "* Przy deklaracji zmiennej:"
   ]
  },
  {
   "cell_type": "code",
   "execution_count": 1,
   "metadata": {},
   "outputs": [
    {
     "data": {
      "text/plain": []
     },
     "execution_count": 1,
     "metadata": {},
     "output_type": "execute_result"
    }
   ],
   "source": [
    "const double pi = 3.141592;"
   ]
  },
  {
   "cell_type": "markdown",
   "metadata": {},
   "source": [
    "Oznacza, że wartość tej zmiennej nie może być zmieniona przez programistę. Jest to weryfikowane w czasie kompilacji.  \n",
    "* w *argumencie* metody lub funkcji wraz z referencją:  \n",
    " *type fun_id(const type& arg_id)*  \n",
    " ozancza to, że argument nie zostanie zmieniony w wyniku działania funkcji\n",
    "* jako uzupełnienie typy metody zwracającej referencje:  \n",
    " *const type& fun_id()*  \n",
    " oznacza to, że zwraana referencja będie typu *const*, co nie pozwoli zmienić obiektu\n",
    "* Jako definicja metody *const*, czyli takiej, która nie modyfikuje obiektu  \n",
    " *type fun_id() const*  \n",
    " co znaczy, że metoda ta nie zmienia obiektu i może być wywołana dla obiektów const."
   ]
  },
  {
   "cell_type": "code",
   "execution_count": 1,
   "metadata": {},
   "outputs": [
    {
     "data": {
      "text/plain": []
     },
     "execution_count": 1,
     "metadata": {},
     "output_type": "execute_result"
    }
   ],
   "source": [
    "#include <iostream>\n",
    "using namespace std;\n",
    "\n",
    "class foobar{\n",
    "  public:\n",
    "    foobar()\n",
    "    {\n",
    "      cout << \"I am created with the default constructor\" << endl;  \n",
    "    }\n",
    "    foobar(const foobar& f) : a(f.a), b(f.b) // konstruktor kopiujący\n",
    "    {\n",
    "      cout << \"I am created with the copy constructor\" << endl;\n",
    "      print();\n",
    "    }\n",
    "    \n",
    "    const foobar& cThis()\n",
    "    {\n",
    "        return *this;\n",
    "    }\n",
    "    foobar& rThis()\n",
    "    {\n",
    "        return *this;\n",
    "    }\n",
    "    \n",
    "    void print() const\n",
    "    {\n",
    "      cout << a << \" \" << b << endl;\n",
    "    }\n",
    "  private:\n",
    "    int a;\n",
    "    int b;\n",
    "};"
   ]
  },
  {
   "cell_type": "code",
   "execution_count": 2,
   "metadata": {},
   "outputs": [
    {
     "name": "stdout",
     "output_type": "stream",
     "text": [
      "I am created with the default constructor\n",
      "I am created with the default constructor\n"
     ]
    },
    {
     "data": {
      "text/plain": []
     },
     "execution_count": 2,
     "metadata": {},
     "output_type": "execute_result"
    }
   ],
   "source": [
    "foobar f1, f2;"
   ]
  },
  {
   "cell_type": "code",
   "execution_count": 3,
   "metadata": {},
   "outputs": [
    {
     "data": {
      "text/plain": []
     },
     "execution_count": 3,
     "metadata": {},
     "output_type": "execute_result"
    }
   ],
   "source": [
    "const foobar& rfc = f1.cThis();\n",
    "foobar& fr = f1.rThis();"
   ]
  },
  {
   "cell_type": "code",
   "execution_count": 4,
   "metadata": {},
   "outputs": [
    {
     "name": "stdout",
     "output_type": "stream",
     "text": [
      "I am created with the copy constructor\n",
      "0 0\n"
     ]
    },
    {
     "data": {
      "text/plain": []
     },
     "execution_count": 4,
     "metadata": {},
     "output_type": "execute_result"
    }
   ],
   "source": [
    "foobar f3(f2);"
   ]
  },
  {
   "cell_type": "markdown",
   "metadata": {},
   "source": [
    "Uzupełnijmy teraz klasę foobar o metody dostępowe do atrybutów a i b. Wystawimy referencję oraz *const* referencję do a i b, oraz spróbujemy użyć tych metod w metodzie print."
   ]
  },
  {
   "cell_type": "code",
   "execution_count": 1,
   "metadata": {},
   "outputs": [
    {
     "data": {
      "text/plain": []
     },
     "execution_count": 1,
     "metadata": {},
     "output_type": "execute_result"
    }
   ],
   "source": [
    "#include <iostream>\n",
    "using namespace std;\n",
    "\n",
    "class foobar{\n",
    "  public:\n",
    "    foobar()\n",
    "    {\n",
    "      cout << \"I am created with the default constructor\" << endl;  \n",
    "    }\n",
    "    foobar(const foobar& f) : a(f.a), b(f.b) // konstruktor kopiujący\n",
    "    {\n",
    "      cout << \"I am created with the copy constructor\" << endl;\n",
    "      print();\n",
    "    }\n",
    "    \n",
    "    const foobar& cThis()\n",
    "    {\n",
    "        return *this;\n",
    "    }\n",
    "    foobar& rThis()\n",
    "    {\n",
    "        return *this;\n",
    "    }\n",
    "    \n",
    "    int& ra() {return a;}\n",
    "    int& rb() {return b;}\n",
    "    const int& ca() const {return a;}\n",
    "    const int& cb() const {return b;}\n",
    "    \n",
    "    void print() const\n",
    "    {\n",
    "      cout << this->ca() << \" \" << this->cb() << endl;\n",
    "    }\n",
    "  private:\n",
    "    int a;\n",
    "    int b;\n",
    "};"
   ]
  },
  {
   "cell_type": "code",
   "execution_count": 2,
   "metadata": {},
   "outputs": [
    {
     "name": "stdout",
     "output_type": "stream",
     "text": [
      "I am created with the default constructor\n"
     ]
    },
    {
     "data": {
      "text/plain": [
       "(int) 6\n"
      ]
     },
     "execution_count": 2,
     "metadata": {},
     "output_type": "execute_result"
    }
   ],
   "source": [
    "foobar f1;\n",
    "f1.ra() = 5; f1.rb() = 6;"
   ]
  },
  {
   "cell_type": "code",
   "execution_count": 3,
   "metadata": {},
   "outputs": [
    {
     "name": "stdout",
     "output_type": "stream",
     "text": [
      "5 6\n"
     ]
    },
    {
     "data": {
      "text/plain": [
       "(void) nullptr\n"
      ]
     },
     "execution_count": 3,
     "metadata": {},
     "output_type": "execute_result"
    }
   ],
   "source": [
    "f1.print();"
   ]
  },
  {
   "cell_type": "markdown",
   "metadata": {},
   "source": [
    "ale:"
   ]
  },
  {
   "cell_type": "code",
   "execution_count": 4,
   "metadata": {},
   "outputs": [
    {
     "name": "stderr",
     "output_type": "stream",
     "text": [
      "\u001b[1minput_line_7:2:10: \u001b[0m\u001b[0;1;31merror: \u001b[0m\u001b[1mcannot assign to return value because function 'ca' returns a const value\u001b[0m\n",
      " f1.ca() = 10;\n",
      "\u001b[0;1;32m ~~~~~~~ ^\n",
      "\u001b[0m\u001b[1minput_line_3:28:11: \u001b[0m\u001b[0;1;30mnote: \u001b[0mfunction 'ca' which returns const-qualified type 'const int &' declared here\u001b[0m\n",
      "    const int& ca() const {return a;}\n",
      "\u001b[0;1;32m          ^~~~\n",
      "\u001b[0m"
     ]
    },
    {
     "ename": "ename",
     "evalue": "evalue",
     "output_type": "error",
     "traceback": []
    }
   ],
   "source": [
    "f1.ca() = 10;"
   ]
  },
  {
   "cell_type": "markdown",
   "metadata": {},
   "source": [
    "## Zmienne statyczne\n",
    "Kolejnym, nie zupełnie nowym, bo istniejącym także w C słowem kluczowym jest *static*. W zależności od kontekstu static oznacza:\n",
    "1. Użyte poza funkcję oznacza, ze element tak oznaczony jest widoczny jedynie w pliku, w którym został zadeklarowany. Dotyczy funkcji i zmiennych (tu tego nie pokażemy).\n",
    "2. Zastosowane do zmiennej wewnątrz funkcji pozwala na zachowanie stanu zmiennej po zakończeniu funkcji i przy następnym jej wywołaniu.\n",
    "3. Zastosowane do atrybutu lub metody, powoduje, że tak oznaczony element jest współdzielony przez wszystkie instancje klasy. Uwaga,  inicjalizacja wykonywana jest poza ciałem klasy.\n",
    "\n",
    "Zaczniemy od przypadku 2:"
   ]
  },
  {
   "cell_type": "code",
   "execution_count": 1,
   "metadata": {},
   "outputs": [
    {
     "data": {
      "text/plain": []
     },
     "execution_count": 1,
     "metadata": {},
     "output_type": "execute_result"
    }
   ],
   "source": [
    "#include <iostream>\n",
    "using namespace std;"
   ]
  },
  {
   "cell_type": "code",
   "execution_count": 2,
   "metadata": {},
   "outputs": [
    {
     "data": {
      "text/plain": []
     },
     "execution_count": 2,
     "metadata": {},
     "output_type": "execute_result"
    }
   ],
   "source": [
    "void fun_with_static_variable()\n",
    "{\n",
    "    static int a = 0;\n",
    "    int b = 0;\n",
    "    ++a;\n",
    "    ++b;\n",
    "    cout << a << \" \" << b << endl;\n",
    "}"
   ]
  },
  {
   "cell_type": "code",
   "execution_count": 10,
   "metadata": {},
   "outputs": [
    {
     "name": "stdout",
     "output_type": "stream",
     "text": [
      "8 1\n"
     ]
    },
    {
     "data": {
      "text/plain": [
       "(void) nullptr\n"
      ]
     },
     "execution_count": 10,
     "metadata": {},
     "output_type": "execute_result"
    }
   ],
   "source": [
    "fun_with_static_variable()"
   ]
  },
  {
   "cell_type": "markdown",
   "metadata": {},
   "source": [
    "A teraz *static* w odniesieniu do atrybutu klasy:\n",
    "(niestety nie uda nam się tego pokazać w Jupyter ze względu na ograniczenia kernela. Ale jest przykład w materiałach do wykładu!)  \n",
    "* Współdzielone przez wszystkie instancje klasy\n",
    "* Inicjalizacja poza ciałem bez słówka static\n",
    "* Można użyć bez instancji klasy!\n",
    "* Można zmienić wartość"
   ]
  },
  {
   "cell_type": "code",
   "execution_count": 1,
   "metadata": {},
   "outputs": [
    {
     "data": {
      "text/plain": []
     },
     "execution_count": 1,
     "metadata": {},
     "output_type": "execute_result"
    }
   ],
   "source": [
    "#include <iostream>\n",
    "using namespace std;"
   ]
  },
  {
   "cell_type": "code",
   "execution_count": 2,
   "metadata": {},
   "outputs": [
    {
     "data": {
      "text/plain": []
     },
     "execution_count": 2,
     "metadata": {},
     "output_type": "execute_result"
    }
   ],
   "source": [
    "class foobar{\n",
    "  public:\n",
    "    static int a;\n",
    "    int b = 5;\n",
    "};\n",
    "int foobar::a = 9; // inicjalizacja poza cialem"
   ]
  },
  {
   "cell_type": "code",
   "execution_count": 1,
   "metadata": {
    "collapsed": true
   },
   "outputs": [
    {
     "name": "stderr",
     "output_type": "stream",
     "text": [
      "\u001b[1minput_line_3:7:16: \u001b[0m\u001b[0;1;31merror: \u001b[0m\u001b[1mstatic data member 'a' not allowed in local class 'foobar'\u001b[0m\n",
      "    static int a;\n",
      "\u001b[0;1;32m               ^\n",
      "\u001b[0m\u001b[1minput_line_3:12:11: \u001b[0m\u001b[0;1;31merror: \u001b[0m\u001b[1mfunction definition is not allowed here\u001b[0m\n",
      "int main(){\n",
      "\u001b[0;1;32m          ^\n",
      "\u001b[0m"
     ]
    },
    {
     "ename": "ename",
     "evalue": "evalue",
     "output_type": "error",
     "traceback": []
    }
   ],
   "source": [
    "int main(){\n",
    "  foobar f1, f2, f3;\n",
    "  cout << f1.a << endl;\n",
    "  // ale tez:\n",
    "  si = 4;\n",
    "  f2.a = 8;\n",
    "  cout << foobar::a << endl;\n",
    "  cout << &foobar::a << \" \" << &f1.a << \" \" << &f2.a << \" \" << &f3.a << endl;\n",
    "  cout << &f1.b << \" \" << &f2.b << \" \" << &f3.b << endl;\n",
    "}"
   ]
  },
  {
   "cell_type": "markdown",
   "metadata": {},
   "source": [
    "Ciekawa kombinacja wynika z zastosowania static i const:  \n",
    "(Jak poprzednio przykład w materiałach).\n",
    "* Współdzielone przez wszystkie instancje klasy\n",
    "* Inicjalizacja w ciele klasy\n",
    "* Można użyć bez instancji klasy!\n",
    "* Nie można zmienić wartości"
   ]
  },
  {
   "cell_type": "code",
   "execution_count": 1,
   "metadata": {},
   "outputs": [
    {
     "name": "stderr",
     "output_type": "stream",
     "text": [
      "\u001b[1minput_line_3:6:22: \u001b[0m\u001b[0;1;31merror: \u001b[0m\u001b[1mstatic data member 'a' not allowed in local class 'foobar'\u001b[0m\n",
      "    static const int a=9;\n",
      "\u001b[0;1;32m                     ^\n",
      "\u001b[0m"
     ]
    },
    {
     "ename": "ename",
     "evalue": "evalue",
     "output_type": "error",
     "traceback": []
    }
   ],
   "source": [
    "#include <iostream>\n",
    "using namespace std;\n",
    "class foobar{\n",
    "  public:\n",
    "    static const int a=9;\n",
    "    int b = 5;\n",
    "};"
   ]
  },
  {
   "cell_type": "markdown",
   "metadata": {},
   "source": [
    "Metody static:\n",
    "* Współdzielone przez wszystkie instancje klasy\n",
    "* Można użyć bez instancji klasy!\n",
    "* Może działać tylko na zmiennych, które są static (bo tylko one są znane!)\n",
    "\n",
    "(Uwaga jak wyżej)"
   ]
  },
  {
   "cell_type": "code",
   "execution_count": 1,
   "metadata": {},
   "outputs": [
    {
     "name": "stderr",
     "output_type": "stream",
     "text": [
      "\u001b[1minput_line_3:6:16: \u001b[0m\u001b[0;1;31merror: \u001b[0m\u001b[1mstatic data member 'a' not allowed in local class 'foobar'\u001b[0m\n",
      "    static int a;\n",
      "\u001b[0;1;32m               ^\n",
      "\u001b[0m\u001b[1minput_line_3:13:7: \u001b[0m\u001b[0;1;31merror: \u001b[0m\u001b[1minvalid use of member 'b' in static member function\u001b[0m\n",
      "      b = a;\n",
      "\u001b[0;1;32m      ^\n",
      "\u001b[0m"
     ]
    },
    {
     "ename": "ename",
     "evalue": "evalue",
     "output_type": "error",
     "traceback": []
    }
   ],
   "source": [
    "#include <iostream>\n",
    "using namespace std;\n",
    "class foobar{\n",
    "  public:\n",
    "    static int a;\n",
    "    int b;\n",
    "    \n",
    "    static void static_do(int new_d)\n",
    "    {\n",
    "      cout << \"a=\" << a << endl;\n",
    "      a = new_d;\n",
    "      b = a;\n",
    "    }\n",
    "};"
   ]
  },
  {
   "cell_type": "markdown",
   "metadata": {},
   "source": [
    "# Operatory\n",
    "Metody i funkcje, ktore dla wygody można wywolać na wzór operacji takich jak +,-,*,/ ale też =,+= itd.  \n",
    "W zasadzie mogą robić to co zamysli programista, ale ogólną zasada powinna być przewidywalność. To znaczy dodawanie nie powinno odejmować itd.\n",
    "\n",
    "Widzieliśmy już operator <<, służący do przekierowania wydruku do cout. Pokazaliśmy też, że tak naprawdę jest to pewn funcja:"
   ]
  },
  {
   "cell_type": "code",
   "execution_count": 1,
   "metadata": {},
   "outputs": [
    {
     "name": "stdout",
     "output_type": "stream",
     "text": [
      " My funny message! \n"
     ]
    },
    {
     "data": {
      "text/plain": [
       "(std::basic_ostream<char, std::char_traits<char> >::__ostream_type &) @0x7f3afa51b480\n"
      ]
     },
     "execution_count": 1,
     "metadata": {},
     "output_type": "execute_result"
    }
   ],
   "source": [
    "#include <iostream>\n",
    "using namespace std;\n",
    "cout << \" My funny message! \" <<endl;"
   ]
  },
  {
   "cell_type": "markdown",
   "metadata": {},
   "source": [
    "Albo inaczej:"
   ]
  },
  {
   "cell_type": "code",
   "execution_count": 2,
   "metadata": {},
   "outputs": [
    {
     "name": "stdout",
     "output_type": "stream",
     "text": [
      "My other message!"
     ]
    },
    {
     "data": {
      "text/plain": [
       "(std::basic_ostream<char, std::char_traits<char> > &) @0x7f3afa51b480\n"
      ]
     },
     "execution_count": 2,
     "metadata": {},
     "output_type": "execute_result"
    }
   ],
   "source": [
    "operator<<(cout, \"My other message!\");"
   ]
  },
  {
   "cell_type": "markdown",
   "metadata": {},
   "source": [
    "C++ daje nam mozliwość tworzenia własnych operatorów. Mogą być one *metodami klasy* lub niezależnymi funkcjami (z restrykcją co do dostępu do atrybutów klasy na której operują). Mogą być jedno (np. +a) jak i wielo argumentowe (a+b).  \n",
    "Ogólna składnia jest prawie taka jak zwykłej funkcji:"
   ]
  },
  {
   "cell_type": "code",
   "execution_count": null,
   "metadata": {},
   "outputs": [],
   "source": [
    "typ_zwracany operator@ (argumenty)\n",
    "{\n",
    "    // ciało\n",
    "}\n",
    "//wywołanie\n",
    "operator@(argumenty)"
   ]
  },
  {
   "cell_type": "markdown",
   "metadata": {},
   "source": [
    "Przykład (na razie stworzymy prostą funkcje)"
   ]
  },
  {
   "cell_type": "code",
   "execution_count": 1,
   "metadata": {},
   "outputs": [
    {
     "data": {
      "text/plain": []
     },
     "execution_count": 1,
     "metadata": {},
     "output_type": "execute_result"
    }
   ],
   "source": [
    "#include <iostream>\n",
    "using namespace std;\n",
    "\n",
    "class foo{\n",
    "    public:\n",
    "    int a;\n",
    "};"
   ]
  },
  {
   "cell_type": "code",
   "execution_count": 3,
   "metadata": {},
   "outputs": [
    {
     "data": {
      "text/plain": []
     },
     "execution_count": 3,
     "metadata": {},
     "output_type": "execute_result"
    }
   ],
   "source": [
    "void operator_dodawania(foo a)\n",
    "{\n",
    "    a.a+=1;\n",
    "    cout << \"Wywołano operator + a=\" << a.a << \" \" << &a << endl;\n",
    "    \n",
    "}"
   ]
  },
  {
   "cell_type": "code",
   "execution_count": 4,
   "metadata": {},
   "outputs": [
    {
     "data": {
      "text/plain": [
       "(int) 5\n"
      ]
     },
     "execution_count": 4,
     "metadata": {},
     "output_type": "execute_result"
    }
   ],
   "source": [
    "foo f1;\n",
    "f1.a = 5;"
   ]
  },
  {
   "cell_type": "code",
   "execution_count": 5,
   "metadata": {},
   "outputs": [
    {
     "name": "stdout",
     "output_type": "stream",
     "text": [
      "Wywołano operator + a=6 0x7fe6810bec58\n",
      "5 0x7fe688238014\n"
     ]
    },
    {
     "data": {
      "text/plain": [
       "(std::basic_ostream<char, std::char_traits<char> >::__ostream_type &) @0x7fe6860dc480\n"
      ]
     },
     "execution_count": 5,
     "metadata": {},
     "output_type": "execute_result"
    }
   ],
   "source": [
    "operator_dodawania(f1);\n",
    "cout << f1.a << \" \" << &f1.a << endl;"
   ]
  },
  {
   "cell_type": "markdown",
   "metadata": {},
   "source": [
    "Zauważamy, że tak napisana funkcja nie działa tak jakbyśmy chcieli. Jest tak oczywiście dlatego, że pracuje ona na kopii obiektu. Modyfikacja:"
   ]
  },
  {
   "cell_type": "code",
   "execution_count": 6,
   "metadata": {},
   "outputs": [
    {
     "data": {
      "text/plain": []
     },
     "execution_count": 6,
     "metadata": {},
     "output_type": "execute_result"
    }
   ],
   "source": [
    "void operator_dodawania2(foo& a)\n",
    "{\n",
    "    a.a+=1;\n",
    "    cout << \"Wywołano operator + a=\" << a.a << \" \" << &a << endl;\n",
    "    \n",
    "}"
   ]
  },
  {
   "cell_type": "code",
   "execution_count": 7,
   "metadata": {},
   "outputs": [
    {
     "name": "stdout",
     "output_type": "stream",
     "text": [
      "Wywołano operator + a=6 0x7fe688238014\n",
      "6 0x7fe688238014\n"
     ]
    },
    {
     "data": {
      "text/plain": [
       "(std::basic_ostream<char, std::char_traits<char> >::__ostream_type &) @0x7fe6860dc480\n"
      ]
     },
     "execution_count": 7,
     "metadata": {},
     "output_type": "execute_result"
    }
   ],
   "source": [
    "operator_dodawania2(f1);\n",
    "cout << f1.a << \" \" << &f1.a << endl;"
   ]
  },
  {
   "cell_type": "markdown",
   "metadata": {},
   "source": [
    "Analogicznie możemy zapisać funkcję będącą już operatorem (ale to zrobimy poza arkuszem, bo z jakiegoś powodu nie pozwala on na zdefiniowanie tu operatora)."
   ]
  },
  {
   "cell_type": "code",
   "execution_count": 1,
   "metadata": {},
   "outputs": [
    {
     "name": "stderr",
     "output_type": "stream",
     "text": [
      "\u001b[1minput_line_3:10:1: \u001b[0m\u001b[0;1;31merror: \u001b[0m\u001b[1mfunction definition is not allowed here\u001b[0m\n",
      "{\n",
      "\u001b[0;1;32m^\n",
      "\u001b[0m"
     ]
    },
    {
     "ename": "ename",
     "evalue": "evalue",
     "output_type": "error",
     "traceback": []
    }
   ],
   "source": [
    "void operator+(foo& a) //to zmienia tylko kopie!\n",
    "{\n",
    "    a.a+=1;\n",
    "    cout << \"Wywołano operator + a=\" << a.a << \" \" << &a << endl;\n",
    "}"
   ]
  },
  {
   "cell_type": "markdown",
   "metadata": {},
   "source": [
    "Spróbujemy teraz stworzyć operator dwuargumentowy (podobnie jak poprzednio musimy to zrobić poza arkuszem)."
   ]
  },
  {
   "cell_type": "code",
   "execution_count": 2,
   "metadata": {},
   "outputs": [
    {
     "name": "stderr",
     "output_type": "stream",
     "text": [
      "\u001b[1minput_line_4:3:1: \u001b[0m\u001b[0;1;31merror: \u001b[0m\u001b[1mfunction definition is not allowed here\u001b[0m\n",
      "{\n",
      "\u001b[0;1;32m^\n",
      "\u001b[0m"
     ]
    },
    {
     "ename": "ename",
     "evalue": "evalue",
     "output_type": "error",
     "traceback": []
    }
   ],
   "source": [
    "void operator+(foo& a, foo& b) //\n",
    "{\n",
    "  a.a = a.a + b.a;\n",
    "  cout << \"Wywołano operator + a=\" << a.a << endl;\n",
    "}"
   ]
  },
  {
   "cell_type": "markdown",
   "metadata": {},
   "source": [
    "Zwracamy uwagę, że nasze operatory nic nie zwracają, co więc miało by znaczyć c = a+b albo c = +a? (Poza tym nie określiliśmy operatora przyrównania =)."
   ]
  },
  {
   "cell_type": "markdown",
   "metadata": {},
   "source": [
    "## Operator =\n",
    "* Oczekujemy, że po zapisaniu a=b a będzie miało wartość b\n",
    "* Musi znajdować się w ciele klasy\n",
    "* Operator będzie zracał, aby umożliwić przypisanie łańcuchowe a = b = c"
   ]
  },
  {
   "cell_type": "code",
   "execution_count": null,
   "metadata": {},
   "outputs": [],
   "source": [
    "foo& operator=(const foo& f)\n",
    "{\n",
    "    if(this != &f) // Check for self assignment\n",
    "     a=f.a;\n",
    "    return *this; // return this object\n",
    "}"
   ]
  },
  {
   "cell_type": "code",
   "execution_count": 1,
   "metadata": {},
   "outputs": [
    {
     "data": {
      "text/plain": []
     },
     "execution_count": 1,
     "metadata": {},
     "output_type": "execute_result"
    }
   ],
   "source": [
    "#include <iostream>\n",
    "using namespace std;\n",
    "class foo{\n",
    "    public:\n",
    "    foo(int b) : a(b) {}\n",
    "    foo(const foo& f): a(f.a) {\n",
    "        cout << \" Jestem wielki konstruktor kopjujący\" << endl;\n",
    "        //this->a = f.a;\n",
    "    }\n",
    "    \n",
    "    void print() { cout << a << endl; }\n",
    "\n",
    "    foo& operator=(const foo& f)\n",
    "    {\n",
    "        cout << \"operator = \" << f.a << \" \" << a << endl;\n",
    "        // Check for self assignment\n",
    "        if(this != &f)\n",
    "         a=f.a;\n",
    "        return *this;\n",
    "    }\n",
    "\n",
    "    private:\n",
    "    int a;\n",
    "};"
   ]
  },
  {
   "cell_type": "markdown",
   "metadata": {},
   "source": [
    "## Operatory +=, -=, *= i /=\n",
    "Podobne do operatora =, z tymże:\n",
    "* Mogą być zarówno w ciele jak i poza klasą\n",
    "\n",
    "Zaczniemy od ich definicji w ciele klasy (poza i tak nie zadziała w arkuszu)"
   ]
  },
  {
   "cell_type": "code",
   "execution_count": 1,
   "metadata": {},
   "outputs": [
    {
     "data": {
      "text/plain": []
     },
     "execution_count": 1,
     "metadata": {},
     "output_type": "execute_result"
    }
   ],
   "source": [
    "#include <iostream>\n",
    "using namespace std;\n",
    "class foo{\n",
    "  public:\n",
    "      foo(int a) : a(a) {cout << \"parametric \" << a <<endl;}\n",
    "\n",
    "      void print() { cout << a << endl; }\n",
    "\n",
    "      foo& operator+=(const foo& f)\n",
    "      {\n",
    "        cout << \"+= \" << a << \" \" << f.a << endl;\n",
    "        // Check for self assignment\n",
    "        if(this != &f)\n",
    "         a+=f.a;\n",
    "        return *this;\n",
    "      }\n",
    "  private:\n",
    "      int a;\n",
    "};"
   ]
  },
  {
   "cell_type": "code",
   "execution_count": 2,
   "metadata": {},
   "outputs": [
    {
     "name": "stdout",
     "output_type": "stream",
     "text": [
      "parametric 5\n",
      "parametric 10\n"
     ]
    },
    {
     "data": {
      "text/plain": []
     },
     "execution_count": 2,
     "metadata": {},
     "output_type": "execute_result"
    }
   ],
   "source": [
    "foo f1(5), f2(10);"
   ]
  },
  {
   "cell_type": "code",
   "execution_count": 3,
   "metadata": {},
   "outputs": [
    {
     "name": "stdout",
     "output_type": "stream",
     "text": [
      "+= 5 10\n"
     ]
    },
    {
     "data": {
      "text/plain": [
       "(foo &) @0x7f89242ef014\n"
      ]
     },
     "execution_count": 3,
     "metadata": {},
     "output_type": "execute_result"
    }
   ],
   "source": [
    "f1+=f2;"
   ]
  },
  {
   "cell_type": "code",
   "execution_count": 6,
   "metadata": {},
   "outputs": [
    {
     "name": "stdout",
     "output_type": "stream",
     "text": [
      "15\n",
      "10\n"
     ]
    },
    {
     "data": {
      "text/plain": [
       "(void) @0x7f891d175c30\n"
      ]
     },
     "execution_count": 6,
     "metadata": {},
     "output_type": "execute_result"
    }
   ],
   "source": [
    "f1.print();\n",
    "f2.print();"
   ]
  },
  {
   "cell_type": "markdown",
   "metadata": {},
   "source": [
    "Poza ciałem (tu się nie da). Widzimy, że operator będzie miał problem z dostanie się do prywatnych atrybutów!"
   ]
  },
  {
   "cell_type": "code",
   "execution_count": 1,
   "metadata": {},
   "outputs": [
    {
     "name": "stderr",
     "output_type": "stream",
     "text": [
      "\u001b[1minput_line_3:23:1: \u001b[0m\u001b[0;1;31merror: \u001b[0m\u001b[1mfunction definition is not allowed here\u001b[0m\n",
      "{\n",
      "\u001b[0;1;32m^\n",
      "\u001b[0m"
     ]
    },
    {
     "ename": "ename",
     "evalue": "evalue",
     "output_type": "error",
     "traceback": []
    }
   ],
   "source": [
    "#include <iostream>\n",
    "using namespace std;\n",
    "class foo{\n",
    "  public:\n",
    "      foo(int a) : a(a) {cout << \"parametric \" << a <<endl;}\n",
    "\n",
    "      void print() { cout << a << endl; }\n",
    "\n",
    "      foo& operator+=(const foo& f)\n",
    "      {\n",
    "        cout << \"+= \" << a << \" \" << f.a << endl;\n",
    "        // Check for self assignment\n",
    "        if(this != &f)\n",
    "         a+=f.a;\n",
    "        return *this;\n",
    "      }\n",
    "  private:\n",
    "      int a;\n",
    "};\n",
    "\n",
    "foo& operator+=(const foo& f)\n",
    "{\n",
    "    cout << \"+= \" << a << \" \" << f.a << endl;\n",
    "    // Check for self assignment\n",
    "    if(this != &f)\n",
    "        a+=f.a;\n",
    "    return *this;\n",
    "}"
   ]
  },
  {
   "cell_type": "markdown",
   "metadata": {},
   "source": [
    "Nowe słowo kluczowe **friend**, służy do udzielenia dostępu do atrybutów prywatnych klasy."
   ]
  },
  {
   "cell_type": "code",
   "execution_count": 1,
   "metadata": {},
   "outputs": [
    {
     "name": "stderr",
     "output_type": "stream",
     "text": [
      "\u001b[1minput_line_3:20:15: \u001b[0m\u001b[0;1;31merror: \u001b[0m\u001b[1mno matching function found in local scope\u001b[0m\n",
      "  friend foo& operator-=(foo& l, const foo& r);\n",
      "\u001b[0;1;32m              ^~~~~~~~\n",
      "\u001b[0m\u001b[1minput_line_3:24:1: \u001b[0m\u001b[0;1;31merror: \u001b[0m\u001b[1mfunction definition is not allowed here\u001b[0m\n",
      "{\n",
      "\u001b[0;1;32m^\n",
      "\u001b[0m"
     ]
    },
    {
     "ename": "ename",
     "evalue": "evalue",
     "output_type": "error",
     "traceback": []
    }
   ],
   "source": [
    "#include <iostream>\n",
    "using namespace std;\n",
    "class foo{\n",
    "  public:\n",
    "  foo(int a) : a(a) {cout << \"parametric \" << a <<endl;}\n",
    "  void print() { cout << a << endl; }\n",
    "  \n",
    "  foo& operator+=(const foo& f)\n",
    "  {\n",
    "    cout << \"+= \" << a << \" \" << f.a << endl;\n",
    "    // Check for self assignment\n",
    "    if(this != &f)\n",
    "     a+=f.a;\n",
    "    return *this;\n",
    "  }\n",
    "  private:\n",
    "  int a;\n",
    "  \n",
    "  friend foo& operator-=(foo& l, const foo& r);\n",
    "};\n",
    "\n",
    "foo& operator-=(foo& l, const foo& r)\n",
    "{\n",
    "  cout << \"-= \" << l.a << \" \" << r.a << endl;\n",
    "  // Check for self assignment\n",
    "  l.a -= r.a;\n",
    "  return l;\n",
    "}"
   ]
  },
  {
   "cell_type": "markdown",
   "metadata": {},
   "source": [
    "## Operatory ++ i -- pre i postfix:\n",
    "Pamiętamy peracje typu i++ (lub ++i) zwiększające wartość inta o 1."
   ]
  },
  {
   "cell_type": "code",
   "execution_count": 4,
   "metadata": {},
   "outputs": [
    {
     "data": {
      "text/plain": []
     },
     "execution_count": 4,
     "metadata": {},
     "output_type": "execute_result"
    }
   ],
   "source": [
    "#include <iostream>\n",
    "using namespace std;"
   ]
  },
  {
   "cell_type": "code",
   "execution_count": 1,
   "metadata": {},
   "outputs": [
    {
     "data": {
      "text/plain": []
     },
     "execution_count": 1,
     "metadata": {},
     "output_type": "execute_result"
    }
   ],
   "source": [
    "int a = 5, b = 0;"
   ]
  },
  {
   "cell_type": "code",
   "execution_count": 2,
   "metadata": {},
   "outputs": [
    {
     "data": {
      "text/plain": [
       "(int) 6\n"
      ]
     },
     "execution_count": 2,
     "metadata": {},
     "output_type": "execute_result"
    }
   ],
   "source": [
    "b = ++a; "
   ]
  },
  {
   "cell_type": "code",
   "execution_count": 5,
   "metadata": {},
   "outputs": [
    {
     "name": "stdout",
     "output_type": "stream",
     "text": [
      "6 6\n"
     ]
    },
    {
     "data": {
      "text/plain": [
       "(std::basic_ostream<char, std::char_traits<char> >::__ostream_type &) @0x7f1783979480\n"
      ]
     },
     "execution_count": 5,
     "metadata": {},
     "output_type": "execute_result"
    }
   ],
   "source": [
    "cout << a << \" \" << b << endl;"
   ]
  },
  {
   "cell_type": "code",
   "execution_count": 6,
   "metadata": {},
   "outputs": [
    {
     "data": {
      "text/plain": [
       "(int) 0\n"
      ]
     },
     "execution_count": 6,
     "metadata": {},
     "output_type": "execute_result"
    }
   ],
   "source": [
    "a = 5, b = 0;"
   ]
  },
  {
   "cell_type": "code",
   "execution_count": 7,
   "metadata": {},
   "outputs": [
    {
     "data": {
      "text/plain": [
       "(int) 5\n"
      ]
     },
     "execution_count": 7,
     "metadata": {},
     "output_type": "execute_result"
    }
   ],
   "source": [
    "b = a++;"
   ]
  },
  {
   "cell_type": "code",
   "execution_count": 8,
   "metadata": {},
   "outputs": [
    {
     "name": "stdout",
     "output_type": "stream",
     "text": [
      "6 5\n"
     ]
    },
    {
     "data": {
      "text/plain": [
       "(std::basic_ostream<char, std::char_traits<char> >::__ostream_type &) @0x7f1783979480\n"
      ]
     },
     "execution_count": 8,
     "metadata": {},
     "output_type": "execute_result"
    }
   ],
   "source": [
    "cout << a << \" \" << b << endl;"
   ]
  },
  {
   "cell_type": "markdown",
   "metadata": {},
   "source": [
    "Możemy napisać takie operatory dla klasy foo. Mogą być metodami, lub zaprzyjaźnionymi funkcjami. Rozróżnimy je po dodatkowym argumencie int."
   ]
  },
  {
   "cell_type": "code",
   "execution_count": 1,
   "metadata": {},
   "outputs": [
    {
     "data": {
      "text/plain": []
     },
     "execution_count": 1,
     "metadata": {},
     "output_type": "execute_result"
    }
   ],
   "source": [
    "#include <iostream>\n",
    "using namespace std;\n",
    "class foo{\n",
    "  public:\n",
    "  foo(int a) : a(a) {cout << \"parametric \" << a <<endl;}\n",
    "  foo(const foo& f) : a(f.a) {cout << \"copy \" << a <<endl;}\n",
    "  void print() { cout << a << endl; }\n",
    "  \n",
    "  foo& operator++()\n",
    "  {\n",
    "    cout << \"++a works on this: \" << this << \" \" << a << endl;\n",
    "    ++a;\n",
    "    return *this;\n",
    "  }\n",
    "  foo operator++(int)\n",
    "  {\n",
    "    cout << \"a++ returns copy, and increments: \" << this << \" \" << a << endl;\n",
    "    foo tmp(*this);\n",
    "    ++tmp;\n",
    "    return tmp;\n",
    "  }\n",
    "\n",
    "  private:\n",
    "  int a;\n",
    "};"
   ]
  },
  {
   "cell_type": "code",
   "execution_count": 2,
   "metadata": {},
   "outputs": [
    {
     "name": "stdout",
     "output_type": "stream",
     "text": [
      "parametric 1\n",
      "parametric 2\n",
      "parametric 10\n"
     ]
    },
    {
     "data": {
      "text/plain": []
     },
     "execution_count": 2,
     "metadata": {},
     "output_type": "execute_result"
    }
   ],
   "source": [
    "foo f1(1), f2(2), f3(10);"
   ]
  },
  {
   "cell_type": "code",
   "execution_count": 3,
   "metadata": {},
   "outputs": [
    {
     "name": "stdout",
     "output_type": "stream",
     "text": [
      "++a works on this: 0x7f9bc8896014 1\n"
     ]
    },
    {
     "data": {
      "text/plain": [
       "(foo &) @0x7f9bc889601c\n"
      ]
     },
     "execution_count": 3,
     "metadata": {},
     "output_type": "execute_result"
    }
   ],
   "source": [
    "f3 = ++f1;"
   ]
  },
  {
   "cell_type": "code",
   "execution_count": 4,
   "metadata": {},
   "outputs": [
    {
     "name": "stdout",
     "output_type": "stream",
     "text": [
      "2\n"
     ]
    },
    {
     "data": {
      "text/plain": [
       "(void) nullptr\n"
      ]
     },
     "execution_count": 4,
     "metadata": {},
     "output_type": "execute_result"
    }
   ],
   "source": [
    "f3.print()"
   ]
  },
  {
   "cell_type": "markdown",
   "metadata": {},
   "source": [
    "Ta wersja tu nie zadziała."
   ]
  },
  {
   "cell_type": "code",
   "execution_count": null,
   "metadata": {},
   "outputs": [],
   "source": [
    "#include <iostream>\n",
    "using namespace std;\n",
    "class foo{\n",
    "  public:\n",
    "  foo(int a) : a(a) {cout << \"parametric \" << a <<endl;}\n",
    "  foo(const foo& f) : a(f.a) {cout << \"copy \" << a <<endl;}\n",
    "  void print() { cout << a << endl; }\n",
    "  \n",
    "  private:\n",
    "  int a;\n",
    "  \n",
    "  friend foo& operator++(foo& f);\n",
    "  friend foo operator++(foo& f, int);\n",
    "};\n",
    "\n",
    "foo& operator++(foo& f)\n",
    "{\n",
    "  ++f.a;\n",
    "  return f;\n",
    "}\n",
    "foo operator++(foo& f, int)\n",
    "{\n",
    "  foo tmp(f);\n",
    "  ++f;\n",
    "  return f;\n",
    "}"
   ]
  },
  {
   "cell_type": "markdown",
   "metadata": {},
   "source": [
    "## Operatory dwuargumentowe:\n",
    "Member function albo zaprzyjaźnienie"
   ]
  },
  {
   "cell_type": "code",
   "execution_count": null,
   "metadata": {},
   "outputs": [],
   "source": [
    "#include <iostream>\n",
    "using namespace std;\n",
    "class foo{\n",
    "  public:\n",
    "  foo(){cout << \"a\" <<endl;}\n",
    "  foo(int a) : a(a) {cout << \"b\" <<endl;}\n",
    "  foo(const foo& f) : a(f.a) {cout << \"c\" <<endl;}\n",
    "  \n",
    "  void print() { cout << a << endl; }\n",
    "  \n",
    "  private:\n",
    "  int a;\n",
    "  friend foo operator+(foo& a, foo& b);\n",
    "};\n",
    "foo operator+(foo& a, foo& b)\n",
    "{\n",
    "  foo tmp; tmp = a;\n",
    "  tmp.a += b.a;\n",
    "  cout << \"d\" <<endl;\n",
    "  return tmp;\n",
    "}"
   ]
  },
  {
   "cell_type": "markdown",
   "metadata": {},
   "source": [
    "## Operator <<\n",
    "Wygodnie jest sformatować sobie wyjście dla obiektów danej klasy:"
   ]
  },
  {
   "cell_type": "code",
   "execution_count": null,
   "metadata": {},
   "outputs": [],
   "source": [
    "#include <iostream>\n",
    "//using namespace std;\n",
    "class foo{\n",
    "  public:\n",
    "      foo(int a, int b) : a(a), b(b) {}\n",
    "  private:\n",
    "      int a;\n",
    "      int b;\n",
    "      friend std::ostream& operator<<(std::ostream& os, const foo& f);\n",
    "};\n",
    "\n",
    "std::ostream& operator<<(std::ostream& os, const foo& f)\n",
    "{\n",
    "    os << \"[\" << f.a << \", \" << f.b << \"]\";\n",
    "    return os;\n",
    "}"
   ]
  },
  {
   "cell_type": "markdown",
   "metadata": {},
   "source": [
    "## Obiekty funkcyjne - funktory\n",
    "są obiektami, które mozna wywoałć jak funkcję, uzyskujemy to przez zdefiniowanie operatora ():"
   ]
  },
  {
   "cell_type": "code",
   "execution_count": 1,
   "metadata": {},
   "outputs": [
    {
     "data": {
      "text/plain": []
     },
     "execution_count": 1,
     "metadata": {},
     "output_type": "execute_result"
    }
   ],
   "source": [
    "#include <iostream>\n",
    "\n",
    "class foo {\n",
    "  public:\n",
    "    foo (int x) : _x( x ) {}\n",
    "    \n",
    "    int operator() (int y) { return _x + y; }\n",
    "    int operator() (int a, int b, int c) {return _x + a + b - c;}\n",
    "  private:\n",
    "    int _x;\n",
    "};\n",
    " "
   ]
  },
  {
   "cell_type": "code",
   "execution_count": 2,
   "metadata": {},
   "outputs": [
    {
     "name": "stdout",
     "output_type": "stream",
     "text": [
      "11\n",
      "15\n"
     ]
    },
    {
     "data": {
      "text/plain": [
       "(int) 0\n"
      ]
     },
     "execution_count": 2,
     "metadata": {},
     "output_type": "execute_result"
    }
   ],
   "source": [
    "  foo f1(5);\n",
    "  foo f2(4);\n",
    "  std::cout << f1( 6 ) << std::endl;\n",
    "  std::cout << f2( 6, 7, 2 ) << std::endl;\n",
    "  return 0;"
   ]
  },
  {
   "cell_type": "code",
   "execution_count": null,
   "metadata": {},
   "outputs": [],
   "source": []
  }
 ],
 "metadata": {
  "kernelspec": {
   "display_name": "C++17",
   "language": "C++",
   "name": "cling-cpp17"
  },
  "language_info": {
   "codemirror_mode": "c++",
   "file_extension": ".c++",
   "mimetype": "text/x-c++src",
   "name": "c++"
  }
 },
 "nbformat": 4,
 "nbformat_minor": 2
}
